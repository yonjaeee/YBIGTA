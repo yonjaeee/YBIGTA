{
 "cells": [
  {
   "cell_type": "markdown",
   "metadata": {
    "id": "eU9gqjFNLzn_"
   },
   "source": [
    "# 회귀 과제\n",
    "21 Jan 2021(Thu)\n",
    "\n",
    "---\n",
    "\n",
    "마감 시간: **28 Jan 2021(Thu) 19:30**  \n",
    "제출 형식: 본인 Github에 다음과 같은 파일명으로 두 개의 파일을 업로드하시면 됩니다.  \n",
    "- 18기_학과명_이름.ipynb  \n",
    "- graduate_submission.csv"
   ]
  },
  {
   "cell_type": "markdown",
   "metadata": {
    "id": "lI_Syv8WPOY-"
   },
   "source": [
    "# 구글 드라이브 mount **(Colab을 사용하는 경우에만 해당)**\n",
    "Jupyter Notebook을 사용하시는 경우 이 부분은 무시하고 진행하시면 됩니다."
   ]
  },
  {
   "cell_type": "code",
   "execution_count": 1,
   "metadata": {
    "id": "B9EBLKXCtpjH"
   },
   "outputs": [
    {
     "ename": "ModuleNotFoundError",
     "evalue": "No module named 'google.colab'",
     "output_type": "error",
     "traceback": [
      "\u001b[1;31m---------------------------------------------------------------------------\u001b[0m",
      "\u001b[1;31mModuleNotFoundError\u001b[0m                       Traceback (most recent call last)",
      "\u001b[1;32m<ipython-input-1-4996ee3d8d09>\u001b[0m in \u001b[0;36m<module>\u001b[1;34m\u001b[0m\n\u001b[1;32m----> 1\u001b[1;33m \u001b[1;32mfrom\u001b[0m \u001b[0mgoogle\u001b[0m\u001b[1;33m.\u001b[0m\u001b[0mcolab\u001b[0m \u001b[1;32mimport\u001b[0m \u001b[0mdrive\u001b[0m\u001b[1;33m\u001b[0m\u001b[1;33m\u001b[0m\u001b[0m\n\u001b[0m\u001b[0;32m      2\u001b[0m \u001b[0mdrive\u001b[0m\u001b[1;33m.\u001b[0m\u001b[0mmount\u001b[0m\u001b[1;33m(\u001b[0m\u001b[1;34m'/content/gdrive'\u001b[0m\u001b[1;33m)\u001b[0m\u001b[1;33m\u001b[0m\u001b[1;33m\u001b[0m\u001b[0m\n",
      "\u001b[1;31mModuleNotFoundError\u001b[0m: No module named 'google.colab'"
     ]
    }
   ],
   "source": [
    "from google.colab import drive\n",
    "drive.mount('/content/gdrive')"
   ]
  },
  {
   "cell_type": "markdown",
   "metadata": {
    "id": "No9fyWe9LzoI"
   },
   "source": [
    "# 목표: 대학원 합격 확률 및 합격 여부 예측\n",
    "\n",
    "- 회귀: 학습 데이터로 선형 회귀, Ridge, Lasso를 통해 학습시켜 봅시다.\n",
    "\n",
    "- 분류: 학습 데이터의 합격 확률을 범주형 자료로 바꿔준 다음, 로지스틱 회귀를 통해 학습시켜 봅시다.\n",
    "\n",
    "완성된 모델로 테스트 데이터의 **합격 여부**를 예측해보세요. (합격 여부를 예측하는 것은 분류 문제입니다.)  \n",
    "아래의 빈칸(코드+서술 답안)을 모두 채워 넣어주시면 됩니다.  \n",
    "\"## TODO\"라고 적힌 부분에는 코드를 작성하여 주시고, \"A.\"라고 적힌 부분에는 서술 답안을 작성하여 주세요.  \n",
    "이를 모두 완성한 **(1) ipynb 파일**과 최종 예측을  **(2) csv 파일**로 저장하여 본인 Github에 업로드하시면 됩니다."
   ]
  },
  {
   "cell_type": "code",
   "execution_count": 1,
   "metadata": {
    "id": "CxB8Z4zKLzoJ"
   },
   "outputs": [],
   "source": [
    "# 패키지 불러오기\n",
    "import numpy as np\n",
    "import pandas as pd\n",
    "import seaborn as sns\n",
    "import matplotlib.pyplot as plt"
   ]
  },
  {
   "cell_type": "code",
   "execution_count": 2,
   "metadata": {
    "id": "32d8uA69LzoK"
   },
   "outputs": [],
   "source": [
    "# 경고 무시\n",
    "import warnings\n",
    "warnings.filterwarnings(action='ignore')"
   ]
  },
  {
   "cell_type": "markdown",
   "metadata": {
    "id": "gAsUjAOALzoK"
   },
   "source": [
    "# 데이터 로드 및 확인\n",
    "graduate_train.csv 파일과 graduate_test.csv 파일을 My Drive에 넣어주세요.  \n",
    "(Jupyter Notebook을 사용하시는 경우에는 graduate_train.csv 파일과 graduate_test.csv 파일 경로를 각각의 로컬 디렉토리 위치로 변경해주세요.)"
   ]
  },
  {
   "cell_type": "code",
   "execution_count": 3,
   "metadata": {
    "id": "VYP-y9K9LzoK"
   },
   "outputs": [
    {
     "name": "stdout",
     "output_type": "stream",
     "text": [
      "data size: (400, 8)\n"
     ]
    },
    {
     "data": {
      "text/html": [
       "<div>\n",
       "<style scoped>\n",
       "    .dataframe tbody tr th:only-of-type {\n",
       "        vertical-align: middle;\n",
       "    }\n",
       "\n",
       "    .dataframe tbody tr th {\n",
       "        vertical-align: top;\n",
       "    }\n",
       "\n",
       "    .dataframe thead th {\n",
       "        text-align: right;\n",
       "    }\n",
       "</style>\n",
       "<table border=\"1\" class=\"dataframe\">\n",
       "  <thead>\n",
       "    <tr style=\"text-align: right;\">\n",
       "      <th></th>\n",
       "      <th>GRE Score</th>\n",
       "      <th>TOEFL Score</th>\n",
       "      <th>University Rating</th>\n",
       "      <th>SOP</th>\n",
       "      <th>LOR</th>\n",
       "      <th>CGPA</th>\n",
       "      <th>Research</th>\n",
       "      <th>Chance of Admit</th>\n",
       "    </tr>\n",
       "  </thead>\n",
       "  <tbody>\n",
       "    <tr>\n",
       "      <th>0</th>\n",
       "      <td>310</td>\n",
       "      <td>105</td>\n",
       "      <td>2</td>\n",
       "      <td>3.0</td>\n",
       "      <td>3.5</td>\n",
       "      <td>8.01</td>\n",
       "      <td>No</td>\n",
       "      <td>0.71</td>\n",
       "    </tr>\n",
       "    <tr>\n",
       "      <th>1</th>\n",
       "      <td>307</td>\n",
       "      <td>105</td>\n",
       "      <td>2</td>\n",
       "      <td>2.5</td>\n",
       "      <td>4.5</td>\n",
       "      <td>8.12</td>\n",
       "      <td>Yes</td>\n",
       "      <td>0.67</td>\n",
       "    </tr>\n",
       "    <tr>\n",
       "      <th>2</th>\n",
       "      <td>329</td>\n",
       "      <td>111</td>\n",
       "      <td>4</td>\n",
       "      <td>4.5</td>\n",
       "      <td>4.0</td>\n",
       "      <td>9.01</td>\n",
       "      <td>Yes</td>\n",
       "      <td>0.81</td>\n",
       "    </tr>\n",
       "    <tr>\n",
       "      <th>3</th>\n",
       "      <td>300</td>\n",
       "      <td>105</td>\n",
       "      <td>1</td>\n",
       "      <td>1.0</td>\n",
       "      <td>2.0</td>\n",
       "      <td>7.80</td>\n",
       "      <td>No</td>\n",
       "      <td>0.58</td>\n",
       "    </tr>\n",
       "    <tr>\n",
       "      <th>4</th>\n",
       "      <td>329</td>\n",
       "      <td>114</td>\n",
       "      <td>5</td>\n",
       "      <td>4.0</td>\n",
       "      <td>5.0</td>\n",
       "      <td>9.30</td>\n",
       "      <td>Yes</td>\n",
       "      <td>0.86</td>\n",
       "    </tr>\n",
       "    <tr>\n",
       "      <th>5</th>\n",
       "      <td>300</td>\n",
       "      <td>104</td>\n",
       "      <td>3</td>\n",
       "      <td>3.5</td>\n",
       "      <td>3.0</td>\n",
       "      <td>8.16</td>\n",
       "      <td>No</td>\n",
       "      <td>0.71</td>\n",
       "    </tr>\n",
       "    <tr>\n",
       "      <th>6</th>\n",
       "      <td>318</td>\n",
       "      <td>103</td>\n",
       "      <td>3</td>\n",
       "      <td>4.0</td>\n",
       "      <td>4.5</td>\n",
       "      <td>8.49</td>\n",
       "      <td>Yes</td>\n",
       "      <td>0.71</td>\n",
       "    </tr>\n",
       "    <tr>\n",
       "      <th>7</th>\n",
       "      <td>322</td>\n",
       "      <td>110</td>\n",
       "      <td>4</td>\n",
       "      <td>4.0</td>\n",
       "      <td>5.0</td>\n",
       "      <td>9.13</td>\n",
       "      <td>Yes</td>\n",
       "      <td>0.86</td>\n",
       "    </tr>\n",
       "    <tr>\n",
       "      <th>8</th>\n",
       "      <td>315</td>\n",
       "      <td>105</td>\n",
       "      <td>2</td>\n",
       "      <td>2.0</td>\n",
       "      <td>2.5</td>\n",
       "      <td>7.65</td>\n",
       "      <td>No</td>\n",
       "      <td>0.39</td>\n",
       "    </tr>\n",
       "    <tr>\n",
       "      <th>9</th>\n",
       "      <td>332</td>\n",
       "      <td>119</td>\n",
       "      <td>4</td>\n",
       "      <td>5.0</td>\n",
       "      <td>4.5</td>\n",
       "      <td>9.24</td>\n",
       "      <td>Yes</td>\n",
       "      <td>0.90</td>\n",
       "    </tr>\n",
       "  </tbody>\n",
       "</table>\n",
       "</div>"
      ],
      "text/plain": [
       "   GRE Score  TOEFL Score  University Rating  SOP  LOR  CGPA Research  \\\n",
       "0        310          105                  2  3.0  3.5  8.01       No   \n",
       "1        307          105                  2  2.5  4.5  8.12      Yes   \n",
       "2        329          111                  4  4.5  4.0  9.01      Yes   \n",
       "3        300          105                  1  1.0  2.0  7.80       No   \n",
       "4        329          114                  5  4.0  5.0  9.30      Yes   \n",
       "5        300          104                  3  3.5  3.0  8.16       No   \n",
       "6        318          103                  3  4.0  4.5  8.49      Yes   \n",
       "7        322          110                  4  4.0  5.0  9.13      Yes   \n",
       "8        315          105                  2  2.0  2.5  7.65       No   \n",
       "9        332          119                  4  5.0  4.5  9.24      Yes   \n",
       "\n",
       "   Chance of Admit  \n",
       "0             0.71  \n",
       "1             0.67  \n",
       "2             0.81  \n",
       "3             0.58  \n",
       "4             0.86  \n",
       "5             0.71  \n",
       "6             0.71  \n",
       "7             0.86  \n",
       "8             0.39  \n",
       "9             0.90  "
      ]
     },
     "execution_count": 3,
     "metadata": {},
     "output_type": "execute_result"
    }
   ],
   "source": [
    "# train 데이터 불러오기\n",
    "df = pd.read_csv(\"graduate_train.csv\")\n",
    "\n",
    "# train 데이터 크기 확인\n",
    "print(\"data size:\", df.shape)\n",
    "\n",
    "# train 데이터 훑어보기\n",
    "df.head(10)"
   ]
  },
  {
   "cell_type": "code",
   "execution_count": 4,
   "metadata": {
    "id": "kv3NdZusLzoL",
    "scrolled": false
   },
   "outputs": [
    {
     "name": "stdout",
     "output_type": "stream",
     "text": [
      "data size: (100, 7)\n"
     ]
    },
    {
     "data": {
      "text/html": [
       "<div>\n",
       "<style scoped>\n",
       "    .dataframe tbody tr th:only-of-type {\n",
       "        vertical-align: middle;\n",
       "    }\n",
       "\n",
       "    .dataframe tbody tr th {\n",
       "        vertical-align: top;\n",
       "    }\n",
       "\n",
       "    .dataframe thead th {\n",
       "        text-align: right;\n",
       "    }\n",
       "</style>\n",
       "<table border=\"1\" class=\"dataframe\">\n",
       "  <thead>\n",
       "    <tr style=\"text-align: right;\">\n",
       "      <th></th>\n",
       "      <th>GRE Score</th>\n",
       "      <th>TOEFL Score</th>\n",
       "      <th>University Rating</th>\n",
       "      <th>SOP</th>\n",
       "      <th>LOR</th>\n",
       "      <th>CGPA</th>\n",
       "      <th>Research</th>\n",
       "    </tr>\n",
       "  </thead>\n",
       "  <tbody>\n",
       "    <tr>\n",
       "      <th>0</th>\n",
       "      <td>304</td>\n",
       "      <td>103</td>\n",
       "      <td>5</td>\n",
       "      <td>5.0</td>\n",
       "      <td>4.0</td>\n",
       "      <td>8.64</td>\n",
       "      <td>No</td>\n",
       "    </tr>\n",
       "    <tr>\n",
       "      <th>1</th>\n",
       "      <td>297</td>\n",
       "      <td>96</td>\n",
       "      <td>2</td>\n",
       "      <td>2.5</td>\n",
       "      <td>1.5</td>\n",
       "      <td>7.89</td>\n",
       "      <td>No</td>\n",
       "    </tr>\n",
       "    <tr>\n",
       "      <th>2</th>\n",
       "      <td>302</td>\n",
       "      <td>101</td>\n",
       "      <td>2</td>\n",
       "      <td>2.5</td>\n",
       "      <td>3.5</td>\n",
       "      <td>7.96</td>\n",
       "      <td>No</td>\n",
       "    </tr>\n",
       "    <tr>\n",
       "      <th>3</th>\n",
       "      <td>318</td>\n",
       "      <td>112</td>\n",
       "      <td>3</td>\n",
       "      <td>4.0</td>\n",
       "      <td>3.5</td>\n",
       "      <td>8.67</td>\n",
       "      <td>No</td>\n",
       "    </tr>\n",
       "    <tr>\n",
       "      <th>4</th>\n",
       "      <td>304</td>\n",
       "      <td>100</td>\n",
       "      <td>4</td>\n",
       "      <td>1.5</td>\n",
       "      <td>2.5</td>\n",
       "      <td>7.84</td>\n",
       "      <td>No</td>\n",
       "    </tr>\n",
       "    <tr>\n",
       "      <th>5</th>\n",
       "      <td>330</td>\n",
       "      <td>116</td>\n",
       "      <td>4</td>\n",
       "      <td>5.0</td>\n",
       "      <td>4.5</td>\n",
       "      <td>9.45</td>\n",
       "      <td>Yes</td>\n",
       "    </tr>\n",
       "    <tr>\n",
       "      <th>6</th>\n",
       "      <td>315</td>\n",
       "      <td>110</td>\n",
       "      <td>2</td>\n",
       "      <td>3.5</td>\n",
       "      <td>3.0</td>\n",
       "      <td>8.46</td>\n",
       "      <td>Yes</td>\n",
       "    </tr>\n",
       "    <tr>\n",
       "      <th>7</th>\n",
       "      <td>317</td>\n",
       "      <td>107</td>\n",
       "      <td>3</td>\n",
       "      <td>4.0</td>\n",
       "      <td>3.0</td>\n",
       "      <td>8.70</td>\n",
       "      <td>No</td>\n",
       "    </tr>\n",
       "    <tr>\n",
       "      <th>8</th>\n",
       "      <td>330</td>\n",
       "      <td>114</td>\n",
       "      <td>3</td>\n",
       "      <td>4.5</td>\n",
       "      <td>4.5</td>\n",
       "      <td>9.24</td>\n",
       "      <td>Yes</td>\n",
       "    </tr>\n",
       "    <tr>\n",
       "      <th>9</th>\n",
       "      <td>323</td>\n",
       "      <td>111</td>\n",
       "      <td>5</td>\n",
       "      <td>4.0</td>\n",
       "      <td>5.0</td>\n",
       "      <td>9.86</td>\n",
       "      <td>Yes</td>\n",
       "    </tr>\n",
       "  </tbody>\n",
       "</table>\n",
       "</div>"
      ],
      "text/plain": [
       "   GRE Score  TOEFL Score  University Rating  SOP  LOR  CGPA Research\n",
       "0        304          103                  5  5.0  4.0  8.64       No\n",
       "1        297           96                  2  2.5  1.5  7.89       No\n",
       "2        302          101                  2  2.5  3.5  7.96       No\n",
       "3        318          112                  3  4.0  3.5  8.67       No\n",
       "4        304          100                  4  1.5  2.5  7.84       No\n",
       "5        330          116                  4  5.0  4.5  9.45      Yes\n",
       "6        315          110                  2  3.5  3.0  8.46      Yes\n",
       "7        317          107                  3  4.0  3.0  8.70       No\n",
       "8        330          114                  3  4.5  4.5  9.24      Yes\n",
       "9        323          111                  5  4.0  5.0  9.86      Yes"
      ]
     },
     "execution_count": 4,
     "metadata": {},
     "output_type": "execute_result"
    }
   ],
   "source": [
    "# test 데이터 불러오기\n",
    "test = pd.read_csv(\"graduate_test.csv\")\n",
    "\n",
    "# test 데이터 크기 확인\n",
    "print(\"data size:\", test.shape)\n",
    "\n",
    "# test 데이터 훑어보기\n",
    "test.head(10)\n",
    "\n",
    "# test 데이터에는 'Chance of Admit'이 없습니다. 이 확률을 예측해보는 것이 과제입니다."
   ]
  },
  {
   "cell_type": "markdown",
   "metadata": {
    "id": "6ExYVssaLzoL"
   },
   "source": [
    "# 1. 결측치"
   ]
  },
  {
   "cell_type": "markdown",
   "metadata": {
    "id": "6q8hhS-ULzoL"
   },
   "source": [
    "데이터에 결측치가 있는지 확인해보세요."
   ]
  },
  {
   "cell_type": "code",
   "execution_count": 5,
   "metadata": {
    "id": "mxSoKLulLzoL"
   },
   "outputs": [
    {
     "data": {
      "text/plain": [
       "GRE Score            0.0\n",
       "TOEFL Score          0.0\n",
       "University Rating    0.0\n",
       "SOP                  0.0\n",
       "LOR                  0.0\n",
       "CGPA                 0.0\n",
       "Research             0.0\n",
       "Chance of Admit      0.0\n",
       "dtype: float64"
      ]
     },
     "execution_count": 5,
     "metadata": {},
     "output_type": "execute_result"
    }
   ],
   "source": [
    "## TODO\n",
    "(df.isnull().sum()/len(df)*100).sort_values(ascending=False)"
   ]
  },
  {
   "cell_type": "markdown",
   "metadata": {
    "id": "tymuetEVLzoM"
   },
   "source": [
    "Q. 데이터에 결측치가 있나요? 어떤 방법으로 처리하였나요?  \n",
    "A. 결측치가 없습니다."
   ]
  },
  {
   "cell_type": "markdown",
   "metadata": {
    "id": "2EQrNaMzLzoM"
   },
   "source": [
    "# 2. 범주형 변수"
   ]
  },
  {
   "cell_type": "markdown",
   "metadata": {
    "id": "ukXfwUXwLzoM"
   },
   "source": [
    "설명변수 중 범주형 변수가 존재하나요?  \n",
    "존재한다면 어떻게 처리해주어야 할까요?  \n",
    "**학습 데이터를 수정하는 경우 테스트 데이터도 그에 맞게 수정해주어야 된다는 점에 유의하세요.**"
   ]
  },
  {
   "cell_type": "code",
   "execution_count": 6,
   "metadata": {
    "id": "ctkoPnBFLzoM"
   },
   "outputs": [
    {
     "data": {
      "text/plain": [
       "GRE Score              int64\n",
       "TOEFL Score            int64\n",
       "University Rating      int64\n",
       "SOP                  float64\n",
       "LOR                  float64\n",
       "CGPA                 float64\n",
       "Research              object\n",
       "Chance of Admit      float64\n",
       "dtype: object"
      ]
     },
     "execution_count": 6,
     "metadata": {},
     "output_type": "execute_result"
    }
   ],
   "source": [
    "## TODO\n",
    "df.dtypes"
   ]
  },
  {
   "cell_type": "code",
   "execution_count": 7,
   "metadata": {},
   "outputs": [
    {
     "data": {
      "text/html": [
       "<div>\n",
       "<style scoped>\n",
       "    .dataframe tbody tr th:only-of-type {\n",
       "        vertical-align: middle;\n",
       "    }\n",
       "\n",
       "    .dataframe tbody tr th {\n",
       "        vertical-align: top;\n",
       "    }\n",
       "\n",
       "    .dataframe thead th {\n",
       "        text-align: right;\n",
       "    }\n",
       "</style>\n",
       "<table border=\"1\" class=\"dataframe\">\n",
       "  <thead>\n",
       "    <tr style=\"text-align: right;\">\n",
       "      <th></th>\n",
       "      <th>GRE Score</th>\n",
       "      <th>TOEFL Score</th>\n",
       "      <th>University Rating</th>\n",
       "      <th>SOP</th>\n",
       "      <th>LOR</th>\n",
       "      <th>CGPA</th>\n",
       "      <th>Chance of Admit</th>\n",
       "      <th>Research_No</th>\n",
       "      <th>Research_Yes</th>\n",
       "    </tr>\n",
       "  </thead>\n",
       "  <tbody>\n",
       "    <tr>\n",
       "      <th>0</th>\n",
       "      <td>310</td>\n",
       "      <td>105</td>\n",
       "      <td>2</td>\n",
       "      <td>3.0</td>\n",
       "      <td>3.5</td>\n",
       "      <td>8.01</td>\n",
       "      <td>0.71</td>\n",
       "      <td>1</td>\n",
       "      <td>0</td>\n",
       "    </tr>\n",
       "    <tr>\n",
       "      <th>1</th>\n",
       "      <td>307</td>\n",
       "      <td>105</td>\n",
       "      <td>2</td>\n",
       "      <td>2.5</td>\n",
       "      <td>4.5</td>\n",
       "      <td>8.12</td>\n",
       "      <td>0.67</td>\n",
       "      <td>0</td>\n",
       "      <td>1</td>\n",
       "    </tr>\n",
       "    <tr>\n",
       "      <th>2</th>\n",
       "      <td>329</td>\n",
       "      <td>111</td>\n",
       "      <td>4</td>\n",
       "      <td>4.5</td>\n",
       "      <td>4.0</td>\n",
       "      <td>9.01</td>\n",
       "      <td>0.81</td>\n",
       "      <td>0</td>\n",
       "      <td>1</td>\n",
       "    </tr>\n",
       "    <tr>\n",
       "      <th>3</th>\n",
       "      <td>300</td>\n",
       "      <td>105</td>\n",
       "      <td>1</td>\n",
       "      <td>1.0</td>\n",
       "      <td>2.0</td>\n",
       "      <td>7.80</td>\n",
       "      <td>0.58</td>\n",
       "      <td>1</td>\n",
       "      <td>0</td>\n",
       "    </tr>\n",
       "    <tr>\n",
       "      <th>4</th>\n",
       "      <td>329</td>\n",
       "      <td>114</td>\n",
       "      <td>5</td>\n",
       "      <td>4.0</td>\n",
       "      <td>5.0</td>\n",
       "      <td>9.30</td>\n",
       "      <td>0.86</td>\n",
       "      <td>0</td>\n",
       "      <td>1</td>\n",
       "    </tr>\n",
       "  </tbody>\n",
       "</table>\n",
       "</div>"
      ],
      "text/plain": [
       "   GRE Score  TOEFL Score  University Rating  SOP  LOR  CGPA  Chance of Admit  \\\n",
       "0        310          105                  2  3.0  3.5  8.01             0.71   \n",
       "1        307          105                  2  2.5  4.5  8.12             0.67   \n",
       "2        329          111                  4  4.5  4.0  9.01             0.81   \n",
       "3        300          105                  1  1.0  2.0  7.80             0.58   \n",
       "4        329          114                  5  4.0  5.0  9.30             0.86   \n",
       "\n",
       "   Research_No  Research_Yes  \n",
       "0            1             0  \n",
       "1            0             1  \n",
       "2            0             1  \n",
       "3            1             0  \n",
       "4            0             1  "
      ]
     },
     "execution_count": 7,
     "metadata": {},
     "output_type": "execute_result"
    }
   ],
   "source": [
    "df_dum = pd.get_dummies(data = df, columns = [\"Research\"])\n",
    "df_dum.head()"
   ]
  },
  {
   "cell_type": "code",
   "execution_count": 8,
   "metadata": {},
   "outputs": [],
   "source": [
    "df = df_dum"
   ]
  },
  {
   "cell_type": "markdown",
   "metadata": {
    "id": "RvuamBECLzoN"
   },
   "source": [
    "Q. 어떤 변수가 범주형인가요? 어떻게 처리해 주었나요?  \n",
    "A. \"Research\"변수가 범주형이어서 .get_dummies 메소드를 사용하여\n",
    "dummy 변수화 시켜줍니다."
   ]
  },
  {
   "cell_type": "markdown",
   "metadata": {
    "id": "ELLpIte3LzoN"
   },
   "source": [
    "# 3. 선형(Linear) 회귀"
   ]
  },
  {
   "cell_type": "code",
   "execution_count": 9,
   "metadata": {
    "id": "go7iVXmaLzoN"
   },
   "outputs": [],
   "source": [
    "# 먼저 데이터를 설명변수와 종속변수로 분리합니다.\n",
    "X = df.drop('Chance of Admit', axis=1)\n",
    "y = df['Chance of Admit']"
   ]
  },
  {
   "cell_type": "code",
   "execution_count": 10,
   "metadata": {
    "id": "8EHoXKvwLzoN"
   },
   "outputs": [],
   "source": [
    "# 데이터를 train과 test로 분리하여 사용합니다.\n",
    "from sklearn.model_selection import train_test_split\n",
    "X_train, X_test, y_train, y_test = train_test_split(X, y, test_size=0.2, random_state=1234)"
   ]
  },
  {
   "cell_type": "code",
   "execution_count": 11,
   "metadata": {
    "id": "1NWnrQpALzoN"
   },
   "outputs": [
    {
     "name": "stdout",
     "output_type": "stream",
     "text": [
      "training predictors size: (320, 8)\n",
      "training response size: (320,)\n",
      "test predictors size: (80, 8)\n",
      "test response size: (80,)\n"
     ]
    }
   ],
   "source": [
    "# 각각의 크기 확인\n",
    "print(\"training predictors size:\", X_train.shape)\n",
    "print(\"training response size:\", y_train.shape)\n",
    "print(\"test predictors size:\", X_test.shape)\n",
    "print(\"test response size:\", y_test.shape)"
   ]
  },
  {
   "cell_type": "markdown",
   "metadata": {
    "id": "aL1jjly2LzoO"
   },
   "source": [
    "### 3.1. scikit-learn으로 선형 회귀"
   ]
  },
  {
   "cell_type": "code",
   "execution_count": 12,
   "metadata": {
    "id": "ZiETNl1zLzoO"
   },
   "outputs": [],
   "source": [
    "from sklearn.linear_model import LinearRegression"
   ]
  },
  {
   "cell_type": "code",
   "execution_count": 13,
   "metadata": {
    "id": "meo5SRoBLzoO"
   },
   "outputs": [
    {
     "name": "stdout",
     "output_type": "stream",
     "text": [
      "Training R^2 : 0.83\n",
      "Testing R^2 : 0.77\n"
     ]
    }
   ],
   "source": [
    "# 1. 먼저 모델을 만들어 줍니다.\n",
    "## TODO\n",
    "linear = LinearRegression()\n",
    "\n",
    "# 2. 모델을 적합시킵니다.\n",
    "## TODO\n",
    "linear.fit(X_train, y_train)\n",
    "\n",
    "# 3. train 세트와 test 세트에서의 성능을 확인합니다. (이 경우 결정계수 R^2)\n",
    "## TODO\n",
    "print(\"Training R^2 : %.2f\" % linear.score(X_train, y_train))\n",
    "print(\"Testing R^2 : %.2f\" % linear.score(X_test, y_test))"
   ]
  },
  {
   "cell_type": "markdown",
   "metadata": {
    "id": "fIMiipaoLzoO"
   },
   "source": [
    "#### 3.1.1. 모델의 MSE와 R^2를 구해봅시다."
   ]
  },
  {
   "cell_type": "code",
   "execution_count": 14,
   "metadata": {
    "id": "cp7MbB5zLzoP"
   },
   "outputs": [],
   "source": [
    "from sklearn.metrics import mean_squared_error, r2_score"
   ]
  },
  {
   "cell_type": "code",
   "execution_count": 15,
   "metadata": {
    "id": "Y-uqZTxKLzoP"
   },
   "outputs": [
    {
     "name": "stdout",
     "output_type": "stream",
     "text": [
      "MSE : 0.0040\n",
      "R^2 : 0.7729\n"
     ]
    }
   ],
   "source": [
    "# 4. X_test로 y_pred를 만들어줍니다.\n",
    "## TODO\n",
    "y_pred = linear.predict(X_test)\n",
    "print('MSE : %.4f' % mean_squared_error(y_test, y_pred))\n",
    "print('R^2 : %.4f' % r2_score(y_test, y_pred))"
   ]
  },
  {
   "cell_type": "markdown",
   "metadata": {
    "id": "RENlNFn3LzoP"
   },
   "source": [
    "#### 3.1.2. 모델의 절편 계수를 확인해봅시다."
   ]
  },
  {
   "cell_type": "code",
   "execution_count": 16,
   "metadata": {
    "id": "gjB76NUNLzoP"
   },
   "outputs": [
    {
     "name": "stdout",
     "output_type": "stream",
     "text": [
      "intercept : -1.241942\n"
     ]
    }
   ],
   "source": [
    "## TODO\n",
    "print(\"intercept : %.6f\" % linear.intercept_)"
   ]
  },
  {
   "cell_type": "markdown",
   "metadata": {
    "id": "PtBtzTWALzoP"
   },
   "source": [
    "Q. 절편 계수의 의미는 무엇인가요?  \n",
    "A. 설명 변수들이 0의 값을 가질 때, 종속 변수의 값"
   ]
  },
  {
   "cell_type": "markdown",
   "metadata": {
    "id": "1k1Z3SYbLzoP"
   },
   "source": [
    "#### 3.1.3. 모델의 기울기 계수를 확인해 보세요."
   ]
  },
  {
   "cell_type": "code",
   "execution_count": 17,
   "metadata": {
    "id": "QuL165twLzoQ"
   },
   "outputs": [
    {
     "data": {
      "text/html": [
       "<div>\n",
       "<style scoped>\n",
       "    .dataframe tbody tr th:only-of-type {\n",
       "        vertical-align: middle;\n",
       "    }\n",
       "\n",
       "    .dataframe tbody tr th {\n",
       "        vertical-align: top;\n",
       "    }\n",
       "\n",
       "    .dataframe thead th {\n",
       "        text-align: right;\n",
       "    }\n",
       "</style>\n",
       "<table border=\"1\" class=\"dataframe\">\n",
       "  <thead>\n",
       "    <tr style=\"text-align: right;\">\n",
       "      <th></th>\n",
       "      <th>slope</th>\n",
       "    </tr>\n",
       "  </thead>\n",
       "  <tbody>\n",
       "    <tr>\n",
       "      <th>Research_No</th>\n",
       "      <td>-0.013241</td>\n",
       "    </tr>\n",
       "    <tr>\n",
       "      <th>GRE Score</th>\n",
       "      <td>0.001640</td>\n",
       "    </tr>\n",
       "    <tr>\n",
       "      <th>University Rating</th>\n",
       "      <td>0.002748</td>\n",
       "    </tr>\n",
       "    <tr>\n",
       "      <th>TOEFL Score</th>\n",
       "      <td>0.003606</td>\n",
       "    </tr>\n",
       "    <tr>\n",
       "      <th>SOP</th>\n",
       "      <td>0.007253</td>\n",
       "    </tr>\n",
       "    <tr>\n",
       "      <th>Research_Yes</th>\n",
       "      <td>0.013241</td>\n",
       "    </tr>\n",
       "    <tr>\n",
       "      <th>LOR</th>\n",
       "      <td>0.017343</td>\n",
       "    </tr>\n",
       "    <tr>\n",
       "      <th>CGPA</th>\n",
       "      <td>0.112079</td>\n",
       "    </tr>\n",
       "  </tbody>\n",
       "</table>\n",
       "</div>"
      ],
      "text/plain": [
       "                      slope\n",
       "Research_No       -0.013241\n",
       "GRE Score          0.001640\n",
       "University Rating  0.002748\n",
       "TOEFL Score        0.003606\n",
       "SOP                0.007253\n",
       "Research_Yes       0.013241\n",
       "LOR                0.017343\n",
       "CGPA               0.112079"
      ]
     },
     "execution_count": 17,
     "metadata": {},
     "output_type": "execute_result"
    }
   ],
   "source": [
    "## TODO\n",
    "beta = pd.DataFrame(linear.coef_, index = X.columns, columns = [\"slope\"])\n",
    "beta.sort_values(\"slope\")"
   ]
  },
  {
   "cell_type": "markdown",
   "metadata": {
    "id": "iBS0dVQULzoQ"
   },
   "source": [
    "Q. 기울기 계수의 의미는 무엇인가요? 어떤 예측변인이 대학원 합격 확률과 유의미한 관계를 가지고 있으며 이것을 어떻게 해석할 수 있나요?  \n",
    "A. 기울기 계수는 해당 설명 변수와 종속 변수의 관계를 보여주는데, 계수의 절대값이 클수록 상관관계가 크다고 볼 수 있다. 위의 예측변인들 중에서 CGPA가 기울기 계수의 절대값이 가장 큰 것으로 나타나는데(다른 값들과 최소 6배가량 차이)대학원 합격확률에 가장 유의미한 관계를 가지고 있는데 양의 값을 띄므로 해당 예측변인이 대학원 합격 확률에 양적 상관관계를 띈다고 볼 수 있다. "
   ]
  },
  {
   "cell_type": "markdown",
   "metadata": {
    "id": "9PI6NLMCLzoQ"
   },
   "source": [
    "#### 3.1.4. 연속형 설명변수 중 하나를 골라 종속변수와의 관계를 scatter plot으로 그려 보세요."
   ]
  },
  {
   "cell_type": "code",
   "execution_count": 18,
   "metadata": {
    "id": "AWSYGxUDLzoQ",
    "scrolled": true
   },
   "outputs": [
    {
     "data": {
      "text/plain": [
       "<AxesSubplot:xlabel='CGPA', ylabel='Chance of Admit'>"
      ]
     },
     "execution_count": 18,
     "metadata": {},
     "output_type": "execute_result"
    },
    {
     "data": {
      "image/png": "[encoded data removed]",
      "text/plain": [
       "<Figure size 432x288 with 1 Axes>"
      ]
     },
     "metadata": {
      "needs_background": "light"
     },
     "output_type": "display_data"
    }
   ],
   "source": [
    "## TODO\n",
    "sns.scatterplot(X_train['CGPA'], y_train)"
   ]
  },
  {
   "cell_type": "markdown",
   "metadata": {
    "id": "6Tmr_FxuLzoQ"
   },
   "source": [
    "#### 3.1.5. 범주형 설명변수와 종속변수의 관계를 box plot으로 그려 보세요."
   ]
  },
  {
   "cell_type": "code",
   "execution_count": 19,
   "metadata": {
    "id": "7FBIR7INLzoQ",
    "scrolled": true
   },
   "outputs": [
    {
     "data": {
      "text/plain": [
       "<AxesSubplot:xlabel='Research_Yes', ylabel='Chance of Admit'>"
      ]
     },
     "execution_count": 19,
     "metadata": {},
     "output_type": "execute_result"
    },
    {
     "data": {
      "image/png": "[encoded data removed]",
      "text/plain": [
       "<Figure size 432x288 with 1 Axes>"
      ]
     },
     "metadata": {
      "needs_background": "light"
     },
     "output_type": "display_data"
    }
   ],
   "source": [
    "## TODO\n",
    "sns.boxplot(X_train['Research_Yes'], y_train)"
   ]
  },
  {
   "cell_type": "markdown",
   "metadata": {
    "id": "2rTH7VlnLzoR"
   },
   "source": [
    "### 3.2. StatsModels로 선형 회귀 시행하기"
   ]
  },
  {
   "cell_type": "code",
   "execution_count": 20,
   "metadata": {
    "id": "c6uzmVC5LzoR"
   },
   "outputs": [],
   "source": [
    "import statsmodels.api as sm"
   ]
  },
  {
   "cell_type": "code",
   "execution_count": 21,
   "metadata": {
    "id": "9hqrkhXrLzoR",
    "scrolled": false
   },
   "outputs": [
    {
     "data": {
      "text/html": [
       "<table class=\"simpletable\">\n",
       "<caption>OLS Regression Results</caption>\n",
       "<tr>\n",
       "  <th>Dep. Variable:</th>     <td>Chance of Admit</td> <th>  R-squared:         </th> <td>   0.826</td> \n",
       "</tr>\n",
       "<tr>\n",
       "  <th>Model:</th>                   <td>OLS</td>       <th>  Adj. R-squared:    </th> <td>   0.822</td> \n",
       "</tr>\n",
       "<tr>\n",
       "  <th>Method:</th>             <td>Least Squares</td>  <th>  F-statistic:       </th> <td>   211.6</td> \n",
       "</tr>\n",
       "<tr>\n",
       "  <th>Date:</th>             <td>Sat, 23 Jan 2021</td> <th>  Prob (F-statistic):</th> <td>1.99e-114</td>\n",
       "</tr>\n",
       "<tr>\n",
       "  <th>Time:</th>                 <td>06:05:11</td>     <th>  Log-Likelihood:    </th> <td>  449.18</td> \n",
       "</tr>\n",
       "<tr>\n",
       "  <th>No. Observations:</th>      <td>   320</td>      <th>  AIC:               </th> <td>  -882.4</td> \n",
       "</tr>\n",
       "<tr>\n",
       "  <th>Df Residuals:</th>          <td>   312</td>      <th>  BIC:               </th> <td>  -852.2</td> \n",
       "</tr>\n",
       "<tr>\n",
       "  <th>Df Model:</th>              <td>     7</td>      <th>                     </th>     <td> </td>    \n",
       "</tr>\n",
       "<tr>\n",
       "  <th>Covariance Type:</th>      <td>nonrobust</td>    <th>                     </th>     <td> </td>    \n",
       "</tr>\n",
       "</table>\n",
       "<table class=\"simpletable\">\n",
       "<tr>\n",
       "          <td></td>             <th>coef</th>     <th>std err</th>      <th>t</th>      <th>P>|t|</th>  <th>[0.025</th>    <th>0.975]</th>  \n",
       "</tr>\n",
       "<tr>\n",
       "  <th>GRE Score</th>         <td>    0.0016</td> <td>    0.001</td> <td>    2.571</td> <td> 0.011</td> <td>    0.000</td> <td>    0.003</td>\n",
       "</tr>\n",
       "<tr>\n",
       "  <th>TOEFL Score</th>       <td>    0.0036</td> <td>    0.001</td> <td>    3.161</td> <td> 0.002</td> <td>    0.001</td> <td>    0.006</td>\n",
       "</tr>\n",
       "<tr>\n",
       "  <th>University Rating</th> <td>    0.0027</td> <td>    0.005</td> <td>    0.582</td> <td> 0.561</td> <td>   -0.007</td> <td>    0.012</td>\n",
       "</tr>\n",
       "<tr>\n",
       "  <th>SOP</th>               <td>    0.0073</td> <td>    0.006</td> <td>    1.273</td> <td> 0.204</td> <td>   -0.004</td> <td>    0.018</td>\n",
       "</tr>\n",
       "<tr>\n",
       "  <th>LOR</th>               <td>    0.0173</td> <td>    0.005</td> <td>    3.391</td> <td> 0.001</td> <td>    0.007</td> <td>    0.027</td>\n",
       "</tr>\n",
       "<tr>\n",
       "  <th>CGPA</th>              <td>    0.1121</td> <td>    0.012</td> <td>    9.237</td> <td> 0.000</td> <td>    0.088</td> <td>    0.136</td>\n",
       "</tr>\n",
       "<tr>\n",
       "  <th>Research_No</th>       <td>   -1.2552</td> <td>    0.132</td> <td>   -9.498</td> <td> 0.000</td> <td>   -1.515</td> <td>   -0.995</td>\n",
       "</tr>\n",
       "<tr>\n",
       "  <th>Research_Yes</th>      <td>   -1.2287</td> <td>    0.136</td> <td>   -9.065</td> <td> 0.000</td> <td>   -1.495</td> <td>   -0.962</td>\n",
       "</tr>\n",
       "</table>\n",
       "<table class=\"simpletable\">\n",
       "<tr>\n",
       "  <th>Omnibus:</th>       <td>72.061</td> <th>  Durbin-Watson:     </th> <td>   1.968</td>\n",
       "</tr>\n",
       "<tr>\n",
       "  <th>Prob(Omnibus):</th> <td> 0.000</td> <th>  Jarque-Bera (JB):  </th> <td> 163.598</td>\n",
       "</tr>\n",
       "<tr>\n",
       "  <th>Skew:</th>          <td>-1.110</td> <th>  Prob(JB):          </th> <td>2.99e-36</td>\n",
       "</tr>\n",
       "<tr>\n",
       "  <th>Kurtosis:</th>      <td> 5.710</td> <th>  Cond. No.          </th> <td>1.88e+04</td>\n",
       "</tr>\n",
       "</table><br/><br/>Warnings:<br/>[1] Standard Errors assume that the covariance matrix of the errors is correctly specified.<br/>[2] The condition number is large, 1.88e+04. This might indicate that there are<br/>strong multicollinearity or other numerical problems."
      ],
      "text/plain": [
       "<class 'statsmodels.iolib.summary.Summary'>\n",
       "\"\"\"\n",
       "                            OLS Regression Results                            \n",
       "==============================================================================\n",
       "Dep. Variable:        Chance of Admit   R-squared:                       0.826\n",
       "Model:                            OLS   Adj. R-squared:                  0.822\n",
       "Method:                 Least Squares   F-statistic:                     211.6\n",
       "Date:                Sat, 23 Jan 2021   Prob (F-statistic):          1.99e-114\n",
       "Time:                        06:05:11   Log-Likelihood:                 449.18\n",
       "No. Observations:                 320   AIC:                            -882.4\n",
       "Df Residuals:                     312   BIC:                            -852.2\n",
       "Df Model:                           7                                         \n",
       "Covariance Type:            nonrobust                                         \n",
       "=====================================================================================\n",
       "                        coef    std err          t      P>|t|      [0.025      0.975]\n",
       "-------------------------------------------------------------------------------------\n",
       "GRE Score             0.0016      0.001      2.571      0.011       0.000       0.003\n",
       "TOEFL Score           0.0036      0.001      3.161      0.002       0.001       0.006\n",
       "University Rating     0.0027      0.005      0.582      0.561      -0.007       0.012\n",
       "SOP                   0.0073      0.006      1.273      0.204      -0.004       0.018\n",
       "LOR                   0.0173      0.005      3.391      0.001       0.007       0.027\n",
       "CGPA                  0.1121      0.012      9.237      0.000       0.088       0.136\n",
       "Research_No          -1.2552      0.132     -9.498      0.000      -1.515      -0.995\n",
       "Research_Yes         -1.2287      0.136     -9.065      0.000      -1.495      -0.962\n",
       "==============================================================================\n",
       "Omnibus:                       72.061   Durbin-Watson:                   1.968\n",
       "Prob(Omnibus):                  0.000   Jarque-Bera (JB):              163.598\n",
       "Skew:                          -1.110   Prob(JB):                     2.99e-36\n",
       "Kurtosis:                       5.710   Cond. No.                     1.88e+04\n",
       "==============================================================================\n",
       "\n",
       "Warnings:\n",
       "[1] Standard Errors assume that the covariance matrix of the errors is correctly specified.\n",
       "[2] The condition number is large, 1.88e+04. This might indicate that there are\n",
       "strong multicollinearity or other numerical problems.\n",
       "\"\"\""
      ]
     },
     "execution_count": 21,
     "metadata": {},
     "output_type": "execute_result"
    }
   ],
   "source": [
    "## TODO\n",
    "model = sm.OLS(y_train, X_train)\n",
    "results = model.fit()\n",
    "results.summary()"
   ]
  },
  {
   "cell_type": "markdown",
   "metadata": {
    "id": "Vsmwmmn2LzoR"
   },
   "source": [
    "Q. R^2와 F-statistic을 고려해 볼 때, 이 모델은 좋은 모델이라고 볼 수 있나요?  \n",
    "A. R^2값이 1에 가깝고 F-statistic으로 찾은 p-value가 0.05에 비해 현저히 작으므로 이 모델은 좋은 모델이라고 볼 수 있다. "
   ]
  },
  {
   "cell_type": "markdown",
   "metadata": {
    "id": "BnbzqDp-LzoR"
   },
   "source": [
    "Q. 계수에 대한 가설 검정 결과를 바탕으로 'University Rating'이 대학원 합격률에 미치는 영향을 어떻게 해석할 수 있을까요?  \n",
    "A. 'University Rating'의 t-test에 대한 신뢰검정 구간 관측한 coefficient값이 속하므로 coefficient가 0이라는 귀무가설이 기각되지 않는다. 따라서 'University Rating'은 대학원 합격률에 영향을 주지 않는다고 해석할 수 있다."
   ]
  },
  {
   "cell_type": "markdown",
   "metadata": {
    "id": "NMeP1XG_LzoS"
   },
   "source": [
    "# 4. Ridge, Lasso 회귀"
   ]
  },
  {
   "cell_type": "markdown",
   "metadata": {
    "id": "L2s42qvnLzoS"
   },
   "source": [
    "이번에는 scikit-learn으로 Ridge와 Lasso를 시도해 보세요.  \n",
    "**가장 적절한 수준의 alpha를 찾아 모델에 적용해 보세요.**  \n",
    "(힌트: cross-validation을 사용하세요.)  \n",
    "(참고자료:\n",
    "https://scikit-learn.org/stable/modules/generated/sklearn.linear_model.RidgeCV.html  \n",
    "https://scikit-learn.org/stable/modules/generated/sklearn.linear_model.LassoCV.html)"
   ]
  },
  {
   "cell_type": "code",
   "execution_count": 22,
   "metadata": {
    "id": "Kwg6rP8eLzoS"
   },
   "outputs": [
    {
     "name": "stdout",
     "output_type": "stream",
     "text": [
      "Training R^2 : 0.83\n",
      "Testing R^2 : 0.77\n"
     ]
    }
   ],
   "source": [
    "from sklearn.linear_model import RidgeCV\n",
    "\n",
    "# 1. 먼저 모델을 만들어 줍니다.\n",
    "## TODO\n",
    "ridge = RidgeCV()\n",
    "# 2. 모델을 적합시킵니다.\n",
    "## TODO\n",
    "ridge.fit(X_train, y_train)\n",
    "# 3. train 세트와 test 세트에서의 성능을 확인합니다. (이 경우 결정계수 R^2)\n",
    "## TODO\n",
    "print(\"Training R^2 : %.2f\" %ridge.score(X_train, y_train))\n",
    "print(\"Testing R^2 : %.2f\" %ridge.score(X_test, y_test))"
   ]
  },
  {
   "cell_type": "code",
   "execution_count": 23,
   "metadata": {
    "id": "c2YiywA_LzoS"
   },
   "outputs": [
    {
     "name": "stdout",
     "output_type": "stream",
     "text": [
      "Training R^2 : 0.82\n",
      "Testing R^2 : 0.77\n"
     ]
    }
   ],
   "source": [
    "from sklearn.linear_model import LassoCV\n",
    "\n",
    "# 1. 먼저 모델을 만들어 줍니다.\n",
    "## TODO\n",
    "lasso = LassoCV()\n",
    "# 2. 모델을 적합시킵니다.\n",
    "## TODO\n",
    "lasso.fit(X_train, y_train)\n",
    "# 3. train 세트와 test 세트에서의 성능을 확인합니다. (이 경우 결정계수 R^2)\n",
    "## TODO\n",
    "print(\"Training R^2 : %.2f\" %lasso.score(X_train, y_train))\n",
    "print(\"Testing R^2 : %.2f\" %lasso.score(X_test, y_test))"
   ]
  },
  {
   "cell_type": "markdown",
   "metadata": {
    "id": "2dQ-rk4qLzoS"
   },
   "source": [
    "# 5. Logistic 회귀\n",
    "\n",
    "종속변수를 범주형 자료로 바꿔 합격확률이 아닌 **합격여부**를 예측해보겠습니다.  \n",
    "**이 문제에서는 합격확률이 0.7이상이면 합격으로 판단하고 0.7미만이면 불합격으로 판단합니다.**  \n",
    "(0.7이라는 숫자는 임의로 지정한 것일 뿐, 분류 문제에서 기준이 되는 threshold는 보다 더 신중하게 결정해야 합니다. 보통 default값은 0.5입니다.)"
   ]
  },
  {
   "cell_type": "code",
   "execution_count": 24,
   "metadata": {
    "id": "kRAEDfntLzoT"
   },
   "outputs": [
    {
     "data": {
      "text/html": [
       "<div>\n",
       "<style scoped>\n",
       "    .dataframe tbody tr th:only-of-type {\n",
       "        vertical-align: middle;\n",
       "    }\n",
       "\n",
       "    .dataframe tbody tr th {\n",
       "        vertical-align: top;\n",
       "    }\n",
       "\n",
       "    .dataframe thead th {\n",
       "        text-align: right;\n",
       "    }\n",
       "</style>\n",
       "<table border=\"1\" class=\"dataframe\">\n",
       "  <thead>\n",
       "    <tr style=\"text-align: right;\">\n",
       "      <th></th>\n",
       "      <th>GRE Score</th>\n",
       "      <th>TOEFL Score</th>\n",
       "      <th>University Rating</th>\n",
       "      <th>SOP</th>\n",
       "      <th>LOR</th>\n",
       "      <th>CGPA</th>\n",
       "      <th>Chance of Admit</th>\n",
       "      <th>Research_No</th>\n",
       "      <th>Research_Yes</th>\n",
       "    </tr>\n",
       "  </thead>\n",
       "  <tbody>\n",
       "    <tr>\n",
       "      <th>0</th>\n",
       "      <td>310</td>\n",
       "      <td>105</td>\n",
       "      <td>2</td>\n",
       "      <td>3.0</td>\n",
       "      <td>3.5</td>\n",
       "      <td>8.01</td>\n",
       "      <td>0.71</td>\n",
       "      <td>1</td>\n",
       "      <td>0</td>\n",
       "    </tr>\n",
       "    <tr>\n",
       "      <th>1</th>\n",
       "      <td>307</td>\n",
       "      <td>105</td>\n",
       "      <td>2</td>\n",
       "      <td>2.5</td>\n",
       "      <td>4.5</td>\n",
       "      <td>8.12</td>\n",
       "      <td>0.67</td>\n",
       "      <td>0</td>\n",
       "      <td>1</td>\n",
       "    </tr>\n",
       "    <tr>\n",
       "      <th>2</th>\n",
       "      <td>329</td>\n",
       "      <td>111</td>\n",
       "      <td>4</td>\n",
       "      <td>4.5</td>\n",
       "      <td>4.0</td>\n",
       "      <td>9.01</td>\n",
       "      <td>0.81</td>\n",
       "      <td>0</td>\n",
       "      <td>1</td>\n",
       "    </tr>\n",
       "    <tr>\n",
       "      <th>3</th>\n",
       "      <td>300</td>\n",
       "      <td>105</td>\n",
       "      <td>1</td>\n",
       "      <td>1.0</td>\n",
       "      <td>2.0</td>\n",
       "      <td>7.80</td>\n",
       "      <td>0.58</td>\n",
       "      <td>1</td>\n",
       "      <td>0</td>\n",
       "    </tr>\n",
       "    <tr>\n",
       "      <th>4</th>\n",
       "      <td>329</td>\n",
       "      <td>114</td>\n",
       "      <td>5</td>\n",
       "      <td>4.0</td>\n",
       "      <td>5.0</td>\n",
       "      <td>9.30</td>\n",
       "      <td>0.86</td>\n",
       "      <td>0</td>\n",
       "      <td>1</td>\n",
       "    </tr>\n",
       "  </tbody>\n",
       "</table>\n",
       "</div>"
      ],
      "text/plain": [
       "   GRE Score  TOEFL Score  University Rating  SOP  LOR  CGPA  Chance of Admit  \\\n",
       "0        310          105                  2  3.0  3.5  8.01             0.71   \n",
       "1        307          105                  2  2.5  4.5  8.12             0.67   \n",
       "2        329          111                  4  4.5  4.0  9.01             0.81   \n",
       "3        300          105                  1  1.0  2.0  7.80             0.58   \n",
       "4        329          114                  5  4.0  5.0  9.30             0.86   \n",
       "\n",
       "   Research_No  Research_Yes  \n",
       "0            1             0  \n",
       "1            0             1  \n",
       "2            0             1  \n",
       "3            1             0  \n",
       "4            0             1  "
      ]
     },
     "execution_count": 24,
     "metadata": {},
     "output_type": "execute_result"
    }
   ],
   "source": [
    "# train 데이터의 종속변수인 'Chance of Admit'은 숫자형 자료로 이루어져 있습니다.\n",
    "df.head()"
   ]
  },
  {
   "cell_type": "code",
   "execution_count": 25,
   "metadata": {
    "id": "mUgO5ixILzoT"
   },
   "outputs": [],
   "source": [
    "# 종속변수인 'Chance of Admit'을 범주형 자료로 바꿔줍시다. 0.7 이상은 합격(1), 0.7 미만은 불합격(0)으로 지정해줍니다.\n",
    "df[\"Chance of Admit\"] = df[\"Chance of Admit\"].apply(lambda x: 1 if x>=0.7 else 0)\n",
    "\n",
    "# for문을 사용할 수도 있지만 웬만하면 for문은 지양하도록 합시다.\n",
    "# for i in range(400):\n",
    "#     df[\"Chance of Admit\"][i] = 1 if df[\"Chance of Admit\"][i]>=0.7 else 0"
   ]
  },
  {
   "cell_type": "code",
   "execution_count": 26,
   "metadata": {
    "id": "yJx1MZboLzoT"
   },
   "outputs": [
    {
     "data": {
      "text/html": [
       "<div>\n",
       "<style scoped>\n",
       "    .dataframe tbody tr th:only-of-type {\n",
       "        vertical-align: middle;\n",
       "    }\n",
       "\n",
       "    .dataframe tbody tr th {\n",
       "        vertical-align: top;\n",
       "    }\n",
       "\n",
       "    .dataframe thead th {\n",
       "        text-align: right;\n",
       "    }\n",
       "</style>\n",
       "<table border=\"1\" class=\"dataframe\">\n",
       "  <thead>\n",
       "    <tr style=\"text-align: right;\">\n",
       "      <th></th>\n",
       "      <th>GRE Score</th>\n",
       "      <th>TOEFL Score</th>\n",
       "      <th>University Rating</th>\n",
       "      <th>SOP</th>\n",
       "      <th>LOR</th>\n",
       "      <th>CGPA</th>\n",
       "      <th>Chance of Admit</th>\n",
       "      <th>Research_No</th>\n",
       "      <th>Research_Yes</th>\n",
       "    </tr>\n",
       "  </thead>\n",
       "  <tbody>\n",
       "    <tr>\n",
       "      <th>0</th>\n",
       "      <td>310</td>\n",
       "      <td>105</td>\n",
       "      <td>2</td>\n",
       "      <td>3.0</td>\n",
       "      <td>3.5</td>\n",
       "      <td>8.01</td>\n",
       "      <td>1</td>\n",
       "      <td>1</td>\n",
       "      <td>0</td>\n",
       "    </tr>\n",
       "    <tr>\n",
       "      <th>1</th>\n",
       "      <td>307</td>\n",
       "      <td>105</td>\n",
       "      <td>2</td>\n",
       "      <td>2.5</td>\n",
       "      <td>4.5</td>\n",
       "      <td>8.12</td>\n",
       "      <td>0</td>\n",
       "      <td>0</td>\n",
       "      <td>1</td>\n",
       "    </tr>\n",
       "    <tr>\n",
       "      <th>2</th>\n",
       "      <td>329</td>\n",
       "      <td>111</td>\n",
       "      <td>4</td>\n",
       "      <td>4.5</td>\n",
       "      <td>4.0</td>\n",
       "      <td>9.01</td>\n",
       "      <td>1</td>\n",
       "      <td>0</td>\n",
       "      <td>1</td>\n",
       "    </tr>\n",
       "    <tr>\n",
       "      <th>3</th>\n",
       "      <td>300</td>\n",
       "      <td>105</td>\n",
       "      <td>1</td>\n",
       "      <td>1.0</td>\n",
       "      <td>2.0</td>\n",
       "      <td>7.80</td>\n",
       "      <td>0</td>\n",
       "      <td>1</td>\n",
       "      <td>0</td>\n",
       "    </tr>\n",
       "    <tr>\n",
       "      <th>4</th>\n",
       "      <td>329</td>\n",
       "      <td>114</td>\n",
       "      <td>5</td>\n",
       "      <td>4.0</td>\n",
       "      <td>5.0</td>\n",
       "      <td>9.30</td>\n",
       "      <td>1</td>\n",
       "      <td>0</td>\n",
       "      <td>1</td>\n",
       "    </tr>\n",
       "  </tbody>\n",
       "</table>\n",
       "</div>"
      ],
      "text/plain": [
       "   GRE Score  TOEFL Score  University Rating  SOP  LOR  CGPA  Chance of Admit  \\\n",
       "0        310          105                  2  3.0  3.5  8.01                1   \n",
       "1        307          105                  2  2.5  4.5  8.12                0   \n",
       "2        329          111                  4  4.5  4.0  9.01                1   \n",
       "3        300          105                  1  1.0  2.0  7.80                0   \n",
       "4        329          114                  5  4.0  5.0  9.30                1   \n",
       "\n",
       "   Research_No  Research_Yes  \n",
       "0            1             0  \n",
       "1            0             1  \n",
       "2            0             1  \n",
       "3            1             0  \n",
       "4            0             1  "
      ]
     },
     "execution_count": 26,
     "metadata": {},
     "output_type": "execute_result"
    }
   ],
   "source": [
    "# 'Chance of Admit'이 제대로 변경되었는지 확인해봅시다.\n",
    "df.head()"
   ]
  },
  {
   "cell_type": "code",
   "execution_count": 27,
   "metadata": {
    "id": "5NQe0IvnLzoT"
   },
   "outputs": [],
   "source": [
    "# 먼저 종속변수와 설명변수를 지정해줍니다.\n",
    "X = df.drop(\"Chance of Admit\", axis=1)\n",
    "y = df[\"Chance of Admit\"]"
   ]
  },
  {
   "cell_type": "code",
   "execution_count": 28,
   "metadata": {
    "id": "XjubD8G7LzoT"
   },
   "outputs": [],
   "source": [
    "# train과 test로 분리하여 사용합니다.\n",
    "from sklearn.model_selection import train_test_split\n",
    "X_train, X_test, y_train, y_test = train_test_split(X, y, test_size=0.2, random_state=1234)"
   ]
  },
  {
   "cell_type": "code",
   "execution_count": 29,
   "metadata": {
    "id": "CaeXsv6gLzoU"
   },
   "outputs": [
    {
     "name": "stdout",
     "output_type": "stream",
     "text": [
      "training predictors size: (320, 8)\n",
      "training response size: (320,)\n",
      "test predictors size: (80, 8)\n",
      "test response size: (80,)\n"
     ]
    }
   ],
   "source": [
    "# 각각의 크기 확인\n",
    "print(\"training predictors size:\", X_train.shape)\n",
    "print(\"training response size:\", y_train.shape)\n",
    "print(\"test predictors size:\", X_test.shape)\n",
    "print(\"test response size:\", y_test.shape)"
   ]
  },
  {
   "cell_type": "code",
   "execution_count": 30,
   "metadata": {
    "id": "QE2HEL4xLzoU"
   },
   "outputs": [
    {
     "name": "stdout",
     "output_type": "stream",
     "text": [
      "Training R^2 : 0.82\n"
     ]
    }
   ],
   "source": [
    "from sklearn.linear_model import LogisticRegression\n",
    "\n",
    "# 1. 먼저 모델을 만들어 줍니다.\n",
    "## TODO\n",
    "logistic = LogisticRegression()\n",
    "\n",
    "# 2. 모델을 적합시킵니다.\n",
    "## TODO\n",
    "logistic.fit(X_train, y_train)\n",
    "\n",
    "# 3. train 세트에서의 성능을 확인합니다.\n",
    "## TODO\n",
    "print(\"Training R^2 : %.2f\" % logistic.score(X_train, y_train))"
   ]
  },
  {
   "cell_type": "code",
   "execution_count": 31,
   "metadata": {
    "id": "TXhN1NvJLzoU"
   },
   "outputs": [
    {
     "name": "stdout",
     "output_type": "stream",
     "text": [
      "Accuracy: 0.80\n",
      "F1 score: 0.79\n",
      "----------------------------------------\n",
      "Confusion matrix \n",
      "\n",
      "    0   1\n",
      "0  34   4\n",
      "1  12  30\n"
     ]
    }
   ],
   "source": [
    "# 학습된 모델로부터 대학원 합격을 예측하고 accuracy, f1-score, confusion matrix를 구해봅시다.\n",
    "from sklearn.metrics import accuracy_score, f1_score, confusion_matrix\n",
    "\n",
    "# 0.7 이상은 1로, 0.7 미만은 0으로 예측하는 코드\n",
    "y_pred = np.where(logistic.predict_proba(X_test)[:,1]>0.7, 1, 0)\n",
    "\n",
    "print(\"Accuracy: %.2f\" % accuracy_score(y_test, y_pred))\n",
    "print(\"F1 score: %.2f\" % f1_score(y_test, y_pred))\n",
    "\n",
    "print(\"-\"*40)\n",
    "print(\"Confusion matrix\", \"\\n\")\n",
    "print(pd.DataFrame(confusion_matrix(y_test, y_pred)))"
   ]
  },
  {
   "cell_type": "code",
   "execution_count": 32,
   "metadata": {
    "id": "59zHNfTdLzoU"
   },
   "outputs": [
    {
     "data": {
      "text/html": [
       "<div>\n",
       "<style scoped>\n",
       "    .dataframe tbody tr th:only-of-type {\n",
       "        vertical-align: middle;\n",
       "    }\n",
       "\n",
       "    .dataframe tbody tr th {\n",
       "        vertical-align: top;\n",
       "    }\n",
       "\n",
       "    .dataframe thead th {\n",
       "        text-align: right;\n",
       "    }\n",
       "</style>\n",
       "<table border=\"1\" class=\"dataframe\">\n",
       "  <thead>\n",
       "    <tr style=\"text-align: right;\">\n",
       "      <th></th>\n",
       "      <th>GRE Score</th>\n",
       "      <th>TOEFL Score</th>\n",
       "      <th>University Rating</th>\n",
       "      <th>SOP</th>\n",
       "      <th>LOR</th>\n",
       "      <th>CGPA</th>\n",
       "      <th>Research</th>\n",
       "    </tr>\n",
       "  </thead>\n",
       "  <tbody>\n",
       "    <tr>\n",
       "      <th>0</th>\n",
       "      <td>304</td>\n",
       "      <td>103</td>\n",
       "      <td>5</td>\n",
       "      <td>5.0</td>\n",
       "      <td>4.0</td>\n",
       "      <td>8.64</td>\n",
       "      <td>No</td>\n",
       "    </tr>\n",
       "    <tr>\n",
       "      <th>1</th>\n",
       "      <td>297</td>\n",
       "      <td>96</td>\n",
       "      <td>2</td>\n",
       "      <td>2.5</td>\n",
       "      <td>1.5</td>\n",
       "      <td>7.89</td>\n",
       "      <td>No</td>\n",
       "    </tr>\n",
       "    <tr>\n",
       "      <th>2</th>\n",
       "      <td>302</td>\n",
       "      <td>101</td>\n",
       "      <td>2</td>\n",
       "      <td>2.5</td>\n",
       "      <td>3.5</td>\n",
       "      <td>7.96</td>\n",
       "      <td>No</td>\n",
       "    </tr>\n",
       "    <tr>\n",
       "      <th>3</th>\n",
       "      <td>318</td>\n",
       "      <td>112</td>\n",
       "      <td>3</td>\n",
       "      <td>4.0</td>\n",
       "      <td>3.5</td>\n",
       "      <td>8.67</td>\n",
       "      <td>No</td>\n",
       "    </tr>\n",
       "    <tr>\n",
       "      <th>4</th>\n",
       "      <td>304</td>\n",
       "      <td>100</td>\n",
       "      <td>4</td>\n",
       "      <td>1.5</td>\n",
       "      <td>2.5</td>\n",
       "      <td>7.84</td>\n",
       "      <td>No</td>\n",
       "    </tr>\n",
       "  </tbody>\n",
       "</table>\n",
       "</div>"
      ],
      "text/plain": [
       "   GRE Score  TOEFL Score  University Rating  SOP  LOR  CGPA Research\n",
       "0        304          103                  5  5.0  4.0  8.64       No\n",
       "1        297           96                  2  2.5  1.5  7.89       No\n",
       "2        302          101                  2  2.5  3.5  7.96       No\n",
       "3        318          112                  3  4.0  3.5  8.67       No\n",
       "4        304          100                  4  1.5  2.5  7.84       No"
      ]
     },
     "execution_count": 32,
     "metadata": {},
     "output_type": "execute_result"
    }
   ],
   "source": [
    "# 이제 test 데이터를 불러와 학습한 모델로 합격 여부를 예측해봅시다.\n",
    "test.head()"
   ]
  },
  {
   "cell_type": "code",
   "execution_count": 35,
   "metadata": {
    "id": "zP3XyZd8LzoV"
   },
   "outputs": [],
   "source": [
    "# test 데이터로 예측결과인 pred를 만들어줍니다.\n",
    "## TODO\n",
    "test_dum = pd.get_dummies(data = test, columns = [\"Research\"])\n",
    "test = test_dum\n",
    "pred = logistic.predict(test)"
   ]
  },
  {
   "cell_type": "code",
   "execution_count": 36,
   "metadata": {
    "id": "bT4GoNyrLzoV"
   },
   "outputs": [
    {
     "data": {
      "text/html": [
       "<div>\n",
       "<style scoped>\n",
       "    .dataframe tbody tr th:only-of-type {\n",
       "        vertical-align: middle;\n",
       "    }\n",
       "\n",
       "    .dataframe tbody tr th {\n",
       "        vertical-align: top;\n",
       "    }\n",
       "\n",
       "    .dataframe thead th {\n",
       "        text-align: right;\n",
       "    }\n",
       "</style>\n",
       "<table border=\"1\" class=\"dataframe\">\n",
       "  <thead>\n",
       "    <tr style=\"text-align: right;\">\n",
       "      <th></th>\n",
       "      <th>GRE Score</th>\n",
       "      <th>TOEFL Score</th>\n",
       "      <th>University Rating</th>\n",
       "      <th>SOP</th>\n",
       "      <th>LOR</th>\n",
       "      <th>CGPA</th>\n",
       "      <th>Research_No</th>\n",
       "      <th>Research_Yes</th>\n",
       "      <th>Chance of Admit</th>\n",
       "    </tr>\n",
       "  </thead>\n",
       "  <tbody>\n",
       "    <tr>\n",
       "      <th>0</th>\n",
       "      <td>304</td>\n",
       "      <td>103</td>\n",
       "      <td>5</td>\n",
       "      <td>5.0</td>\n",
       "      <td>4.0</td>\n",
       "      <td>8.64</td>\n",
       "      <td>1</td>\n",
       "      <td>0</td>\n",
       "      <td>1</td>\n",
       "    </tr>\n",
       "    <tr>\n",
       "      <th>1</th>\n",
       "      <td>297</td>\n",
       "      <td>96</td>\n",
       "      <td>2</td>\n",
       "      <td>2.5</td>\n",
       "      <td>1.5</td>\n",
       "      <td>7.89</td>\n",
       "      <td>1</td>\n",
       "      <td>0</td>\n",
       "      <td>0</td>\n",
       "    </tr>\n",
       "    <tr>\n",
       "      <th>2</th>\n",
       "      <td>302</td>\n",
       "      <td>101</td>\n",
       "      <td>2</td>\n",
       "      <td>2.5</td>\n",
       "      <td>3.5</td>\n",
       "      <td>7.96</td>\n",
       "      <td>1</td>\n",
       "      <td>0</td>\n",
       "      <td>0</td>\n",
       "    </tr>\n",
       "    <tr>\n",
       "      <th>3</th>\n",
       "      <td>318</td>\n",
       "      <td>112</td>\n",
       "      <td>3</td>\n",
       "      <td>4.0</td>\n",
       "      <td>3.5</td>\n",
       "      <td>8.67</td>\n",
       "      <td>1</td>\n",
       "      <td>0</td>\n",
       "      <td>1</td>\n",
       "    </tr>\n",
       "    <tr>\n",
       "      <th>4</th>\n",
       "      <td>304</td>\n",
       "      <td>100</td>\n",
       "      <td>4</td>\n",
       "      <td>1.5</td>\n",
       "      <td>2.5</td>\n",
       "      <td>7.84</td>\n",
       "      <td>1</td>\n",
       "      <td>0</td>\n",
       "      <td>0</td>\n",
       "    </tr>\n",
       "  </tbody>\n",
       "</table>\n",
       "</div>"
      ],
      "text/plain": [
       "   GRE Score  TOEFL Score  University Rating  SOP  LOR  CGPA  Research_No  \\\n",
       "0        304          103                  5  5.0  4.0  8.64            1   \n",
       "1        297           96                  2  2.5  1.5  7.89            1   \n",
       "2        302          101                  2  2.5  3.5  7.96            1   \n",
       "3        318          112                  3  4.0  3.5  8.67            1   \n",
       "4        304          100                  4  1.5  2.5  7.84            1   \n",
       "\n",
       "   Research_Yes  Chance of Admit  \n",
       "0             0                1  \n",
       "1             0                0  \n",
       "2             0                0  \n",
       "3             0                1  \n",
       "4             0                0  "
      ]
     },
     "execution_count": 36,
     "metadata": {},
     "output_type": "execute_result"
    }
   ],
   "source": [
    "# test 데이터에 예측결과를 추가해줍니다.\n",
    "test[\"Chance of Admit\"] = pred\n",
    "test.head()"
   ]
  },
  {
   "cell_type": "code",
   "execution_count": 37,
   "metadata": {
    "id": "HaT6CQ71LzoV"
   },
   "outputs": [],
   "source": [
    "# 예측된 결과를 csv 파일로 저장해줍니다. ipynb 파일과 csv 파일을 본인 Github에 업로드해주시면 됩니다.\n",
    "test.to_csv(\"graduate_submission.csv\", index=False)"
   ]
  }
 ],
 "metadata": {
  "colab": {
   "name": "regression_assignment.ipynb",
   "provenance": []
  },
  "kernelspec": {
   "display_name": "Python 3",
   "language": "python",
   "name": "python3"
  },
  "language_info": {
   "codemirror_mode": {
    "name": "ipython",
    "version": 3
   },
   "file_extension": ".py",
   "mimetype": "text/x-python",
   "name": "python",
   "nbconvert_exporter": "python",
   "pygments_lexer": "ipython3",
   "version": "3.7.4"
  }
 },
 "nbformat": 4,
 "nbformat_minor": 1
}
