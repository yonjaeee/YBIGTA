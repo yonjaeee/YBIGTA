{
 "cells": [
  {
   "cell_type": "markdown",
   "metadata": {
    "id": "L6SJrNxc-gwr"
   },
   "source": [
    "\n",
    "\n",
    "\n",
    "### 순서\n",
    " 1. 기본세팅\n",
    " \n",
    " 2. dummy 변수화 시키기\n",
    " \n",
    " 3. 결측값 채워주기\n",
    " \n",
    " 4. 새로운 column 만들어주기\n",
    " \n",
    " 5. column 날려주기\n",
    " \n",
    " 6. 데이터 정리하기\n",
    " \n",
    "<br>\n",
    "\n",
    "## 색깔 tip!\n",
    "과제는 <font color='red'> 빨간색</font>으로 표시했습니다~  \n",
    "<br>\n",
    "<font color='yellow'>노란색</font> 바로 밑에 있는 셀의 코드를 채워주시면 됩니다~~  \n",
    "<br>\n",
    "\n",
    "나머지 색은 신경 안 쓰셔도 됩니다~~"
   ]
  },
  {
   "cell_type": "markdown",
   "metadata": {
    "id": "Z67gElwX-gws"
   },
   "source": [
    "# 1. 기본세팅\n",
    " - 데이터 불러오기\n",
    " - 결측값 확인하기\n",
    " - 데이터프레임 shape 살펴보기"
   ]
  },
  {
   "cell_type": "code",
   "execution_count": 1,
   "metadata": {
    "id": "K50X-jf4-gwt"
   },
   "outputs": [],
   "source": [
    "import numpy as np\n",
    "import pandas as pd\n",
    "\n",
    "pd.set_option('display.max_columns', 200)\n",
    "pd.set_option('display.max_rows', 200)"
   ]
  },
  {
   "cell_type": "code",
   "execution_count": 2,
   "metadata": {
    "colab": {
     "base_uri": "https://localhost:8080/",
     "height": 340
    },
    "executionInfo": {
     "elapsed": 1266,
     "status": "ok",
     "timestamp": 1611033359382,
     "user": {
      "displayName": "‍김지훈(학부학생/공과대학 토목·환경공학)",
      "photoUrl": "",
      "userId": "06228375687141397502"
     },
     "user_tz": -540
    },
    "id": "KELHED9r-gwu",
    "outputId": "ef1e0742-8fb6-47a0-c706-c21fd0f24e99"
   },
   "outputs": [
    {
     "data": {
      "text/html": [
       "<div>\n",
       "<style scoped>\n",
       "    .dataframe tbody tr th:only-of-type {\n",
       "        vertical-align: middle;\n",
       "    }\n",
       "\n",
       "    .dataframe tbody tr th {\n",
       "        vertical-align: top;\n",
       "    }\n",
       "\n",
       "    .dataframe thead th {\n",
       "        text-align: right;\n",
       "    }\n",
       "</style>\n",
       "<table border=\"1\" class=\"dataframe\">\n",
       "  <thead>\n",
       "    <tr style=\"text-align: right;\">\n",
       "      <th></th>\n",
       "      <th>PassengerId</th>\n",
       "      <th>Survived</th>\n",
       "      <th>Pclass</th>\n",
       "      <th>Name</th>\n",
       "      <th>Sex</th>\n",
       "      <th>Age</th>\n",
       "      <th>SibSp</th>\n",
       "      <th>Parch</th>\n",
       "      <th>Ticket</th>\n",
       "      <th>Fare</th>\n",
       "      <th>Cabin</th>\n",
       "      <th>Embarked</th>\n",
       "    </tr>\n",
       "  </thead>\n",
       "  <tbody>\n",
       "    <tr>\n",
       "      <th>0</th>\n",
       "      <td>1</td>\n",
       "      <td>0</td>\n",
       "      <td>3</td>\n",
       "      <td>Braund, Mr. Owen Harris</td>\n",
       "      <td>male</td>\n",
       "      <td>22.0</td>\n",
       "      <td>1</td>\n",
       "      <td>0</td>\n",
       "      <td>A/5 21171</td>\n",
       "      <td>7.2500</td>\n",
       "      <td>NaN</td>\n",
       "      <td>S</td>\n",
       "    </tr>\n",
       "    <tr>\n",
       "      <th>1</th>\n",
       "      <td>2</td>\n",
       "      <td>1</td>\n",
       "      <td>1</td>\n",
       "      <td>Cumings, Mrs. John Bradley (Florence Briggs Th...</td>\n",
       "      <td>female</td>\n",
       "      <td>38.0</td>\n",
       "      <td>1</td>\n",
       "      <td>0</td>\n",
       "      <td>PC 17599</td>\n",
       "      <td>71.2833</td>\n",
       "      <td>C85</td>\n",
       "      <td>C</td>\n",
       "    </tr>\n",
       "    <tr>\n",
       "      <th>2</th>\n",
       "      <td>3</td>\n",
       "      <td>1</td>\n",
       "      <td>3</td>\n",
       "      <td>Heikkinen, Miss. Laina</td>\n",
       "      <td>female</td>\n",
       "      <td>26.0</td>\n",
       "      <td>0</td>\n",
       "      <td>0</td>\n",
       "      <td>STON/O2. 3101282</td>\n",
       "      <td>7.9250</td>\n",
       "      <td>NaN</td>\n",
       "      <td>S</td>\n",
       "    </tr>\n",
       "    <tr>\n",
       "      <th>3</th>\n",
       "      <td>4</td>\n",
       "      <td>1</td>\n",
       "      <td>1</td>\n",
       "      <td>Futrelle, Mrs. Jacques Heath (Lily May Peel)</td>\n",
       "      <td>female</td>\n",
       "      <td>35.0</td>\n",
       "      <td>1</td>\n",
       "      <td>0</td>\n",
       "      <td>113803</td>\n",
       "      <td>53.1000</td>\n",
       "      <td>C123</td>\n",
       "      <td>S</td>\n",
       "    </tr>\n",
       "    <tr>\n",
       "      <th>4</th>\n",
       "      <td>5</td>\n",
       "      <td>0</td>\n",
       "      <td>3</td>\n",
       "      <td>Allen, Mr. William Henry</td>\n",
       "      <td>male</td>\n",
       "      <td>35.0</td>\n",
       "      <td>0</td>\n",
       "      <td>0</td>\n",
       "      <td>373450</td>\n",
       "      <td>8.0500</td>\n",
       "      <td>NaN</td>\n",
       "      <td>S</td>\n",
       "    </tr>\n",
       "  </tbody>\n",
       "</table>\n",
       "</div>"
      ],
      "text/plain": [
       "   PassengerId  Survived  Pclass  \\\n",
       "0            1         0       3   \n",
       "1            2         1       1   \n",
       "2            3         1       3   \n",
       "3            4         1       1   \n",
       "4            5         0       3   \n",
       "\n",
       "                                                Name     Sex   Age  SibSp  \\\n",
       "0                            Braund, Mr. Owen Harris    male  22.0      1   \n",
       "1  Cumings, Mrs. John Bradley (Florence Briggs Th...  female  38.0      1   \n",
       "2                             Heikkinen, Miss. Laina  female  26.0      0   \n",
       "3       Futrelle, Mrs. Jacques Heath (Lily May Peel)  female  35.0      1   \n",
       "4                           Allen, Mr. William Henry    male  35.0      0   \n",
       "\n",
       "   Parch            Ticket     Fare Cabin Embarked  \n",
       "0      0         A/5 21171   7.2500   NaN        S  \n",
       "1      0          PC 17599  71.2833   C85        C  \n",
       "2      0  STON/O2. 3101282   7.9250   NaN        S  \n",
       "3      0            113803  53.1000  C123        S  \n",
       "4      0            373450   8.0500   NaN        S  "
      ]
     },
     "execution_count": 2,
     "metadata": {},
     "output_type": "execute_result"
    }
   ],
   "source": [
    "dir = 'titanic.csv'\n",
    "df = pd.read_csv(dir)\n",
    "df.head()"
   ]
  },
  {
   "cell_type": "code",
   "execution_count": 3,
   "metadata": {
    "colab": {
     "base_uri": "https://localhost:8080/"
    },
    "executionInfo": {
     "elapsed": 527,
     "status": "ok",
     "timestamp": 1611033363044,
     "user": {
      "displayName": "‍김지훈(학부학생/공과대학 토목·환경공학)",
      "photoUrl": "",
      "userId": "06228375687141397502"
     },
     "user_tz": -540
    },
    "id": "_q22S2kb-gww",
    "outputId": "779181d4-c859-413c-d861-11330baf9b55"
   },
   "outputs": [
    {
     "data": {
      "text/plain": [
       "PassengerId      0\n",
       "Survived         0\n",
       "Pclass           0\n",
       "Name             0\n",
       "Sex              0\n",
       "Age            177\n",
       "SibSp            0\n",
       "Parch            0\n",
       "Ticket           0\n",
       "Fare             0\n",
       "Cabin          687\n",
       "Embarked         2\n",
       "dtype: int64"
      ]
     },
     "execution_count": 3,
     "metadata": {},
     "output_type": "execute_result"
    }
   ],
   "source": [
    "df.isnull().sum()"
   ]
  },
  {
   "cell_type": "code",
   "execution_count": 4,
   "metadata": {
    "colab": {
     "base_uri": "https://localhost:8080/"
    },
    "executionInfo": {
     "elapsed": 598,
     "status": "ok",
     "timestamp": 1611033373987,
     "user": {
      "displayName": "‍김지훈(학부학생/공과대학 토목·환경공학)",
      "photoUrl": "",
      "userId": "06228375687141397502"
     },
     "user_tz": -540
    },
    "id": "b1c-SZ-h-gwx",
    "outputId": "dc4fecc0-735b-43c2-dde9-7829a7bcd957"
   },
   "outputs": [
    {
     "data": {
      "text/plain": [
       "(891, 12)"
      ]
     },
     "execution_count": 4,
     "metadata": {},
     "output_type": "execute_result"
    }
   ],
   "source": [
    "df.shape"
   ]
  },
  {
   "cell_type": "markdown",
   "metadata": {
    "id": "roggwPmW-gwy"
   },
   "source": [
    "# 2. Dummy 변수화 시키기\n",
    "- `.replace()`, `.map()`:  column내 값을 바꿔주는 많은 메소드들\n",
    "- `.get_dummies()`: dummy 변수화에 최적화 된 메소드"
   ]
  },
  {
   "cell_type": "markdown",
   "metadata": {
    "id": "KY_EuzaT-gwy"
   },
   "source": [
    "### 우선!\n",
    "`.dtypes`를 통해서 column들의 유형을 확인해보면  \n",
    "*Name, Sex, Ticket, Cabin, Embarked*가 categorical 변수임을 확인할 수 있습니다"
   ]
  },
  {
   "cell_type": "code",
   "execution_count": 5,
   "metadata": {
    "colab": {
     "base_uri": "https://localhost:8080/"
    },
    "executionInfo": {
     "elapsed": 551,
     "status": "ok",
     "timestamp": 1611033393289,
     "user": {
      "displayName": "‍김지훈(학부학생/공과대학 토목·환경공학)",
      "photoUrl": "",
      "userId": "06228375687141397502"
     },
     "user_tz": -540
    },
    "id": "GHiMvFCp-gwy",
    "outputId": "9a84f29a-bdad-4d9e-9338-770e0f80c996"
   },
   "outputs": [
    {
     "data": {
      "text/plain": [
       "PassengerId      int64\n",
       "Survived         int64\n",
       "Pclass           int64\n",
       "Name            object\n",
       "Sex             object\n",
       "Age            float64\n",
       "SibSp            int64\n",
       "Parch            int64\n",
       "Ticket          object\n",
       "Fare           float64\n",
       "Cabin           object\n",
       "Embarked        object\n",
       "dtype: object"
      ]
     },
     "execution_count": 5,
     "metadata": {},
     "output_type": "execute_result"
    }
   ],
   "source": [
    "df.dtypes"
   ]
  },
  {
   "cell_type": "markdown",
   "metadata": {
    "id": "6UVJqMsx-gwz"
   },
   "source": [
    "object = categorical 변수\n",
    "<br>\n",
    "기계는 categorical 변수를 인식하지 못합니다.  \n",
    "그래서<font color='red'> 기계가 알 수 있게</font> 바뀌주어야 합니다\n",
    "그게 바로 one-hot encoding"
   ]
  },
  {
   "cell_type": "markdown",
   "metadata": {
    "id": "oITj_AOZ-gwz"
   },
   "source": [
    "## 우선! \n",
    "`.replace()`, .`map()`을 써봅시다"
   ]
  },
  {
   "cell_type": "markdown",
   "metadata": {
    "id": "TEhz7A7Y-gwz"
   },
   "source": [
    "column의 value가 뭐뭐 있는지 보기 위해서는`.unique()`를 쓰면 됩니다!"
   ]
  },
  {
   "cell_type": "code",
   "execution_count": 6,
   "metadata": {
    "colab": {
     "base_uri": "https://localhost:8080/"
    },
    "executionInfo": {
     "elapsed": 581,
     "status": "ok",
     "timestamp": 1611033553630,
     "user": {
      "displayName": "‍김지훈(학부학생/공과대학 토목·환경공학)",
      "photoUrl": "",
      "userId": "06228375687141397502"
     },
     "user_tz": -540
    },
    "id": "urIoP0-7-gw0",
    "outputId": "9009fee4-c794-4ca0-854f-886ed52b7b1d"
   },
   "outputs": [
    {
     "data": {
      "text/plain": [
       "array(['male', 'female'], dtype=object)"
      ]
     },
     "execution_count": 6,
     "metadata": {},
     "output_type": "execute_result"
    }
   ],
   "source": [
    "df['Sex'].unique()"
   ]
  },
  {
   "cell_type": "markdown",
   "metadata": {
    "id": "PcxTT0eY-gw0"
   },
   "source": [
    "# <font color='red'>[과제부분!] (1/11)</font>\n",
    "### 자! replace를 써봅시다!\n",
    "- replace 메소드 사용하는 방법은 다음과 같아요~! \n",
    "> ``` python\n",
    "df['column'].replace(['기존value'],['新value'], inplace=True)\n",
    "```\n",
    "> ``` python\n",
    "df['column'].replace({\"기존value\":int,\n",
    "                       \"기존value\":\"str\"}, inplace = True)\n",
    "> ```\n",
    "\n",
    "---\n",
    "\n",
    "위를 참고해서 male를 0으로 female를 1로 바꿔보아요!\n",
    "\n",
    "---\n"
   ]
  },
  {
   "cell_type": "code",
   "execution_count": 7,
   "metadata": {
    "id": "K6ZsNpIA-gw1"
   },
   "outputs": [],
   "source": [
    "temp = df.copy()"
   ]
  },
  {
   "cell_type": "markdown",
   "metadata": {
    "id": "siM4UWH_-gw1"
   },
   "source": [
    "#### 여기서 소소한 Tip!\n",
    "- 원본 데이터(여기서는 df)를 가지고 이것저것 하다가 잘못 만지면  \n",
    "- 처음부터 다시 df를 불러와야 되기 때문에  \n",
    "- 작업을 할 때는 temp라는 변수로 잠깐 저장했다가  \n",
    "- 성공하면 df로 다시 바꿔주기~"
   ]
  },
  {
   "cell_type": "code",
   "execution_count": 8,
   "metadata": {
    "id": "8JgC4ZXY-gw2",
    "outputId": "b9564829-cdf2-4cd0-e816-aeaf17171f91"
   },
   "outputs": [
    {
     "data": {
      "text/plain": [
       "0      male\n",
       "1    female\n",
       "2    female\n",
       "3    female\n",
       "4      male\n",
       "Name: Sex, dtype: object"
      ]
     },
     "execution_count": 8,
     "metadata": {},
     "output_type": "execute_result"
    }
   ],
   "source": [
    "temp['Sex'].head()"
   ]
  },
  {
   "cell_type": "markdown",
   "metadata": {
    "id": "jznSu1zM-gw2"
   },
   "source": [
    "### <font color='yellow'> 여기를 채워주세요~ </font>"
   ]
  },
  {
   "cell_type": "code",
   "execution_count": 9,
   "metadata": {
    "id": "wHtSjKfa-gw3"
   },
   "outputs": [],
   "source": [
    "#################################################################################\n",
    "#################################################################################\n",
    "#################################################################################\n",
    "\n",
    "# male은 0, female은 1로 바꿔주세요~\n",
    "temp['Sex'].replace({'male': 0, 'female': 1}, inplace = True)\n",
    "\n",
    "#################################################################################\n",
    "#################################################################################\n",
    "#################################################################################"
   ]
  },
  {
   "cell_type": "code",
   "execution_count": 10,
   "metadata": {
    "id": "BGQHcybz-gw3",
    "outputId": "6df1d9ea-426c-4460-e028-66b54b308eb4"
   },
   "outputs": [
    {
     "data": {
      "text/plain": [
       "0    0\n",
       "1    1\n",
       "2    1\n",
       "3    1\n",
       "4    0\n",
       "Name: Sex, dtype: int64"
      ]
     },
     "execution_count": 10,
     "metadata": {},
     "output_type": "execute_result"
    }
   ],
   "source": [
    "temp['Sex'].head()"
   ]
  },
  {
   "cell_type": "code",
   "execution_count": 11,
   "metadata": {
    "id": "zbpNhvMf-gw4"
   },
   "outputs": [],
   "source": [
    "# 코드가 원하는 대로 돌아갔으면 다시 df로 바꿔주기!!\n",
    "df = temp.copy()"
   ]
  },
  {
   "cell_type": "markdown",
   "metadata": {
    "id": "eNe-N1nW-gw4"
   },
   "source": [
    "# <font color='red'>[과제부분!] (2/11)</font>\n",
    "### 이번엔! map을 써봅시다!\n",
    "- .map() 메소드 사용하는 방법은 다음과 같아요~! \n",
    "\n",
    "> ``` python\n",
    "df['column'].map({\"기존value1\":新value, \n",
    "                    \"기존value2\":'新Value'})\n",
    "> ```\n",
    "\n",
    "- map()에 들어가는 데이터는 무조건!!! `dictionary` 형태여야 해요~!!\n",
    "\n",
    "\n",
    "---\n",
    "위를 참고해서 Embarked column을 바꿔보아요!\n",
    "\n",
    "---\n"
   ]
  },
  {
   "cell_type": "code",
   "execution_count": 12,
   "metadata": {
    "id": "smu1XUUB-gw5",
    "outputId": "0ef4d175-97be-47bc-9c66-5f71261036a5"
   },
   "outputs": [
    {
     "data": {
      "text/plain": [
       "array(['S', 'C', 'Q', nan], dtype=object)"
      ]
     },
     "execution_count": 12,
     "metadata": {},
     "output_type": "execute_result"
    }
   ],
   "source": [
    "temp = df.copy()\n",
    "temp['Embarked'].unique()"
   ]
  },
  {
   "cell_type": "code",
   "execution_count": 13,
   "metadata": {
    "id": "QIUZe8ji-gw5",
    "outputId": "c00deed6-d7d6-4ec3-f1c4-544c139a261c"
   },
   "outputs": [
    {
     "data": {
      "text/plain": [
       "0    S\n",
       "1    C\n",
       "2    S\n",
       "3    S\n",
       "4    S\n",
       "5    Q\n",
       "6    S\n",
       "7    S\n",
       "8    S\n",
       "9    C\n",
       "Name: Embarked, dtype: object"
      ]
     },
     "execution_count": 13,
     "metadata": {},
     "output_type": "execute_result"
    }
   ],
   "source": [
    "temp['Embarked'].head(10)"
   ]
  },
  {
   "cell_type": "markdown",
   "metadata": {
    "id": "t6dVFicY-gw6"
   },
   "source": [
    "### <font color='yellow'> 여기를 채워주세요~ </font>"
   ]
  },
  {
   "cell_type": "code",
   "execution_count": 14,
   "metadata": {
    "id": "1eXWiCdQ-gw6"
   },
   "outputs": [],
   "source": [
    "#################################################################################\n",
    "#################################################################################\n",
    "#################################################################################\n",
    "\n",
    "# S는 0, C는 1, Q는 2, nan는 4 바꿔주세요~\n",
    "temp['Embarked'] = temp['Embarked'].map({\"S\" : 0, \"C\" : 1, \"Q\" : 2})\n",
    "temp['Embarked'].fillna(4, inplace = True)\n",
    "temp['Embarked'] = temp['Embarked'].astype('int')\n",
    "\n",
    "#################################################################################\n",
    "#################################################################################\n",
    "#################################################################################"
   ]
  },
  {
   "cell_type": "code",
   "execution_count": 15,
   "metadata": {
    "id": "06RNsTZn-gw7",
    "outputId": "f10fdb39-1132-41eb-ffc3-b65a40d91c79"
   },
   "outputs": [
    {
     "data": {
      "text/plain": [
       "0"
      ]
     },
     "execution_count": 15,
     "metadata": {},
     "output_type": "execute_result"
    }
   ],
   "source": [
    "temp['Embarked'].isnull().sum()"
   ]
  },
  {
   "cell_type": "code",
   "execution_count": 16,
   "metadata": {
    "id": "AJWZpNwj-gw7",
    "outputId": "b761c83f-3d3f-4c7f-f118-38b3c8d812fc"
   },
   "outputs": [
    {
     "data": {
      "text/plain": [
       "0    0\n",
       "1    1\n",
       "2    0\n",
       "3    0\n",
       "4    0\n",
       "5    2\n",
       "6    0\n",
       "7    0\n",
       "8    0\n",
       "9    1\n",
       "Name: Embarked, dtype: int32"
      ]
     },
     "execution_count": 16,
     "metadata": {},
     "output_type": "execute_result"
    }
   ],
   "source": [
    "temp['Embarked'].head(10)"
   ]
  },
  {
   "cell_type": "markdown",
   "metadata": {
    "id": "qkjFJeXc-gw7"
   },
   "source": [
    "column value들을 count하고 싶으면`.value_counts()`를 쓰면 됩니다!"
   ]
  },
  {
   "cell_type": "code",
   "execution_count": 17,
   "metadata": {
    "id": "voLkUe_M-gw7",
    "outputId": "a425c8e5-0177-4a88-d184-d8d77a7e99aa"
   },
   "outputs": [
    {
     "data": {
      "text/plain": [
       "0    644\n",
       "1    168\n",
       "2     77\n",
       "4      2\n",
       "Name: Embarked, dtype: int64"
      ]
     },
     "execution_count": 17,
     "metadata": {},
     "output_type": "execute_result"
    }
   ],
   "source": [
    "temp['Embarked'].value_counts()"
   ]
  },
  {
   "cell_type": "markdown",
   "metadata": {
    "id": "5s0yifEs-gw8"
   },
   "source": [
    "# <font color='red'>[과제부분!] (3/11)</font>\n",
    "### 이번엔! .get_ dummies를 써봅시다!\n",
    "- 사실 dummy 변수화를 시켜줄 때 이렇게 일일이 바꿔주지는 않아요.  \n",
    "<br>\n",
    "\n",
    "- 왜냐? `.get_dummies`라는 메소드가 있기 때문이에요!\n",
    "<br>\n",
    "\n",
    "- 하지만! `.replace()`, `.map()`은 column 값을 바꿀 때 어마무시하게 자주 쓰이기 때문에 꼭 알고 계셔야 합니다...ㅎㅎ  \n",
    "<br>\n",
    "<br>\n",
    "\n",
    "- .map() 메소드 사용하는 방법은 다음과 같아요~!\n",
    "> ``` python\n",
    "pd.get_dummies([\"column name\"], prefix=\"prefix\")\n",
    "> ```\n",
    "- \n",
    "> ``` python\n",
    "pd.get_dummies(데이터프레임, columns = [\"column name\"])\n",
    "> ```\n",
    "\n",
    "  - prefix를 지정해주면 column 이름에 prefix가 들어가요!  \n",
    "<br>\n",
    "\n",
    "\n",
    "---\n",
    "위를 참고해서 Embarked 칼럼과 Pclass 칼럼을 바꿔보아요!  \n",
    "2번재 코드를 참고하세요~\n",
    "\n",
    "---"
   ]
  },
  {
   "cell_type": "code",
   "execution_count": 18,
   "metadata": {
    "id": "JesyUsuh-gw8",
    "outputId": "7b22cb29-8e31-42ee-84f1-0baf443e2e8e",
    "scrolled": true
   },
   "outputs": [
    {
     "data": {
      "text/html": [
       "<div>\n",
       "<style scoped>\n",
       "    .dataframe tbody tr th:only-of-type {\n",
       "        vertical-align: middle;\n",
       "    }\n",
       "\n",
       "    .dataframe tbody tr th {\n",
       "        vertical-align: top;\n",
       "    }\n",
       "\n",
       "    .dataframe thead th {\n",
       "        text-align: right;\n",
       "    }\n",
       "</style>\n",
       "<table border=\"1\" class=\"dataframe\">\n",
       "  <thead>\n",
       "    <tr style=\"text-align: right;\">\n",
       "      <th></th>\n",
       "      <th>PassengerId</th>\n",
       "      <th>Survived</th>\n",
       "      <th>Pclass</th>\n",
       "      <th>Name</th>\n",
       "      <th>Sex</th>\n",
       "      <th>Age</th>\n",
       "      <th>SibSp</th>\n",
       "      <th>Parch</th>\n",
       "      <th>Ticket</th>\n",
       "      <th>Fare</th>\n",
       "      <th>Cabin</th>\n",
       "      <th>Embarked</th>\n",
       "    </tr>\n",
       "  </thead>\n",
       "  <tbody>\n",
       "    <tr>\n",
       "      <th>0</th>\n",
       "      <td>1</td>\n",
       "      <td>0</td>\n",
       "      <td>3</td>\n",
       "      <td>Braund, Mr. Owen Harris</td>\n",
       "      <td>0</td>\n",
       "      <td>22.0</td>\n",
       "      <td>1</td>\n",
       "      <td>0</td>\n",
       "      <td>A/5 21171</td>\n",
       "      <td>7.2500</td>\n",
       "      <td>NaN</td>\n",
       "      <td>S</td>\n",
       "    </tr>\n",
       "    <tr>\n",
       "      <th>1</th>\n",
       "      <td>2</td>\n",
       "      <td>1</td>\n",
       "      <td>1</td>\n",
       "      <td>Cumings, Mrs. John Bradley (Florence Briggs Th...</td>\n",
       "      <td>1</td>\n",
       "      <td>38.0</td>\n",
       "      <td>1</td>\n",
       "      <td>0</td>\n",
       "      <td>PC 17599</td>\n",
       "      <td>71.2833</td>\n",
       "      <td>C85</td>\n",
       "      <td>C</td>\n",
       "    </tr>\n",
       "    <tr>\n",
       "      <th>2</th>\n",
       "      <td>3</td>\n",
       "      <td>1</td>\n",
       "      <td>3</td>\n",
       "      <td>Heikkinen, Miss. Laina</td>\n",
       "      <td>1</td>\n",
       "      <td>26.0</td>\n",
       "      <td>0</td>\n",
       "      <td>0</td>\n",
       "      <td>STON/O2. 3101282</td>\n",
       "      <td>7.9250</td>\n",
       "      <td>NaN</td>\n",
       "      <td>S</td>\n",
       "    </tr>\n",
       "    <tr>\n",
       "      <th>3</th>\n",
       "      <td>4</td>\n",
       "      <td>1</td>\n",
       "      <td>1</td>\n",
       "      <td>Futrelle, Mrs. Jacques Heath (Lily May Peel)</td>\n",
       "      <td>1</td>\n",
       "      <td>35.0</td>\n",
       "      <td>1</td>\n",
       "      <td>0</td>\n",
       "      <td>113803</td>\n",
       "      <td>53.1000</td>\n",
       "      <td>C123</td>\n",
       "      <td>S</td>\n",
       "    </tr>\n",
       "    <tr>\n",
       "      <th>4</th>\n",
       "      <td>5</td>\n",
       "      <td>0</td>\n",
       "      <td>3</td>\n",
       "      <td>Allen, Mr. William Henry</td>\n",
       "      <td>0</td>\n",
       "      <td>35.0</td>\n",
       "      <td>0</td>\n",
       "      <td>0</td>\n",
       "      <td>373450</td>\n",
       "      <td>8.0500</td>\n",
       "      <td>NaN</td>\n",
       "      <td>S</td>\n",
       "    </tr>\n",
       "  </tbody>\n",
       "</table>\n",
       "</div>"
      ],
      "text/plain": [
       "   PassengerId  Survived  Pclass  \\\n",
       "0            1         0       3   \n",
       "1            2         1       1   \n",
       "2            3         1       3   \n",
       "3            4         1       1   \n",
       "4            5         0       3   \n",
       "\n",
       "                                                Name  Sex   Age  SibSp  Parch  \\\n",
       "0                            Braund, Mr. Owen Harris    0  22.0      1      0   \n",
       "1  Cumings, Mrs. John Bradley (Florence Briggs Th...    1  38.0      1      0   \n",
       "2                             Heikkinen, Miss. Laina    1  26.0      0      0   \n",
       "3       Futrelle, Mrs. Jacques Heath (Lily May Peel)    1  35.0      1      0   \n",
       "4                           Allen, Mr. William Henry    0  35.0      0      0   \n",
       "\n",
       "             Ticket     Fare Cabin Embarked  \n",
       "0         A/5 21171   7.2500   NaN        S  \n",
       "1          PC 17599  71.2833   C85        C  \n",
       "2  STON/O2. 3101282   7.9250   NaN        S  \n",
       "3            113803  53.1000  C123        S  \n",
       "4            373450   8.0500   NaN        S  "
      ]
     },
     "execution_count": 18,
     "metadata": {},
     "output_type": "execute_result"
    }
   ],
   "source": [
    "df.head()"
   ]
  },
  {
   "cell_type": "code",
   "execution_count": 19,
   "metadata": {
    "id": "X423UOqL-gw8"
   },
   "outputs": [],
   "source": [
    "temp = df.copy()"
   ]
  },
  {
   "cell_type": "markdown",
   "metadata": {
    "id": "zxXb0QMi-gw9"
   },
   "source": [
    "### <font color='yellow'> 여기를 채워주세요~ </font>"
   ]
  },
  {
   "cell_type": "code",
   "execution_count": 21,
   "metadata": {
    "id": "mRqr8Tqn-gw9"
   },
   "outputs": [],
   "source": [
    "#################################################################################\n",
    "#################################################################################\n",
    "#################################################################################\n",
    "\n",
    "# Embarked, Pclass 칼럼을 더미변수로 바꿔주세요~\n",
    "temp = pd.get_dummies(data = temp, columns = ['Embarked', 'Pclass'], drop_first = False)\n",
    "#################################################################################\n",
    "#################################################################################\n",
    "#################################################################################"
   ]
  },
  {
   "cell_type": "code",
   "execution_count": 22,
   "metadata": {
    "id": "xTDxeedh-gw-",
    "outputId": "adff9488-7875-42f2-86bf-3490a3da32c5",
    "scrolled": true
   },
   "outputs": [
    {
     "data": {
      "text/html": [
       "<div>\n",
       "<style scoped>\n",
       "    .dataframe tbody tr th:only-of-type {\n",
       "        vertical-align: middle;\n",
       "    }\n",
       "\n",
       "    .dataframe tbody tr th {\n",
       "        vertical-align: top;\n",
       "    }\n",
       "\n",
       "    .dataframe thead th {\n",
       "        text-align: right;\n",
       "    }\n",
       "</style>\n",
       "<table border=\"1\" class=\"dataframe\">\n",
       "  <thead>\n",
       "    <tr style=\"text-align: right;\">\n",
       "      <th></th>\n",
       "      <th>PassengerId</th>\n",
       "      <th>Survived</th>\n",
       "      <th>Name</th>\n",
       "      <th>Sex</th>\n",
       "      <th>Age</th>\n",
       "      <th>SibSp</th>\n",
       "      <th>Parch</th>\n",
       "      <th>Ticket</th>\n",
       "      <th>Fare</th>\n",
       "      <th>Cabin</th>\n",
       "      <th>Embarked_C</th>\n",
       "      <th>Embarked_Q</th>\n",
       "      <th>Embarked_S</th>\n",
       "      <th>Pclass_1</th>\n",
       "      <th>Pclass_2</th>\n",
       "      <th>Pclass_3</th>\n",
       "    </tr>\n",
       "  </thead>\n",
       "  <tbody>\n",
       "    <tr>\n",
       "      <th>0</th>\n",
       "      <td>1</td>\n",
       "      <td>0</td>\n",
       "      <td>Braund, Mr. Owen Harris</td>\n",
       "      <td>0</td>\n",
       "      <td>22.0</td>\n",
       "      <td>1</td>\n",
       "      <td>0</td>\n",
       "      <td>A/5 21171</td>\n",
       "      <td>7.2500</td>\n",
       "      <td>NaN</td>\n",
       "      <td>0</td>\n",
       "      <td>0</td>\n",
       "      <td>1</td>\n",
       "      <td>0</td>\n",
       "      <td>0</td>\n",
       "      <td>1</td>\n",
       "    </tr>\n",
       "    <tr>\n",
       "      <th>1</th>\n",
       "      <td>2</td>\n",
       "      <td>1</td>\n",
       "      <td>Cumings, Mrs. John Bradley (Florence Briggs Th...</td>\n",
       "      <td>1</td>\n",
       "      <td>38.0</td>\n",
       "      <td>1</td>\n",
       "      <td>0</td>\n",
       "      <td>PC 17599</td>\n",
       "      <td>71.2833</td>\n",
       "      <td>C85</td>\n",
       "      <td>1</td>\n",
       "      <td>0</td>\n",
       "      <td>0</td>\n",
       "      <td>1</td>\n",
       "      <td>0</td>\n",
       "      <td>0</td>\n",
       "    </tr>\n",
       "    <tr>\n",
       "      <th>2</th>\n",
       "      <td>3</td>\n",
       "      <td>1</td>\n",
       "      <td>Heikkinen, Miss. Laina</td>\n",
       "      <td>1</td>\n",
       "      <td>26.0</td>\n",
       "      <td>0</td>\n",
       "      <td>0</td>\n",
       "      <td>STON/O2. 3101282</td>\n",
       "      <td>7.9250</td>\n",
       "      <td>NaN</td>\n",
       "      <td>0</td>\n",
       "      <td>0</td>\n",
       "      <td>1</td>\n",
       "      <td>0</td>\n",
       "      <td>0</td>\n",
       "      <td>1</td>\n",
       "    </tr>\n",
       "    <tr>\n",
       "      <th>3</th>\n",
       "      <td>4</td>\n",
       "      <td>1</td>\n",
       "      <td>Futrelle, Mrs. Jacques Heath (Lily May Peel)</td>\n",
       "      <td>1</td>\n",
       "      <td>35.0</td>\n",
       "      <td>1</td>\n",
       "      <td>0</td>\n",
       "      <td>113803</td>\n",
       "      <td>53.1000</td>\n",
       "      <td>C123</td>\n",
       "      <td>0</td>\n",
       "      <td>0</td>\n",
       "      <td>1</td>\n",
       "      <td>1</td>\n",
       "      <td>0</td>\n",
       "      <td>0</td>\n",
       "    </tr>\n",
       "    <tr>\n",
       "      <th>4</th>\n",
       "      <td>5</td>\n",
       "      <td>0</td>\n",
       "      <td>Allen, Mr. William Henry</td>\n",
       "      <td>0</td>\n",
       "      <td>35.0</td>\n",
       "      <td>0</td>\n",
       "      <td>0</td>\n",
       "      <td>373450</td>\n",
       "      <td>8.0500</td>\n",
       "      <td>NaN</td>\n",
       "      <td>0</td>\n",
       "      <td>0</td>\n",
       "      <td>1</td>\n",
       "      <td>0</td>\n",
       "      <td>0</td>\n",
       "      <td>1</td>\n",
       "    </tr>\n",
       "    <tr>\n",
       "      <th>...</th>\n",
       "      <td>...</td>\n",
       "      <td>...</td>\n",
       "      <td>...</td>\n",
       "      <td>...</td>\n",
       "      <td>...</td>\n",
       "      <td>...</td>\n",
       "      <td>...</td>\n",
       "      <td>...</td>\n",
       "      <td>...</td>\n",
       "      <td>...</td>\n",
       "      <td>...</td>\n",
       "      <td>...</td>\n",
       "      <td>...</td>\n",
       "      <td>...</td>\n",
       "      <td>...</td>\n",
       "      <td>...</td>\n",
       "    </tr>\n",
       "    <tr>\n",
       "      <th>886</th>\n",
       "      <td>887</td>\n",
       "      <td>0</td>\n",
       "      <td>Montvila, Rev. Juozas</td>\n",
       "      <td>0</td>\n",
       "      <td>27.0</td>\n",
       "      <td>0</td>\n",
       "      <td>0</td>\n",
       "      <td>211536</td>\n",
       "      <td>13.0000</td>\n",
       "      <td>NaN</td>\n",
       "      <td>0</td>\n",
       "      <td>0</td>\n",
       "      <td>1</td>\n",
       "      <td>0</td>\n",
       "      <td>1</td>\n",
       "      <td>0</td>\n",
       "    </tr>\n",
       "    <tr>\n",
       "      <th>887</th>\n",
       "      <td>888</td>\n",
       "      <td>1</td>\n",
       "      <td>Graham, Miss. Margaret Edith</td>\n",
       "      <td>1</td>\n",
       "      <td>19.0</td>\n",
       "      <td>0</td>\n",
       "      <td>0</td>\n",
       "      <td>112053</td>\n",
       "      <td>30.0000</td>\n",
       "      <td>B42</td>\n",
       "      <td>0</td>\n",
       "      <td>0</td>\n",
       "      <td>1</td>\n",
       "      <td>1</td>\n",
       "      <td>0</td>\n",
       "      <td>0</td>\n",
       "    </tr>\n",
       "    <tr>\n",
       "      <th>888</th>\n",
       "      <td>889</td>\n",
       "      <td>0</td>\n",
       "      <td>Johnston, Miss. Catherine Helen \"Carrie\"</td>\n",
       "      <td>1</td>\n",
       "      <td>NaN</td>\n",
       "      <td>1</td>\n",
       "      <td>2</td>\n",
       "      <td>W./C. 6607</td>\n",
       "      <td>23.4500</td>\n",
       "      <td>NaN</td>\n",
       "      <td>0</td>\n",
       "      <td>0</td>\n",
       "      <td>1</td>\n",
       "      <td>0</td>\n",
       "      <td>0</td>\n",
       "      <td>1</td>\n",
       "    </tr>\n",
       "    <tr>\n",
       "      <th>889</th>\n",
       "      <td>890</td>\n",
       "      <td>1</td>\n",
       "      <td>Behr, Mr. Karl Howell</td>\n",
       "      <td>0</td>\n",
       "      <td>26.0</td>\n",
       "      <td>0</td>\n",
       "      <td>0</td>\n",
       "      <td>111369</td>\n",
       "      <td>30.0000</td>\n",
       "      <td>C148</td>\n",
       "      <td>1</td>\n",
       "      <td>0</td>\n",
       "      <td>0</td>\n",
       "      <td>1</td>\n",
       "      <td>0</td>\n",
       "      <td>0</td>\n",
       "    </tr>\n",
       "    <tr>\n",
       "      <th>890</th>\n",
       "      <td>891</td>\n",
       "      <td>0</td>\n",
       "      <td>Dooley, Mr. Patrick</td>\n",
       "      <td>0</td>\n",
       "      <td>32.0</td>\n",
       "      <td>0</td>\n",
       "      <td>0</td>\n",
       "      <td>370376</td>\n",
       "      <td>7.7500</td>\n",
       "      <td>NaN</td>\n",
       "      <td>0</td>\n",
       "      <td>1</td>\n",
       "      <td>0</td>\n",
       "      <td>0</td>\n",
       "      <td>0</td>\n",
       "      <td>1</td>\n",
       "    </tr>\n",
       "  </tbody>\n",
       "</table>\n",
       "<p>891 rows × 16 columns</p>\n",
       "</div>"
      ],
      "text/plain": [
       "     PassengerId  Survived                                               Name  \\\n",
       "0              1         0                            Braund, Mr. Owen Harris   \n",
       "1              2         1  Cumings, Mrs. John Bradley (Florence Briggs Th...   \n",
       "2              3         1                             Heikkinen, Miss. Laina   \n",
       "3              4         1       Futrelle, Mrs. Jacques Heath (Lily May Peel)   \n",
       "4              5         0                           Allen, Mr. William Henry   \n",
       "..           ...       ...                                                ...   \n",
       "886          887         0                              Montvila, Rev. Juozas   \n",
       "887          888         1                       Graham, Miss. Margaret Edith   \n",
       "888          889         0           Johnston, Miss. Catherine Helen \"Carrie\"   \n",
       "889          890         1                              Behr, Mr. Karl Howell   \n",
       "890          891         0                                Dooley, Mr. Patrick   \n",
       "\n",
       "     Sex   Age  SibSp  Parch            Ticket     Fare Cabin  Embarked_C  \\\n",
       "0      0  22.0      1      0         A/5 21171   7.2500   NaN           0   \n",
       "1      1  38.0      1      0          PC 17599  71.2833   C85           1   \n",
       "2      1  26.0      0      0  STON/O2. 3101282   7.9250   NaN           0   \n",
       "3      1  35.0      1      0            113803  53.1000  C123           0   \n",
       "4      0  35.0      0      0            373450   8.0500   NaN           0   \n",
       "..   ...   ...    ...    ...               ...      ...   ...         ...   \n",
       "886    0  27.0      0      0            211536  13.0000   NaN           0   \n",
       "887    1  19.0      0      0            112053  30.0000   B42           0   \n",
       "888    1   NaN      1      2        W./C. 6607  23.4500   NaN           0   \n",
       "889    0  26.0      0      0            111369  30.0000  C148           1   \n",
       "890    0  32.0      0      0            370376   7.7500   NaN           0   \n",
       "\n",
       "     Embarked_Q  Embarked_S  Pclass_1  Pclass_2  Pclass_3  \n",
       "0             0           1         0         0         1  \n",
       "1             0           0         1         0         0  \n",
       "2             0           1         0         0         1  \n",
       "3             0           1         1         0         0  \n",
       "4             0           1         0         0         1  \n",
       "..          ...         ...       ...       ...       ...  \n",
       "886           0           1         0         1         0  \n",
       "887           0           1         1         0         0  \n",
       "888           0           1         0         0         1  \n",
       "889           0           0         1         0         0  \n",
       "890           1           0         0         0         1  \n",
       "\n",
       "[891 rows x 16 columns]"
      ]
     },
     "execution_count": 22,
     "metadata": {},
     "output_type": "execute_result"
    }
   ],
   "source": [
    "temp"
   ]
  },
  {
   "cell_type": "code",
   "execution_count": 23,
   "metadata": {
    "id": "CBbMyZKP-gw-"
   },
   "outputs": [],
   "source": [
    "df = temp.copy()"
   ]
  },
  {
   "cell_type": "code",
   "execution_count": 24,
   "metadata": {
    "id": "spNQd9ey-gw_",
    "outputId": "869dd3fd-fd1e-4916-d896-0243a74febe2"
   },
   "outputs": [
    {
     "data": {
      "text/html": [
       "<div>\n",
       "<style scoped>\n",
       "    .dataframe tbody tr th:only-of-type {\n",
       "        vertical-align: middle;\n",
       "    }\n",
       "\n",
       "    .dataframe tbody tr th {\n",
       "        vertical-align: top;\n",
       "    }\n",
       "\n",
       "    .dataframe thead th {\n",
       "        text-align: right;\n",
       "    }\n",
       "</style>\n",
       "<table border=\"1\" class=\"dataframe\">\n",
       "  <thead>\n",
       "    <tr style=\"text-align: right;\">\n",
       "      <th></th>\n",
       "      <th>PassengerId</th>\n",
       "      <th>Survived</th>\n",
       "      <th>Name</th>\n",
       "      <th>Sex</th>\n",
       "      <th>Age</th>\n",
       "      <th>SibSp</th>\n",
       "      <th>Parch</th>\n",
       "      <th>Ticket</th>\n",
       "      <th>Fare</th>\n",
       "      <th>Cabin</th>\n",
       "      <th>Embarked_C</th>\n",
       "      <th>Embarked_Q</th>\n",
       "      <th>Embarked_S</th>\n",
       "      <th>Pclass_1</th>\n",
       "      <th>Pclass_2</th>\n",
       "      <th>Pclass_3</th>\n",
       "    </tr>\n",
       "  </thead>\n",
       "  <tbody>\n",
       "    <tr>\n",
       "      <th>0</th>\n",
       "      <td>1</td>\n",
       "      <td>0</td>\n",
       "      <td>Braund, Mr. Owen Harris</td>\n",
       "      <td>0</td>\n",
       "      <td>22.0</td>\n",
       "      <td>1</td>\n",
       "      <td>0</td>\n",
       "      <td>A/5 21171</td>\n",
       "      <td>7.2500</td>\n",
       "      <td>NaN</td>\n",
       "      <td>0</td>\n",
       "      <td>0</td>\n",
       "      <td>1</td>\n",
       "      <td>0</td>\n",
       "      <td>0</td>\n",
       "      <td>1</td>\n",
       "    </tr>\n",
       "    <tr>\n",
       "      <th>1</th>\n",
       "      <td>2</td>\n",
       "      <td>1</td>\n",
       "      <td>Cumings, Mrs. John Bradley (Florence Briggs Th...</td>\n",
       "      <td>1</td>\n",
       "      <td>38.0</td>\n",
       "      <td>1</td>\n",
       "      <td>0</td>\n",
       "      <td>PC 17599</td>\n",
       "      <td>71.2833</td>\n",
       "      <td>C85</td>\n",
       "      <td>1</td>\n",
       "      <td>0</td>\n",
       "      <td>0</td>\n",
       "      <td>1</td>\n",
       "      <td>0</td>\n",
       "      <td>0</td>\n",
       "    </tr>\n",
       "    <tr>\n",
       "      <th>2</th>\n",
       "      <td>3</td>\n",
       "      <td>1</td>\n",
       "      <td>Heikkinen, Miss. Laina</td>\n",
       "      <td>1</td>\n",
       "      <td>26.0</td>\n",
       "      <td>0</td>\n",
       "      <td>0</td>\n",
       "      <td>STON/O2. 3101282</td>\n",
       "      <td>7.9250</td>\n",
       "      <td>NaN</td>\n",
       "      <td>0</td>\n",
       "      <td>0</td>\n",
       "      <td>1</td>\n",
       "      <td>0</td>\n",
       "      <td>0</td>\n",
       "      <td>1</td>\n",
       "    </tr>\n",
       "    <tr>\n",
       "      <th>3</th>\n",
       "      <td>4</td>\n",
       "      <td>1</td>\n",
       "      <td>Futrelle, Mrs. Jacques Heath (Lily May Peel)</td>\n",
       "      <td>1</td>\n",
       "      <td>35.0</td>\n",
       "      <td>1</td>\n",
       "      <td>0</td>\n",
       "      <td>113803</td>\n",
       "      <td>53.1000</td>\n",
       "      <td>C123</td>\n",
       "      <td>0</td>\n",
       "      <td>0</td>\n",
       "      <td>1</td>\n",
       "      <td>1</td>\n",
       "      <td>0</td>\n",
       "      <td>0</td>\n",
       "    </tr>\n",
       "    <tr>\n",
       "      <th>4</th>\n",
       "      <td>5</td>\n",
       "      <td>0</td>\n",
       "      <td>Allen, Mr. William Henry</td>\n",
       "      <td>0</td>\n",
       "      <td>35.0</td>\n",
       "      <td>0</td>\n",
       "      <td>0</td>\n",
       "      <td>373450</td>\n",
       "      <td>8.0500</td>\n",
       "      <td>NaN</td>\n",
       "      <td>0</td>\n",
       "      <td>0</td>\n",
       "      <td>1</td>\n",
       "      <td>0</td>\n",
       "      <td>0</td>\n",
       "      <td>1</td>\n",
       "    </tr>\n",
       "  </tbody>\n",
       "</table>\n",
       "</div>"
      ],
      "text/plain": [
       "   PassengerId  Survived                                               Name  \\\n",
       "0            1         0                            Braund, Mr. Owen Harris   \n",
       "1            2         1  Cumings, Mrs. John Bradley (Florence Briggs Th...   \n",
       "2            3         1                             Heikkinen, Miss. Laina   \n",
       "3            4         1       Futrelle, Mrs. Jacques Heath (Lily May Peel)   \n",
       "4            5         0                           Allen, Mr. William Henry   \n",
       "\n",
       "   Sex   Age  SibSp  Parch            Ticket     Fare Cabin  Embarked_C  \\\n",
       "0    0  22.0      1      0         A/5 21171   7.2500   NaN           0   \n",
       "1    1  38.0      1      0          PC 17599  71.2833   C85           1   \n",
       "2    1  26.0      0      0  STON/O2. 3101282   7.9250   NaN           0   \n",
       "3    1  35.0      1      0            113803  53.1000  C123           0   \n",
       "4    0  35.0      0      0            373450   8.0500   NaN           0   \n",
       "\n",
       "   Embarked_Q  Embarked_S  Pclass_1  Pclass_2  Pclass_3  \n",
       "0           0           1         0         0         1  \n",
       "1           0           0         1         0         0  \n",
       "2           0           1         0         0         1  \n",
       "3           0           1         1         0         0  \n",
       "4           0           1         0         0         1  "
      ]
     },
     "execution_count": 24,
     "metadata": {},
     "output_type": "execute_result"
    }
   ],
   "source": [
    "df.head()"
   ]
  },
  {
   "cell_type": "markdown",
   "metadata": {
    "id": "LdtIesMa-gw_"
   },
   "source": [
    "# 3. 결측값 채워주기"
   ]
  },
  {
   "cell_type": "code",
   "execution_count": 25,
   "metadata": {
    "id": "8mhXlQVw-gxA",
    "outputId": "01fcdcfe-9af0-48cb-8f64-31978ccc9d68"
   },
   "outputs": [
    {
     "data": {
      "text/plain": [
       "PassengerId      0\n",
       "Survived         0\n",
       "Name             0\n",
       "Sex              0\n",
       "Age            177\n",
       "SibSp            0\n",
       "Parch            0\n",
       "Ticket           0\n",
       "Fare             0\n",
       "Cabin          687\n",
       "Embarked_C       0\n",
       "Embarked_Q       0\n",
       "Embarked_S       0\n",
       "Pclass_1         0\n",
       "Pclass_2         0\n",
       "Pclass_3         0\n",
       "dtype: int64"
      ]
     },
     "execution_count": 25,
     "metadata": {},
     "output_type": "execute_result"
    }
   ],
   "source": [
    "df.isnull().sum()"
   ]
  },
  {
   "cell_type": "markdown",
   "metadata": {
    "id": "NqTWcASA-gxA"
   },
   "source": [
    "### 아까 본 것처럼!\n",
    "- titanic data에는 *Age, Cabin* 칼럼에 결측치가 있습니다 \n",
    "<br>\n",
    "\n",
    "- 지난 EDA 과제에서 살펴본 바에 의하면 Age는 생존여부에 영향을 꽤 많이 미쳤지만  \n",
    "\n",
    "- Cabin은 생존여부에 영향이 미미함.  \n",
    "<br>\n",
    "\n",
    "- 또한 Cabin은 value들을 살펴보면 value값이 147개이고 적당한 value 값을 넣어주기 힘듦.  \n",
    "\n",
    "<br>\n",
    "\n",
    "- 그래서 Age는 결측치를 채워줄 껀데 Cabin은 버립니다  <br>\n",
    "(Cabin에 대해서도 Feature Engineering을 하는 사람도 있습니다. 지극히 개인적인 견해입니다)"
   ]
  },
  {
   "cell_type": "code",
   "execution_count": 26,
   "metadata": {
    "id": "u6qN2Pu7-gxB",
    "outputId": "06822afe-4bf1-4024-a0de-ba17acea8bb8",
    "scrolled": true
   },
   "outputs": [
    {
     "data": {
      "text/plain": [
       "0       NaN\n",
       "1       C85\n",
       "2       NaN\n",
       "3      C123\n",
       "4       NaN\n",
       "       ... \n",
       "886     NaN\n",
       "887     B42\n",
       "888     NaN\n",
       "889    C148\n",
       "890     NaN\n",
       "Name: Cabin, Length: 891, dtype: object"
      ]
     },
     "execution_count": 26,
     "metadata": {},
     "output_type": "execute_result"
    }
   ],
   "source": [
    "# Cabin은 적당한 value 찾기가 힘듬\n",
    "df['Cabin']"
   ]
  },
  {
   "cell_type": "markdown",
   "metadata": {
    "id": "E80zvZox-gxB"
   },
   "source": [
    "column의 value의 갯수를 알고 싶으면 `.nunique()`를 쓰면 됩니다!"
   ]
  },
  {
   "cell_type": "code",
   "execution_count": 27,
   "metadata": {
    "id": "WXjs-QH0-gxB",
    "outputId": "1e61fc2c-b4f1-4b3c-d25b-554e6c911b8a"
   },
   "outputs": [
    {
     "data": {
      "text/plain": [
       "147"
      ]
     },
     "execution_count": 27,
     "metadata": {},
     "output_type": "execute_result"
    }
   ],
   "source": [
    "# value값이 147개임\n",
    "df['Cabin'].nunique()"
   ]
  },
  {
   "cell_type": "markdown",
   "metadata": {
    "id": "CfqRUpDg-gxC"
   },
   "source": [
    "\n",
    "Age만 결측치를 채워봅시다"
   ]
  },
  {
   "cell_type": "markdown",
   "metadata": {
    "id": "UsRKKj5_-gxC"
   },
   "source": [
    "### 이번엔! .extract, .replace, .groupby, .map를 써봅시다!\n",
    "그냥 ['Age'].mean()으로 NaN 값을 대체할 수도 있지만  \n",
    "\n",
    "좀 더 디테일하게 들어가고 싶기 때문에 각 성별에 따른 median 값을 넣어줄 겁니다!  \n",
    "<br>\n",
    "\n",
    "Name 칼럼을 잘 보면 Mr, Mrs, Miss, Dr 같이 직업, 성별을 추측할 수 있는 단서가 있어요!  \n",
    "\n",
    "이것을 활용해서 Age의 결측치를 채워볼 겁니다~  \n",
    "<br>\n",
    "\n",
    "- 1st) 이름에서 Mr, Mrs, Miss, Dr를 정규식으로 추출! \n",
    "<br>\n",
    "\n",
    "- 2nd) Title(Mr, Mrs, Miss etc)를 4가지 분류로 통합!\n",
    "<br>\n",
    "\n",
    "- 3rd) Title 별로 나이의 median을 구한 뒤\n",
    "<br>\n",
    "\n",
    "- 4th) 결측치를 채운다!!!  \n",
    "<br>\n",
    "\n",
    "### 하나씩 해봅시다."
   ]
  },
  {
   "cell_type": "markdown",
   "metadata": {
    "id": "SnHQ_ybd-gxD"
   },
   "source": [
    "## <font color='green'>1st) 이름에서 Mr, Mrs, Miss, Dr를 정규식으로 추출!</font>"
   ]
  },
  {
   "cell_type": "code",
   "execution_count": 28,
   "metadata": {
    "id": "Q54_LJ2a-gxD"
   },
   "outputs": [],
   "source": [
    "temp = df.copy()"
   ]
  },
  {
   "cell_type": "code",
   "execution_count": 29,
   "metadata": {
    "id": "oq6S1ViD-gxD"
   },
   "outputs": [],
   "source": [
    "# 정규식 코드는 제가 드리겠습니당.\n",
    "# 참고하실 것은 column에서 값을 뽑거나, slicing, indexing을 하기 위해서는 .str을 꼭 붙여야 해요!!\n",
    "\n",
    "temp['Title'] = temp.Name.str.extract('([A-Za-z]+)\\.')"
   ]
  },
  {
   "cell_type": "code",
   "execution_count": 30,
   "metadata": {
    "id": "c-AErrjB-gxD",
    "outputId": "a4b67e47-079a-4e04-8d36-a548e74dd72b",
    "scrolled": true
   },
   "outputs": [
    {
     "data": {
      "text/plain": [
       "0        Mr\n",
       "1       Mrs\n",
       "2      Miss\n",
       "3       Mrs\n",
       "4        Mr\n",
       "       ... \n",
       "886     Rev\n",
       "887    Miss\n",
       "888    Miss\n",
       "889      Mr\n",
       "890      Mr\n",
       "Name: Title, Length: 891, dtype: object"
      ]
     },
     "execution_count": 30,
     "metadata": {},
     "output_type": "execute_result"
    }
   ],
   "source": [
    "temp['Title']"
   ]
  },
  {
   "cell_type": "code",
   "execution_count": 31,
   "metadata": {
    "id": "aYQUC9XO-gxE",
    "outputId": "a2566904-bd79-4bac-c4fa-9eda793a41a5"
   },
   "outputs": [
    {
     "data": {
      "text/plain": [
       "array(['Mr', 'Mrs', 'Miss', 'Master', 'Don', 'Rev', 'Dr', 'Mme', 'Ms',\n",
       "       'Major', 'Lady', 'Sir', 'Mlle', 'Col', 'Capt', 'Countess',\n",
       "       'Jonkheer'], dtype=object)"
      ]
     },
     "execution_count": 31,
     "metadata": {},
     "output_type": "execute_result"
    }
   ],
   "source": [
    "# Title의 value들을 살펴보면 요로로콤!!\n",
    "temp['Title'].unique()"
   ]
  },
  {
   "cell_type": "markdown",
   "metadata": {
    "id": "ybzlydXm-gxE"
   },
   "source": [
    "## <font color='green'>2nd) Title(Mr, Mrs, Miss etc)를 4가지 분류로 통합!</font>"
   ]
  },
  {
   "cell_type": "markdown",
   "metadata": {
    "id": "SctSvEEI-gxE"
   },
   "source": [
    "# <font color='red'>[과제부분!] (4/11)</font>\n",
    "### 아까 배운 .replace 함수를 이용해서 Master, Miss, Mrs, Mr, Other 5가지로 분류해주세요!       \n",
    "- 'Mlle','Mme','Ms','Dr','Major','Lady','Countess','Jonkheer','Col','Rev','Capt','Sir','Don', 'Dona' -> 얘네들을 Other로 합쳐주세요\n",
    "\n",
    "- 위에 과제 (1/ )에서 첫 번째 코드를 활용하면 됩니다~"
   ]
  },
  {
   "cell_type": "markdown",
   "metadata": {
    "id": "3GZ4JehN-gxF"
   },
   "source": [
    "### <font color='yellow'> 여기를 채워주세요~ </font>"
   ]
  },
  {
   "cell_type": "code",
   "execution_count": 70,
   "metadata": {
    "id": "dDvMJmcl-gxF"
   },
   "outputs": [],
   "source": [
    "#################################################################################\n",
    "#################################################################################\n",
    "#################################################################################\n",
    "\n",
    "# Master, Miss, Mrs, Mr 말고는 모두 Other로 바꿔주세요~\n",
    "temp['Title'].replace(['Mlle','Mme','Ms','Dr','Major','Lady','Countess','Jonkheer',\n",
    "                       'Col','Rev','Capt','Sir','Don', 'Dona'],\n",
    "                     'Other', inplace = True)\n",
    "\n",
    "\n",
    "#################################################################################\n",
    "#################################################################################\n",
    "#################################################################################"
   ]
  },
  {
   "cell_type": "code",
   "execution_count": 71,
   "metadata": {
    "id": "L8gbtcLF-gxF",
    "outputId": "f00be8f7-debb-425c-f470-9f65a3a951eb",
    "scrolled": true
   },
   "outputs": [
    {
     "data": {
      "text/plain": [
       "Mr        517\n",
       "Miss      182\n",
       "Mrs       125\n",
       "Master     40\n",
       "Other      27\n",
       "Name: Title, dtype: int64"
      ]
     },
     "execution_count": 71,
     "metadata": {},
     "output_type": "execute_result"
    }
   ],
   "source": [
    "temp['Title'].value_counts()"
   ]
  },
  {
   "cell_type": "code",
   "execution_count": 34,
   "metadata": {
    "id": "UILX21nZ-gxF"
   },
   "outputs": [],
   "source": [
    "df = temp.copy()"
   ]
  },
  {
   "cell_type": "markdown",
   "metadata": {
    "id": "sxDhK53t-gxG"
   },
   "source": [
    "## <font color='green'>3rd) Title 별로 나이의 median을 구한 뒤</font>"
   ]
  },
  {
   "cell_type": "markdown",
   "metadata": {
    "id": "BDWPMxJt-gxG"
   },
   "source": [
    "# <font color='red'>[과제부분!] (5/11)</font>\n",
    "### groupby( )[ ] 함수를 통해서 median 구하기!\n",
    "\n",
    "> ``` python\n",
    ".groupby(세로열)[가로열].operation( )\n",
    "> ```\n",
    "\n",
    "> ``` python\n",
    ".groupby(세로열)[[가로열]].쓸 함수( )\n",
    "> ```\n",
    "\n",
    "numpy, pandas 시간에 groupby 배웠죠?  \n",
    "<br>\n",
    "\n",
    "그걸 써보는 시간입니당~  \n",
    "<br>\n",
    "\n",
    "각 Title 별로 Age의 median을 구해봐요~"
   ]
  },
  {
   "cell_type": "markdown",
   "metadata": {
    "id": "-ybsFGNp-gxH"
   },
   "source": [
    "### <font color='yellow'> 여기를 채워주세요~ </font>"
   ]
  },
  {
   "cell_type": "code",
   "execution_count": 35,
   "metadata": {
    "id": "ACzmDn71-gxH"
   },
   "outputs": [],
   "source": [
    "temp = df.copy()"
   ]
  },
  {
   "cell_type": "code",
   "execution_count": 36,
   "metadata": {
    "id": "yW5Gmhly-gxH",
    "outputId": "b37b4f1b-2ac9-4e9a-acdd-e3ee5d50a735"
   },
   "outputs": [
    {
     "data": {
      "text/html": [
       "<div>\n",
       "<style scoped>\n",
       "    .dataframe tbody tr th:only-of-type {\n",
       "        vertical-align: middle;\n",
       "    }\n",
       "\n",
       "    .dataframe tbody tr th {\n",
       "        vertical-align: top;\n",
       "    }\n",
       "\n",
       "    .dataframe thead th {\n",
       "        text-align: right;\n",
       "    }\n",
       "</style>\n",
       "<table border=\"1\" class=\"dataframe\">\n",
       "  <thead>\n",
       "    <tr style=\"text-align: right;\">\n",
       "      <th></th>\n",
       "      <th>Age</th>\n",
       "    </tr>\n",
       "    <tr>\n",
       "      <th>Title</th>\n",
       "      <th></th>\n",
       "    </tr>\n",
       "  </thead>\n",
       "  <tbody>\n",
       "    <tr>\n",
       "      <th>Master</th>\n",
       "      <td>3.5</td>\n",
       "    </tr>\n",
       "    <tr>\n",
       "      <th>Miss</th>\n",
       "      <td>21.0</td>\n",
       "    </tr>\n",
       "    <tr>\n",
       "      <th>Mr</th>\n",
       "      <td>30.0</td>\n",
       "    </tr>\n",
       "    <tr>\n",
       "      <th>Mrs</th>\n",
       "      <td>35.0</td>\n",
       "    </tr>\n",
       "    <tr>\n",
       "      <th>Other</th>\n",
       "      <td>44.5</td>\n",
       "    </tr>\n",
       "  </tbody>\n",
       "</table>\n",
       "</div>"
      ],
      "text/plain": [
       "         Age\n",
       "Title       \n",
       "Master   3.5\n",
       "Miss    21.0\n",
       "Mr      30.0\n",
       "Mrs     35.0\n",
       "Other   44.5"
      ]
     },
     "execution_count": 36,
     "metadata": {},
     "output_type": "execute_result"
    }
   ],
   "source": [
    "#################################################################################\n",
    "#################################################################################\n",
    "#################################################################################\n",
    "\n",
    "# groupby를 써주세요~\n",
    "\n",
    "temp.groupby('Title')[[\"Age\"]].median()\n",
    "#################################################################################\n",
    "#################################################################################\n",
    "#################################################################################"
   ]
  },
  {
   "cell_type": "markdown",
   "metadata": {
    "id": "icO3JmQe-gxI"
   },
   "source": [
    "## <font color='green'>4th) 결측치를 채운다!!!</font>"
   ]
  },
  {
   "cell_type": "markdown",
   "metadata": {
    "id": "Y2PSeV1Z-gxI"
   },
   "source": [
    "# <font color='red'>[과제부분!] (6/11)</font>\n",
    "### dict, zip( ), .map( )을 활용해서 Age 결측치 채우기!   \n",
    "위에서 .map( )을 활용하려면 안에 dictionary 형태의 자료형이 와야 된다고 말씀드렸잖아요~  \n",
    "<br>\n",
    "\n",
    "그래서 Title과 Age로 dictionary로 만들고서  \n",
    "<br>\n",
    "\n",
    "그걸 바탕으로 Age의 결측치를 채워줄 겁니다~~  \n",
    "<br>\n",
    "\n",
    "### Zip\n",
    "`zip`이란 길이가 같은 자료를 하나 하나씩 매칭해주는 내장함수입니다~! <font color='white'></font>  \n",
    "<br>\n",
    "예시를 들자면  \n",
    "> ``` python\n",
    "list(zip([1, 2, 3], [4, 5, 6]))\n",
    ">```\n",
    "[(1, 4), (2, 5), (3, 6)]\n",
    "\n",
    "> ``` python\n",
    "list(zip(\"abc\", \"def\"))\n",
    ">```\n",
    "[('a', 'd'), ('b', 'e'), ('c', 'f')]\n",
    "\n",
    "> ``` python\n",
    "dict(zip(\"abc\", [1,2,3]))\n",
    ">```\n",
    "{'a': 1, 'b': 2, 'c': 3}\n",
    "\n",
    "<br>\n",
    "마지막 예시처럼 zip을 사용하면 진짜 개손쉽게 dictionary를 만들 수 있음  \n",
    "\n",
    "이렇게 만들어서 map과 함께 사용해보는 실습을 하겠습니다"
   ]
  },
  {
   "cell_type": "code",
   "execution_count": 37,
   "metadata": {
    "id": "XiRnVgxG-gxI",
    "outputId": "6391a7e2-70ea-4737-fedb-134841f9a026"
   },
   "outputs": [
    {
     "data": {
      "text/html": [
       "<div>\n",
       "<style scoped>\n",
       "    .dataframe tbody tr th:only-of-type {\n",
       "        vertical-align: middle;\n",
       "    }\n",
       "\n",
       "    .dataframe tbody tr th {\n",
       "        vertical-align: top;\n",
       "    }\n",
       "\n",
       "    .dataframe thead th {\n",
       "        text-align: right;\n",
       "    }\n",
       "</style>\n",
       "<table border=\"1\" class=\"dataframe\">\n",
       "  <thead>\n",
       "    <tr style=\"text-align: right;\">\n",
       "      <th></th>\n",
       "      <th>Age</th>\n",
       "    </tr>\n",
       "    <tr>\n",
       "      <th>Title</th>\n",
       "      <th></th>\n",
       "    </tr>\n",
       "  </thead>\n",
       "  <tbody>\n",
       "    <tr>\n",
       "      <th>Master</th>\n",
       "      <td>3.5</td>\n",
       "    </tr>\n",
       "    <tr>\n",
       "      <th>Miss</th>\n",
       "      <td>21.0</td>\n",
       "    </tr>\n",
       "    <tr>\n",
       "      <th>Mr</th>\n",
       "      <td>30.0</td>\n",
       "    </tr>\n",
       "    <tr>\n",
       "      <th>Mrs</th>\n",
       "      <td>35.0</td>\n",
       "    </tr>\n",
       "    <tr>\n",
       "      <th>Other</th>\n",
       "      <td>44.5</td>\n",
       "    </tr>\n",
       "  </tbody>\n",
       "</table>\n",
       "</div>"
      ],
      "text/plain": [
       "         Age\n",
       "Title       \n",
       "Master   3.5\n",
       "Miss    21.0\n",
       "Mr      30.0\n",
       "Mrs     35.0\n",
       "Other   44.5"
      ]
     },
     "execution_count": 37,
     "metadata": {},
     "output_type": "execute_result"
    }
   ],
   "source": [
    "# 우선 median 값을 dataframe 형태로 만들어주고~\n",
    "title_age = temp.groupby('Title')[['Age']].median()\n",
    "title_age"
   ]
  },
  {
   "cell_type": "markdown",
   "metadata": {
    "id": "DleMZq_9-gxJ"
   },
   "source": [
    "### <font color='yellow'> 여기를 채워주세요~ </font>"
   ]
  },
  {
   "cell_type": "code",
   "execution_count": 38,
   "metadata": {
    "id": "vCnFiFrA-gxJ"
   },
   "outputs": [],
   "source": [
    "#################################################################################\n",
    "#################################################################################\n",
    "#################################################################################\n",
    "\n",
    "# 1st) title에는 title_age의 index를 저장한다.\n",
    "title = title_age.index\n",
    "\n",
    "#################################################################################\n",
    "#################################################################################\n",
    "#################################################################################"
   ]
  },
  {
   "cell_type": "code",
   "execution_count": 39,
   "metadata": {
    "id": "ifLgxFST-gxK",
    "outputId": "6484df76-2ce7-45b9-b9ce-2778487c57ce",
    "scrolled": true
   },
   "outputs": [
    {
     "data": {
      "text/plain": [
       "Index(['Master', 'Miss', 'Mr', 'Mrs', 'Other'], dtype='object', name='Title')"
      ]
     },
     "execution_count": 39,
     "metadata": {},
     "output_type": "execute_result"
    }
   ],
   "source": [
    "title"
   ]
  },
  {
   "cell_type": "markdown",
   "metadata": {
    "id": "XtXyi2Bj-gxK"
   },
   "source": [
    "### <font color='yellow'> 여기를 채워주세요~ </font>"
   ]
  },
  {
   "cell_type": "code",
   "execution_count": 40,
   "metadata": {
    "id": "Kt9rnrRl-gxL"
   },
   "outputs": [],
   "source": [
    "#################################################################################\n",
    "#################################################################################\n",
    "#################################################################################\n",
    "\n",
    "# 2nd) age에는 title_age의 Age 칼럼을 series 형태로 저장한다. \n",
    "age = title_age[\"Age\"]\n",
    "\n",
    "#################################################################################\n",
    "#################################################################################\n",
    "#################################################################################"
   ]
  },
  {
   "cell_type": "code",
   "execution_count": 41,
   "metadata": {
    "id": "7id9Gg2C-gxL",
    "outputId": "bb237702-fedd-4b9e-eb6a-f9edb80fcf61"
   },
   "outputs": [
    {
     "data": {
      "text/plain": [
       "Title\n",
       "Master     3.5\n",
       "Miss      21.0\n",
       "Mr        30.0\n",
       "Mrs       35.0\n",
       "Other     44.5\n",
       "Name: Age, dtype: float64"
      ]
     },
     "execution_count": 41,
     "metadata": {},
     "output_type": "execute_result"
    }
   ],
   "source": [
    "age"
   ]
  },
  {
   "cell_type": "markdown",
   "metadata": {
    "id": "VCPqBMa8-gxL"
   },
   "source": [
    "### <font color='yellow'> 여기를 채워주세요~ </font>"
   ]
  },
  {
   "cell_type": "code",
   "execution_count": 42,
   "metadata": {
    "id": "i4R9sThe-gxM"
   },
   "outputs": [],
   "source": [
    "#################################################################################\n",
    "#################################################################################\n",
    "#################################################################################\n",
    "\n",
    "# 3rd) dict과 zip 함수를 활용해서 dictionary로 저장된 dict_title_age를 만든다.\n",
    "dict_title_age = dict(zip(title,age))\n",
    "\n",
    "#################################################################################\n",
    "#################################################################################\n",
    "#################################################################################"
   ]
  },
  {
   "cell_type": "code",
   "execution_count": 43,
   "metadata": {
    "id": "-sS2BeG3-gxM",
    "outputId": "9420c704-f025-4c63-b9e0-cddd85b5c139"
   },
   "outputs": [
    {
     "data": {
      "text/plain": [
       "{'Master': 3.5, 'Miss': 21.0, 'Mr': 30.0, 'Mrs': 35.0, 'Other': 44.5}"
      ]
     },
     "execution_count": 43,
     "metadata": {},
     "output_type": "execute_result"
    }
   ],
   "source": [
    "dict_title_age"
   ]
  },
  {
   "cell_type": "markdown",
   "metadata": {
    "id": "f7PNnv9m-gxN"
   },
   "source": [
    "# <font color='red'>[과제부분!] (7/11)</font>\n",
    "## 이제 fillna()를 활용해서 nan값을 채워줍니다!!  \n",
    "결측치를 채우는 방법으로는 `.fillna()`가 있습니다[링크 텍스트](https://)\n",
    "<br>  \n",
    "\n",
    "`.fillna()`는\n",
    "> ``` python\n",
    ".filnna( 조건 , inplace = True)\n",
    ">```\n",
    "\n",
    "이렇게 쓰면 됩니다."
   ]
  },
  {
   "cell_type": "markdown",
   "metadata": {
    "id": "jg691L4k-gxN"
   },
   "source": [
    "### <font color='yellow'> 여기를 채워주세요~ </font>"
   ]
  },
  {
   "cell_type": "code",
   "execution_count": 44,
   "metadata": {
    "id": "LaYM9qML-gxN"
   },
   "outputs": [],
   "source": [
    "#################################################################################\n",
    "#################################################################################\n",
    "#################################################################################\n",
    "\n",
    "# 'Age_median'이라는 새로운 column을 만들꺼에요~\n",
    "# tip을 드리자면 fillna() 가로안에 조건에 dict_title_age와 매칭시킬 column은 Title로 정해주시면 됩니다~\n",
    "temp['Age_median'] = temp['Age'].fillna(temp['Title'].map(dict_title_age))\n",
    "\n",
    "#################################################################################\n",
    "#################################################################################\n",
    "#################################################################################"
   ]
  },
  {
   "cell_type": "code",
   "execution_count": 45,
   "metadata": {
    "id": "4Pz6OwCG-gxO",
    "outputId": "4045802e-18bd-40d7-935e-5a17dad7d7ca"
   },
   "outputs": [
    {
     "data": {
      "text/html": [
       "<div>\n",
       "<style scoped>\n",
       "    .dataframe tbody tr th:only-of-type {\n",
       "        vertical-align: middle;\n",
       "    }\n",
       "\n",
       "    .dataframe tbody tr th {\n",
       "        vertical-align: top;\n",
       "    }\n",
       "\n",
       "    .dataframe thead th {\n",
       "        text-align: right;\n",
       "    }\n",
       "</style>\n",
       "<table border=\"1\" class=\"dataframe\">\n",
       "  <thead>\n",
       "    <tr style=\"text-align: right;\">\n",
       "      <th></th>\n",
       "      <th>PassengerId</th>\n",
       "      <th>Survived</th>\n",
       "      <th>Name</th>\n",
       "      <th>Sex</th>\n",
       "      <th>Age</th>\n",
       "      <th>SibSp</th>\n",
       "      <th>Parch</th>\n",
       "      <th>Ticket</th>\n",
       "      <th>Fare</th>\n",
       "      <th>Cabin</th>\n",
       "      <th>Embarked_C</th>\n",
       "      <th>Embarked_Q</th>\n",
       "      <th>Embarked_S</th>\n",
       "      <th>Pclass_1</th>\n",
       "      <th>Pclass_2</th>\n",
       "      <th>Pclass_3</th>\n",
       "      <th>Title</th>\n",
       "      <th>Age_median</th>\n",
       "    </tr>\n",
       "  </thead>\n",
       "  <tbody>\n",
       "    <tr>\n",
       "      <th>0</th>\n",
       "      <td>1</td>\n",
       "      <td>0</td>\n",
       "      <td>Braund, Mr. Owen Harris</td>\n",
       "      <td>0</td>\n",
       "      <td>22.0</td>\n",
       "      <td>1</td>\n",
       "      <td>0</td>\n",
       "      <td>A/5 21171</td>\n",
       "      <td>7.2500</td>\n",
       "      <td>NaN</td>\n",
       "      <td>0</td>\n",
       "      <td>0</td>\n",
       "      <td>1</td>\n",
       "      <td>0</td>\n",
       "      <td>0</td>\n",
       "      <td>1</td>\n",
       "      <td>Mr</td>\n",
       "      <td>22.0</td>\n",
       "    </tr>\n",
       "    <tr>\n",
       "      <th>1</th>\n",
       "      <td>2</td>\n",
       "      <td>1</td>\n",
       "      <td>Cumings, Mrs. John Bradley (Florence Briggs Th...</td>\n",
       "      <td>1</td>\n",
       "      <td>38.0</td>\n",
       "      <td>1</td>\n",
       "      <td>0</td>\n",
       "      <td>PC 17599</td>\n",
       "      <td>71.2833</td>\n",
       "      <td>C85</td>\n",
       "      <td>1</td>\n",
       "      <td>0</td>\n",
       "      <td>0</td>\n",
       "      <td>1</td>\n",
       "      <td>0</td>\n",
       "      <td>0</td>\n",
       "      <td>Mrs</td>\n",
       "      <td>38.0</td>\n",
       "    </tr>\n",
       "    <tr>\n",
       "      <th>2</th>\n",
       "      <td>3</td>\n",
       "      <td>1</td>\n",
       "      <td>Heikkinen, Miss. Laina</td>\n",
       "      <td>1</td>\n",
       "      <td>26.0</td>\n",
       "      <td>0</td>\n",
       "      <td>0</td>\n",
       "      <td>STON/O2. 3101282</td>\n",
       "      <td>7.9250</td>\n",
       "      <td>NaN</td>\n",
       "      <td>0</td>\n",
       "      <td>0</td>\n",
       "      <td>1</td>\n",
       "      <td>0</td>\n",
       "      <td>0</td>\n",
       "      <td>1</td>\n",
       "      <td>Miss</td>\n",
       "      <td>26.0</td>\n",
       "    </tr>\n",
       "    <tr>\n",
       "      <th>3</th>\n",
       "      <td>4</td>\n",
       "      <td>1</td>\n",
       "      <td>Futrelle, Mrs. Jacques Heath (Lily May Peel)</td>\n",
       "      <td>1</td>\n",
       "      <td>35.0</td>\n",
       "      <td>1</td>\n",
       "      <td>0</td>\n",
       "      <td>113803</td>\n",
       "      <td>53.1000</td>\n",
       "      <td>C123</td>\n",
       "      <td>0</td>\n",
       "      <td>0</td>\n",
       "      <td>1</td>\n",
       "      <td>1</td>\n",
       "      <td>0</td>\n",
       "      <td>0</td>\n",
       "      <td>Mrs</td>\n",
       "      <td>35.0</td>\n",
       "    </tr>\n",
       "    <tr>\n",
       "      <th>4</th>\n",
       "      <td>5</td>\n",
       "      <td>0</td>\n",
       "      <td>Allen, Mr. William Henry</td>\n",
       "      <td>0</td>\n",
       "      <td>35.0</td>\n",
       "      <td>0</td>\n",
       "      <td>0</td>\n",
       "      <td>373450</td>\n",
       "      <td>8.0500</td>\n",
       "      <td>NaN</td>\n",
       "      <td>0</td>\n",
       "      <td>0</td>\n",
       "      <td>1</td>\n",
       "      <td>0</td>\n",
       "      <td>0</td>\n",
       "      <td>1</td>\n",
       "      <td>Mr</td>\n",
       "      <td>35.0</td>\n",
       "    </tr>\n",
       "  </tbody>\n",
       "</table>\n",
       "</div>"
      ],
      "text/plain": [
       "   PassengerId  Survived                                               Name  \\\n",
       "0            1         0                            Braund, Mr. Owen Harris   \n",
       "1            2         1  Cumings, Mrs. John Bradley (Florence Briggs Th...   \n",
       "2            3         1                             Heikkinen, Miss. Laina   \n",
       "3            4         1       Futrelle, Mrs. Jacques Heath (Lily May Peel)   \n",
       "4            5         0                           Allen, Mr. William Henry   \n",
       "\n",
       "   Sex   Age  SibSp  Parch            Ticket     Fare Cabin  Embarked_C  \\\n",
       "0    0  22.0      1      0         A/5 21171   7.2500   NaN           0   \n",
       "1    1  38.0      1      0          PC 17599  71.2833   C85           1   \n",
       "2    1  26.0      0      0  STON/O2. 3101282   7.9250   NaN           0   \n",
       "3    1  35.0      1      0            113803  53.1000  C123           0   \n",
       "4    0  35.0      0      0            373450   8.0500   NaN           0   \n",
       "\n",
       "   Embarked_Q  Embarked_S  Pclass_1  Pclass_2  Pclass_3 Title  Age_median  \n",
       "0           0           1         0         0         1    Mr        22.0  \n",
       "1           0           0         1         0         0   Mrs        38.0  \n",
       "2           0           1         0         0         1  Miss        26.0  \n",
       "3           0           1         1         0         0   Mrs        35.0  \n",
       "4           0           1         0         0         1    Mr        35.0  "
      ]
     },
     "execution_count": 45,
     "metadata": {},
     "output_type": "execute_result"
    }
   ],
   "source": [
    "temp.head()"
   ]
  },
  {
   "cell_type": "code",
   "execution_count": 46,
   "metadata": {
    "id": "HJ3fY--v-gxO",
    "outputId": "d7f33c58-8530-420e-c6c2-89e18db2a644"
   },
   "outputs": [
    {
     "data": {
      "text/plain": [
       "0"
      ]
     },
     "execution_count": 46,
     "metadata": {},
     "output_type": "execute_result"
    }
   ],
   "source": [
    "# null 값을 확인해보면 0이 나옵니다\n",
    "temp['Age_median'].isnull().sum()"
   ]
  },
  {
   "cell_type": "code",
   "execution_count": 47,
   "metadata": {
    "id": "JBfowMCc-gxP"
   },
   "outputs": [],
   "source": [
    "# 다시 복사해주고 마무리~\n",
    "df = temp.copy()"
   ]
  },
  {
   "cell_type": "markdown",
   "metadata": {
    "id": "JdedBHz9-gxP"
   },
   "source": [
    "# 4. 새로운 column 만들어주기"
   ]
  },
  {
   "cell_type": "code",
   "execution_count": 48,
   "metadata": {
    "id": "makiXXqi-gxP",
    "outputId": "bb8e2363-c2ad-4c7e-b8e3-b52d1835c183"
   },
   "outputs": [
    {
     "data": {
      "text/html": [
       "<div>\n",
       "<style scoped>\n",
       "    .dataframe tbody tr th:only-of-type {\n",
       "        vertical-align: middle;\n",
       "    }\n",
       "\n",
       "    .dataframe tbody tr th {\n",
       "        vertical-align: top;\n",
       "    }\n",
       "\n",
       "    .dataframe thead th {\n",
       "        text-align: right;\n",
       "    }\n",
       "</style>\n",
       "<table border=\"1\" class=\"dataframe\">\n",
       "  <thead>\n",
       "    <tr style=\"text-align: right;\">\n",
       "      <th></th>\n",
       "      <th>PassengerId</th>\n",
       "      <th>Survived</th>\n",
       "      <th>Name</th>\n",
       "      <th>Sex</th>\n",
       "      <th>Age</th>\n",
       "      <th>SibSp</th>\n",
       "      <th>Parch</th>\n",
       "      <th>Ticket</th>\n",
       "      <th>Fare</th>\n",
       "      <th>Cabin</th>\n",
       "      <th>Embarked_C</th>\n",
       "      <th>Embarked_Q</th>\n",
       "      <th>Embarked_S</th>\n",
       "      <th>Pclass_1</th>\n",
       "      <th>Pclass_2</th>\n",
       "      <th>Pclass_3</th>\n",
       "      <th>Title</th>\n",
       "      <th>Age_median</th>\n",
       "    </tr>\n",
       "  </thead>\n",
       "  <tbody>\n",
       "    <tr>\n",
       "      <th>0</th>\n",
       "      <td>1</td>\n",
       "      <td>0</td>\n",
       "      <td>Braund, Mr. Owen Harris</td>\n",
       "      <td>0</td>\n",
       "      <td>22.0</td>\n",
       "      <td>1</td>\n",
       "      <td>0</td>\n",
       "      <td>A/5 21171</td>\n",
       "      <td>7.2500</td>\n",
       "      <td>NaN</td>\n",
       "      <td>0</td>\n",
       "      <td>0</td>\n",
       "      <td>1</td>\n",
       "      <td>0</td>\n",
       "      <td>0</td>\n",
       "      <td>1</td>\n",
       "      <td>Mr</td>\n",
       "      <td>22.0</td>\n",
       "    </tr>\n",
       "    <tr>\n",
       "      <th>1</th>\n",
       "      <td>2</td>\n",
       "      <td>1</td>\n",
       "      <td>Cumings, Mrs. John Bradley (Florence Briggs Th...</td>\n",
       "      <td>1</td>\n",
       "      <td>38.0</td>\n",
       "      <td>1</td>\n",
       "      <td>0</td>\n",
       "      <td>PC 17599</td>\n",
       "      <td>71.2833</td>\n",
       "      <td>C85</td>\n",
       "      <td>1</td>\n",
       "      <td>0</td>\n",
       "      <td>0</td>\n",
       "      <td>1</td>\n",
       "      <td>0</td>\n",
       "      <td>0</td>\n",
       "      <td>Mrs</td>\n",
       "      <td>38.0</td>\n",
       "    </tr>\n",
       "    <tr>\n",
       "      <th>2</th>\n",
       "      <td>3</td>\n",
       "      <td>1</td>\n",
       "      <td>Heikkinen, Miss. Laina</td>\n",
       "      <td>1</td>\n",
       "      <td>26.0</td>\n",
       "      <td>0</td>\n",
       "      <td>0</td>\n",
       "      <td>STON/O2. 3101282</td>\n",
       "      <td>7.9250</td>\n",
       "      <td>NaN</td>\n",
       "      <td>0</td>\n",
       "      <td>0</td>\n",
       "      <td>1</td>\n",
       "      <td>0</td>\n",
       "      <td>0</td>\n",
       "      <td>1</td>\n",
       "      <td>Miss</td>\n",
       "      <td>26.0</td>\n",
       "    </tr>\n",
       "    <tr>\n",
       "      <th>3</th>\n",
       "      <td>4</td>\n",
       "      <td>1</td>\n",
       "      <td>Futrelle, Mrs. Jacques Heath (Lily May Peel)</td>\n",
       "      <td>1</td>\n",
       "      <td>35.0</td>\n",
       "      <td>1</td>\n",
       "      <td>0</td>\n",
       "      <td>113803</td>\n",
       "      <td>53.1000</td>\n",
       "      <td>C123</td>\n",
       "      <td>0</td>\n",
       "      <td>0</td>\n",
       "      <td>1</td>\n",
       "      <td>1</td>\n",
       "      <td>0</td>\n",
       "      <td>0</td>\n",
       "      <td>Mrs</td>\n",
       "      <td>35.0</td>\n",
       "    </tr>\n",
       "    <tr>\n",
       "      <th>4</th>\n",
       "      <td>5</td>\n",
       "      <td>0</td>\n",
       "      <td>Allen, Mr. William Henry</td>\n",
       "      <td>0</td>\n",
       "      <td>35.0</td>\n",
       "      <td>0</td>\n",
       "      <td>0</td>\n",
       "      <td>373450</td>\n",
       "      <td>8.0500</td>\n",
       "      <td>NaN</td>\n",
       "      <td>0</td>\n",
       "      <td>0</td>\n",
       "      <td>1</td>\n",
       "      <td>0</td>\n",
       "      <td>0</td>\n",
       "      <td>1</td>\n",
       "      <td>Mr</td>\n",
       "      <td>35.0</td>\n",
       "    </tr>\n",
       "  </tbody>\n",
       "</table>\n",
       "</div>"
      ],
      "text/plain": [
       "   PassengerId  Survived                                               Name  \\\n",
       "0            1         0                            Braund, Mr. Owen Harris   \n",
       "1            2         1  Cumings, Mrs. John Bradley (Florence Briggs Th...   \n",
       "2            3         1                             Heikkinen, Miss. Laina   \n",
       "3            4         1       Futrelle, Mrs. Jacques Heath (Lily May Peel)   \n",
       "4            5         0                           Allen, Mr. William Henry   \n",
       "\n",
       "   Sex   Age  SibSp  Parch            Ticket     Fare Cabin  Embarked_C  \\\n",
       "0    0  22.0      1      0         A/5 21171   7.2500   NaN           0   \n",
       "1    1  38.0      1      0          PC 17599  71.2833   C85           1   \n",
       "2    1  26.0      0      0  STON/O2. 3101282   7.9250   NaN           0   \n",
       "3    1  35.0      1      0            113803  53.1000  C123           0   \n",
       "4    0  35.0      0      0            373450   8.0500   NaN           0   \n",
       "\n",
       "   Embarked_Q  Embarked_S  Pclass_1  Pclass_2  Pclass_3 Title  Age_median  \n",
       "0           0           1         0         0         1    Mr        22.0  \n",
       "1           0           0         1         0         0   Mrs        38.0  \n",
       "2           0           1         0         0         1  Miss        26.0  \n",
       "3           0           1         1         0         0   Mrs        35.0  \n",
       "4           0           1         0         0         1    Mr        35.0  "
      ]
     },
     "execution_count": 48,
     "metadata": {},
     "output_type": "execute_result"
    }
   ],
   "source": [
    "df.head()"
   ]
  },
  {
   "cell_type": "markdown",
   "metadata": {
    "id": "6yY8tLAs-gxP"
   },
   "source": [
    "# <font color='red'>[과제부분!] (8/11)</font>\n",
    "### SibSp, Parch 칼럼을 처리해보자!!!\n",
    "- SibSp는 Siblings/Spouses의 수를 의미하고 Parch는 Parents/Children를 의미합니다.\n",
    "<br>\n",
    "\n",
    "- 즉 SibSp, Parch는 모두 동승자의 수를 보여준다고 할 수 있습니다.\n",
    "<br>\n",
    "\n",
    "- 그래서 성격이 비슷한 두 가지 column을 합쳐서 1개의 column으로 만드려고 합니다.  \n",
    "(column 별로 최대한 다른 정보를 가지고 있어야 모델의 성능이 높아지고 overfitting의 가능성이 줄어듭니다!)\n",
    "\n",
    "<br>\n",
    "\n",
    "- 새로운 칼럼을 만들어주는 방법은 쉬워요\n",
    ">```python\n",
    "df['새로운칼럼이름'] = df['기존칼럼1'] + df['기존칼럼2']\n",
    ">```\n",
    "\n",
    "\n",
    "- 칼럼끼리 +, -, *, / 모두 되고  \n",
    "<br>\n",
    "- string 형태일 때는 string끼리도 합칠 수도 있습니다!"
   ]
  },
  {
   "cell_type": "code",
   "execution_count": 49,
   "metadata": {
    "id": "WogVaLSB-gxP"
   },
   "outputs": [],
   "source": [
    "# 복사해주고\n",
    "temp = df.copy()"
   ]
  },
  {
   "cell_type": "markdown",
   "metadata": {
    "id": "T5k7GFvz-gxQ"
   },
   "source": [
    "### <font color='yellow'> 여기를 채워주세요~ </font>"
   ]
  },
  {
   "cell_type": "code",
   "execution_count": 50,
   "metadata": {
    "id": "ng6OhXHR-gxQ"
   },
   "outputs": [],
   "source": [
    "#################################################################################\n",
    "#################################################################################\n",
    "#################################################################################\n",
    "\n",
    "# SibSp 칼럼과 Parch 칼럼을 합쳐서 Fellow 칼럼을 만들어주세요~\n",
    "temp['Fellow'] = temp['SibSp'] + temp['Parch']\n",
    "\n",
    "#################################################################################\n",
    "#################################################################################\n",
    "#################################################################################"
   ]
  },
  {
   "cell_type": "code",
   "execution_count": 51,
   "metadata": {
    "id": "1HcMR1T2-gxQ",
    "outputId": "86fc1508-7718-491b-9d7c-10156b985fdc"
   },
   "outputs": [
    {
     "data": {
      "text/html": [
       "<div>\n",
       "<style scoped>\n",
       "    .dataframe tbody tr th:only-of-type {\n",
       "        vertical-align: middle;\n",
       "    }\n",
       "\n",
       "    .dataframe tbody tr th {\n",
       "        vertical-align: top;\n",
       "    }\n",
       "\n",
       "    .dataframe thead th {\n",
       "        text-align: right;\n",
       "    }\n",
       "</style>\n",
       "<table border=\"1\" class=\"dataframe\">\n",
       "  <thead>\n",
       "    <tr style=\"text-align: right;\">\n",
       "      <th></th>\n",
       "      <th>PassengerId</th>\n",
       "      <th>Survived</th>\n",
       "      <th>Name</th>\n",
       "      <th>Sex</th>\n",
       "      <th>Age</th>\n",
       "      <th>SibSp</th>\n",
       "      <th>Parch</th>\n",
       "      <th>Ticket</th>\n",
       "      <th>Fare</th>\n",
       "      <th>Cabin</th>\n",
       "      <th>Embarked_C</th>\n",
       "      <th>Embarked_Q</th>\n",
       "      <th>Embarked_S</th>\n",
       "      <th>Pclass_1</th>\n",
       "      <th>Pclass_2</th>\n",
       "      <th>Pclass_3</th>\n",
       "      <th>Title</th>\n",
       "      <th>Age_median</th>\n",
       "      <th>Fellow</th>\n",
       "    </tr>\n",
       "  </thead>\n",
       "  <tbody>\n",
       "    <tr>\n",
       "      <th>0</th>\n",
       "      <td>1</td>\n",
       "      <td>0</td>\n",
       "      <td>Braund, Mr. Owen Harris</td>\n",
       "      <td>0</td>\n",
       "      <td>22.0</td>\n",
       "      <td>1</td>\n",
       "      <td>0</td>\n",
       "      <td>A/5 21171</td>\n",
       "      <td>7.2500</td>\n",
       "      <td>NaN</td>\n",
       "      <td>0</td>\n",
       "      <td>0</td>\n",
       "      <td>1</td>\n",
       "      <td>0</td>\n",
       "      <td>0</td>\n",
       "      <td>1</td>\n",
       "      <td>Mr</td>\n",
       "      <td>22.0</td>\n",
       "      <td>1</td>\n",
       "    </tr>\n",
       "    <tr>\n",
       "      <th>1</th>\n",
       "      <td>2</td>\n",
       "      <td>1</td>\n",
       "      <td>Cumings, Mrs. John Bradley (Florence Briggs Th...</td>\n",
       "      <td>1</td>\n",
       "      <td>38.0</td>\n",
       "      <td>1</td>\n",
       "      <td>0</td>\n",
       "      <td>PC 17599</td>\n",
       "      <td>71.2833</td>\n",
       "      <td>C85</td>\n",
       "      <td>1</td>\n",
       "      <td>0</td>\n",
       "      <td>0</td>\n",
       "      <td>1</td>\n",
       "      <td>0</td>\n",
       "      <td>0</td>\n",
       "      <td>Mrs</td>\n",
       "      <td>38.0</td>\n",
       "      <td>1</td>\n",
       "    </tr>\n",
       "    <tr>\n",
       "      <th>2</th>\n",
       "      <td>3</td>\n",
       "      <td>1</td>\n",
       "      <td>Heikkinen, Miss. Laina</td>\n",
       "      <td>1</td>\n",
       "      <td>26.0</td>\n",
       "      <td>0</td>\n",
       "      <td>0</td>\n",
       "      <td>STON/O2. 3101282</td>\n",
       "      <td>7.9250</td>\n",
       "      <td>NaN</td>\n",
       "      <td>0</td>\n",
       "      <td>0</td>\n",
       "      <td>1</td>\n",
       "      <td>0</td>\n",
       "      <td>0</td>\n",
       "      <td>1</td>\n",
       "      <td>Miss</td>\n",
       "      <td>26.0</td>\n",
       "      <td>0</td>\n",
       "    </tr>\n",
       "    <tr>\n",
       "      <th>3</th>\n",
       "      <td>4</td>\n",
       "      <td>1</td>\n",
       "      <td>Futrelle, Mrs. Jacques Heath (Lily May Peel)</td>\n",
       "      <td>1</td>\n",
       "      <td>35.0</td>\n",
       "      <td>1</td>\n",
       "      <td>0</td>\n",
       "      <td>113803</td>\n",
       "      <td>53.1000</td>\n",
       "      <td>C123</td>\n",
       "      <td>0</td>\n",
       "      <td>0</td>\n",
       "      <td>1</td>\n",
       "      <td>1</td>\n",
       "      <td>0</td>\n",
       "      <td>0</td>\n",
       "      <td>Mrs</td>\n",
       "      <td>35.0</td>\n",
       "      <td>1</td>\n",
       "    </tr>\n",
       "    <tr>\n",
       "      <th>4</th>\n",
       "      <td>5</td>\n",
       "      <td>0</td>\n",
       "      <td>Allen, Mr. William Henry</td>\n",
       "      <td>0</td>\n",
       "      <td>35.0</td>\n",
       "      <td>0</td>\n",
       "      <td>0</td>\n",
       "      <td>373450</td>\n",
       "      <td>8.0500</td>\n",
       "      <td>NaN</td>\n",
       "      <td>0</td>\n",
       "      <td>0</td>\n",
       "      <td>1</td>\n",
       "      <td>0</td>\n",
       "      <td>0</td>\n",
       "      <td>1</td>\n",
       "      <td>Mr</td>\n",
       "      <td>35.0</td>\n",
       "      <td>0</td>\n",
       "    </tr>\n",
       "  </tbody>\n",
       "</table>\n",
       "</div>"
      ],
      "text/plain": [
       "   PassengerId  Survived                                               Name  \\\n",
       "0            1         0                            Braund, Mr. Owen Harris   \n",
       "1            2         1  Cumings, Mrs. John Bradley (Florence Briggs Th...   \n",
       "2            3         1                             Heikkinen, Miss. Laina   \n",
       "3            4         1       Futrelle, Mrs. Jacques Heath (Lily May Peel)   \n",
       "4            5         0                           Allen, Mr. William Henry   \n",
       "\n",
       "   Sex   Age  SibSp  Parch            Ticket     Fare Cabin  Embarked_C  \\\n",
       "0    0  22.0      1      0         A/5 21171   7.2500   NaN           0   \n",
       "1    1  38.0      1      0          PC 17599  71.2833   C85           1   \n",
       "2    1  26.0      0      0  STON/O2. 3101282   7.9250   NaN           0   \n",
       "3    1  35.0      1      0            113803  53.1000  C123           0   \n",
       "4    0  35.0      0      0            373450   8.0500   NaN           0   \n",
       "\n",
       "   Embarked_Q  Embarked_S  Pclass_1  Pclass_2  Pclass_3 Title  Age_median  \\\n",
       "0           0           1         0         0         1    Mr        22.0   \n",
       "1           0           0         1         0         0   Mrs        38.0   \n",
       "2           0           1         0         0         1  Miss        26.0   \n",
       "3           0           1         1         0         0   Mrs        35.0   \n",
       "4           0           1         0         0         1    Mr        35.0   \n",
       "\n",
       "   Fellow  \n",
       "0       1  \n",
       "1       1  \n",
       "2       0  \n",
       "3       1  \n",
       "4       0  "
      ]
     },
     "execution_count": 51,
     "metadata": {},
     "output_type": "execute_result"
    }
   ],
   "source": [
    "# 뒤에 Fellow가 생기면 됩니다~\n",
    "temp.head()"
   ]
  },
  {
   "cell_type": "code",
   "execution_count": 52,
   "metadata": {
    "id": "mXY62yfs-gxQ"
   },
   "outputs": [],
   "source": [
    "df = temp.copy()"
   ]
  },
  {
   "cell_type": "markdown",
   "metadata": {
    "id": "hiDy58YY-gxR"
   },
   "source": [
    "# <font color='red'>+[과제부분!] (9/11)</font>\n",
    "### `cut`을 이용해 Age_median을 Categorical 변수로 나눠주기!\n",
    "- Age_median columns을 보면 0살부터 80살까지 다양해요~\n",
    "\n",
    "  시각화를 해보면 나이가 완전히 어리거나 고령이면 생존율이 매우 올라갑니다.\n",
    "  \n",
    "  이를 고려해보면 Age를 굳이 continuous 변수가 아니라 10대, 20대, 30대처럼\n",
    "  \n",
    "  categorical 변수로 바꿔주는 게 더 좋을 것 같아요~\n",
    "<br>\n",
    "\n",
    "- 실제로도 공모전 나가시면 이런 Feature Engineering을 비일비재하게 합니다~\n",
    "<br>\n",
    "\n",
    "- 그럼 이를 어떻게 하냐? Pandas에는 cut이라는 아주 아름다운 메소드가 있습니다.\n",
    "<br>\n",
    "\n",
    "`cut`은 이렇게 써요\n",
    ">```python\n",
    "pd.cut(data, bins, labels = )\n",
    ">```\n",
    "영어버전!\n",
    "\n",
    ">```python\n",
    ".cut(데이터, [범위,및,구간] , labels=[레이블,설정,해주면됨])\n",
    ">```\n",
    "한글버전!\n",
    "\n",
    "- 예시를 드리자면\n",
    "> ```python\n",
    "kills['killsCategories'] = pd.cut(kills['kills'], \n",
    "                                  [-1, 0, 2, 5, 10, 60],\n",
    "                                  labels=['0_kills','1-2_kills', '3-5_kills', '6-10_kills', '10+_kills'])\n",
    ">```\n",
    "위는 배틀그라운드 데이터예요!  \n",
    "처음에 **데이터(칼럼)**을 주고, **범위**를 설정하고, **레이블**을 설정해주면 됩니다!\n",
    "\n",
    "<br>\n",
    "\n",
    "- 그럼 이제 Age_median 칼럼을 categorical 변수로 바꾸고 dummy 변수화합시다~"
   ]
  },
  {
   "cell_type": "code",
   "execution_count": 53,
   "metadata": {
    "id": "Y7wwAqMO-gxR",
    "outputId": "bb4b9f8e-b3c4-4dea-8822-9b66778355ee"
   },
   "outputs": [
    {
     "data": {
      "text/plain": [
       "count    891.000000\n",
       "mean      29.387957\n",
       "std       13.262592\n",
       "min        0.420000\n",
       "25%       21.000000\n",
       "50%       30.000000\n",
       "75%       35.000000\n",
       "max       80.000000\n",
       "Name: Age_median, dtype: float64"
      ]
     },
     "execution_count": 53,
     "metadata": {},
     "output_type": "execute_result"
    }
   ],
   "source": [
    "# Age_median 칼럼에 대한 간단한 통계정보\n",
    "df['Age_median'].describe()"
   ]
  },
  {
   "cell_type": "code",
   "execution_count": 54,
   "metadata": {
    "id": "oxvO1jBd-gxS"
   },
   "outputs": [],
   "source": [
    "temp = df.copy()"
   ]
  },
  {
   "cell_type": "markdown",
   "metadata": {
    "id": "XyBjF8RZ-gxS"
   },
   "source": [
    "### <font color='yellow'> 여기를 채워주세요~ </font>"
   ]
  },
  {
   "cell_type": "code",
   "execution_count": 55,
   "metadata": {
    "id": "cTMHP7so-gxS"
   },
   "outputs": [],
   "source": [
    "#################################################################################\n",
    "#################################################################################\n",
    "#################################################################################\n",
    "\n",
    "# Age_cut 칼럼을 새로 만들고 ~\n",
    "# 나이를 10대및애기들, 20대, 30대, 40대, 50대 이상으로 나눠봐요~!\n",
    "temp['Age_cut'] = pd.cut(temp['Age'], [-1, 19, 29, 39, 49, 150],\n",
    "                        labels = ['10대및애기들', '20대', '30대', '40대', '50대이상'])\n",
    "\n",
    "#################################################################################\n",
    "#################################################################################\n",
    "#################################################################################"
   ]
  },
  {
   "cell_type": "code",
   "execution_count": 56,
   "metadata": {
    "id": "i9yBaDLH-gxT",
    "outputId": "c987d939-d9e7-41e8-ae2d-dcdde88f7bd6"
   },
   "outputs": [
    {
     "data": {
      "text/html": [
       "<div>\n",
       "<style scoped>\n",
       "    .dataframe tbody tr th:only-of-type {\n",
       "        vertical-align: middle;\n",
       "    }\n",
       "\n",
       "    .dataframe tbody tr th {\n",
       "        vertical-align: top;\n",
       "    }\n",
       "\n",
       "    .dataframe thead th {\n",
       "        text-align: right;\n",
       "    }\n",
       "</style>\n",
       "<table border=\"1\" class=\"dataframe\">\n",
       "  <thead>\n",
       "    <tr style=\"text-align: right;\">\n",
       "      <th></th>\n",
       "      <th>PassengerId</th>\n",
       "      <th>Survived</th>\n",
       "      <th>Name</th>\n",
       "      <th>Sex</th>\n",
       "      <th>Age</th>\n",
       "      <th>SibSp</th>\n",
       "      <th>Parch</th>\n",
       "      <th>Ticket</th>\n",
       "      <th>Fare</th>\n",
       "      <th>Cabin</th>\n",
       "      <th>Embarked_C</th>\n",
       "      <th>Embarked_Q</th>\n",
       "      <th>Embarked_S</th>\n",
       "      <th>Pclass_1</th>\n",
       "      <th>Pclass_2</th>\n",
       "      <th>Pclass_3</th>\n",
       "      <th>Title</th>\n",
       "      <th>Age_median</th>\n",
       "      <th>Fellow</th>\n",
       "      <th>Age_cut</th>\n",
       "    </tr>\n",
       "  </thead>\n",
       "  <tbody>\n",
       "    <tr>\n",
       "      <th>0</th>\n",
       "      <td>1</td>\n",
       "      <td>0</td>\n",
       "      <td>Braund, Mr. Owen Harris</td>\n",
       "      <td>0</td>\n",
       "      <td>22.0</td>\n",
       "      <td>1</td>\n",
       "      <td>0</td>\n",
       "      <td>A/5 21171</td>\n",
       "      <td>7.2500</td>\n",
       "      <td>NaN</td>\n",
       "      <td>0</td>\n",
       "      <td>0</td>\n",
       "      <td>1</td>\n",
       "      <td>0</td>\n",
       "      <td>0</td>\n",
       "      <td>1</td>\n",
       "      <td>Mr</td>\n",
       "      <td>22.0</td>\n",
       "      <td>1</td>\n",
       "      <td>20대</td>\n",
       "    </tr>\n",
       "    <tr>\n",
       "      <th>1</th>\n",
       "      <td>2</td>\n",
       "      <td>1</td>\n",
       "      <td>Cumings, Mrs. John Bradley (Florence Briggs Th...</td>\n",
       "      <td>1</td>\n",
       "      <td>38.0</td>\n",
       "      <td>1</td>\n",
       "      <td>0</td>\n",
       "      <td>PC 17599</td>\n",
       "      <td>71.2833</td>\n",
       "      <td>C85</td>\n",
       "      <td>1</td>\n",
       "      <td>0</td>\n",
       "      <td>0</td>\n",
       "      <td>1</td>\n",
       "      <td>0</td>\n",
       "      <td>0</td>\n",
       "      <td>Mrs</td>\n",
       "      <td>38.0</td>\n",
       "      <td>1</td>\n",
       "      <td>30대</td>\n",
       "    </tr>\n",
       "    <tr>\n",
       "      <th>2</th>\n",
       "      <td>3</td>\n",
       "      <td>1</td>\n",
       "      <td>Heikkinen, Miss. Laina</td>\n",
       "      <td>1</td>\n",
       "      <td>26.0</td>\n",
       "      <td>0</td>\n",
       "      <td>0</td>\n",
       "      <td>STON/O2. 3101282</td>\n",
       "      <td>7.9250</td>\n",
       "      <td>NaN</td>\n",
       "      <td>0</td>\n",
       "      <td>0</td>\n",
       "      <td>1</td>\n",
       "      <td>0</td>\n",
       "      <td>0</td>\n",
       "      <td>1</td>\n",
       "      <td>Miss</td>\n",
       "      <td>26.0</td>\n",
       "      <td>0</td>\n",
       "      <td>20대</td>\n",
       "    </tr>\n",
       "    <tr>\n",
       "      <th>3</th>\n",
       "      <td>4</td>\n",
       "      <td>1</td>\n",
       "      <td>Futrelle, Mrs. Jacques Heath (Lily May Peel)</td>\n",
       "      <td>1</td>\n",
       "      <td>35.0</td>\n",
       "      <td>1</td>\n",
       "      <td>0</td>\n",
       "      <td>113803</td>\n",
       "      <td>53.1000</td>\n",
       "      <td>C123</td>\n",
       "      <td>0</td>\n",
       "      <td>0</td>\n",
       "      <td>1</td>\n",
       "      <td>1</td>\n",
       "      <td>0</td>\n",
       "      <td>0</td>\n",
       "      <td>Mrs</td>\n",
       "      <td>35.0</td>\n",
       "      <td>1</td>\n",
       "      <td>30대</td>\n",
       "    </tr>\n",
       "    <tr>\n",
       "      <th>4</th>\n",
       "      <td>5</td>\n",
       "      <td>0</td>\n",
       "      <td>Allen, Mr. William Henry</td>\n",
       "      <td>0</td>\n",
       "      <td>35.0</td>\n",
       "      <td>0</td>\n",
       "      <td>0</td>\n",
       "      <td>373450</td>\n",
       "      <td>8.0500</td>\n",
       "      <td>NaN</td>\n",
       "      <td>0</td>\n",
       "      <td>0</td>\n",
       "      <td>1</td>\n",
       "      <td>0</td>\n",
       "      <td>0</td>\n",
       "      <td>1</td>\n",
       "      <td>Mr</td>\n",
       "      <td>35.0</td>\n",
       "      <td>0</td>\n",
       "      <td>30대</td>\n",
       "    </tr>\n",
       "  </tbody>\n",
       "</table>\n",
       "</div>"
      ],
      "text/plain": [
       "   PassengerId  Survived                                               Name  \\\n",
       "0            1         0                            Braund, Mr. Owen Harris   \n",
       "1            2         1  Cumings, Mrs. John Bradley (Florence Briggs Th...   \n",
       "2            3         1                             Heikkinen, Miss. Laina   \n",
       "3            4         1       Futrelle, Mrs. Jacques Heath (Lily May Peel)   \n",
       "4            5         0                           Allen, Mr. William Henry   \n",
       "\n",
       "   Sex   Age  SibSp  Parch            Ticket     Fare Cabin  Embarked_C  \\\n",
       "0    0  22.0      1      0         A/5 21171   7.2500   NaN           0   \n",
       "1    1  38.0      1      0          PC 17599  71.2833   C85           1   \n",
       "2    1  26.0      0      0  STON/O2. 3101282   7.9250   NaN           0   \n",
       "3    1  35.0      1      0            113803  53.1000  C123           0   \n",
       "4    0  35.0      0      0            373450   8.0500   NaN           0   \n",
       "\n",
       "   Embarked_Q  Embarked_S  Pclass_1  Pclass_2  Pclass_3 Title  Age_median  \\\n",
       "0           0           1         0         0         1    Mr        22.0   \n",
       "1           0           0         1         0         0   Mrs        38.0   \n",
       "2           0           1         0         0         1  Miss        26.0   \n",
       "3           0           1         1         0         0   Mrs        35.0   \n",
       "4           0           1         0         0         1    Mr        35.0   \n",
       "\n",
       "   Fellow Age_cut  \n",
       "0       1     20대  \n",
       "1       1     30대  \n",
       "2       0     20대  \n",
       "3       1     30대  \n",
       "4       0     30대  "
      ]
     },
     "execution_count": 56,
     "metadata": {},
     "output_type": "execute_result"
    }
   ],
   "source": [
    "temp.head()"
   ]
  },
  {
   "cell_type": "code",
   "execution_count": 57,
   "metadata": {
    "id": "GD7K-Vsc-gxT"
   },
   "outputs": [],
   "source": [
    "temp = pd.get_dummies(temp, columns = ['Age_cut'])"
   ]
  },
  {
   "cell_type": "code",
   "execution_count": 58,
   "metadata": {
    "id": "SMHyzsya-gxT",
    "outputId": "fe393291-d88b-4eb3-844d-bb0c29a17f88"
   },
   "outputs": [
    {
     "data": {
      "text/html": [
       "<div>\n",
       "<style scoped>\n",
       "    .dataframe tbody tr th:only-of-type {\n",
       "        vertical-align: middle;\n",
       "    }\n",
       "\n",
       "    .dataframe tbody tr th {\n",
       "        vertical-align: top;\n",
       "    }\n",
       "\n",
       "    .dataframe thead th {\n",
       "        text-align: right;\n",
       "    }\n",
       "</style>\n",
       "<table border=\"1\" class=\"dataframe\">\n",
       "  <thead>\n",
       "    <tr style=\"text-align: right;\">\n",
       "      <th></th>\n",
       "      <th>PassengerId</th>\n",
       "      <th>Survived</th>\n",
       "      <th>Name</th>\n",
       "      <th>Sex</th>\n",
       "      <th>Age</th>\n",
       "      <th>SibSp</th>\n",
       "      <th>Parch</th>\n",
       "      <th>Ticket</th>\n",
       "      <th>Fare</th>\n",
       "      <th>Cabin</th>\n",
       "      <th>Embarked_C</th>\n",
       "      <th>Embarked_Q</th>\n",
       "      <th>Embarked_S</th>\n",
       "      <th>Pclass_1</th>\n",
       "      <th>Pclass_2</th>\n",
       "      <th>Pclass_3</th>\n",
       "      <th>Title</th>\n",
       "      <th>Age_median</th>\n",
       "      <th>Fellow</th>\n",
       "      <th>Age_cut_10대및애기들</th>\n",
       "      <th>Age_cut_20대</th>\n",
       "      <th>Age_cut_30대</th>\n",
       "      <th>Age_cut_40대</th>\n",
       "      <th>Age_cut_50대이상</th>\n",
       "    </tr>\n",
       "  </thead>\n",
       "  <tbody>\n",
       "    <tr>\n",
       "      <th>0</th>\n",
       "      <td>1</td>\n",
       "      <td>0</td>\n",
       "      <td>Braund, Mr. Owen Harris</td>\n",
       "      <td>0</td>\n",
       "      <td>22.0</td>\n",
       "      <td>1</td>\n",
       "      <td>0</td>\n",
       "      <td>A/5 21171</td>\n",
       "      <td>7.2500</td>\n",
       "      <td>NaN</td>\n",
       "      <td>0</td>\n",
       "      <td>0</td>\n",
       "      <td>1</td>\n",
       "      <td>0</td>\n",
       "      <td>0</td>\n",
       "      <td>1</td>\n",
       "      <td>Mr</td>\n",
       "      <td>22.0</td>\n",
       "      <td>1</td>\n",
       "      <td>0</td>\n",
       "      <td>1</td>\n",
       "      <td>0</td>\n",
       "      <td>0</td>\n",
       "      <td>0</td>\n",
       "    </tr>\n",
       "    <tr>\n",
       "      <th>1</th>\n",
       "      <td>2</td>\n",
       "      <td>1</td>\n",
       "      <td>Cumings, Mrs. John Bradley (Florence Briggs Th...</td>\n",
       "      <td>1</td>\n",
       "      <td>38.0</td>\n",
       "      <td>1</td>\n",
       "      <td>0</td>\n",
       "      <td>PC 17599</td>\n",
       "      <td>71.2833</td>\n",
       "      <td>C85</td>\n",
       "      <td>1</td>\n",
       "      <td>0</td>\n",
       "      <td>0</td>\n",
       "      <td>1</td>\n",
       "      <td>0</td>\n",
       "      <td>0</td>\n",
       "      <td>Mrs</td>\n",
       "      <td>38.0</td>\n",
       "      <td>1</td>\n",
       "      <td>0</td>\n",
       "      <td>0</td>\n",
       "      <td>1</td>\n",
       "      <td>0</td>\n",
       "      <td>0</td>\n",
       "    </tr>\n",
       "    <tr>\n",
       "      <th>2</th>\n",
       "      <td>3</td>\n",
       "      <td>1</td>\n",
       "      <td>Heikkinen, Miss. Laina</td>\n",
       "      <td>1</td>\n",
       "      <td>26.0</td>\n",
       "      <td>0</td>\n",
       "      <td>0</td>\n",
       "      <td>STON/O2. 3101282</td>\n",
       "      <td>7.9250</td>\n",
       "      <td>NaN</td>\n",
       "      <td>0</td>\n",
       "      <td>0</td>\n",
       "      <td>1</td>\n",
       "      <td>0</td>\n",
       "      <td>0</td>\n",
       "      <td>1</td>\n",
       "      <td>Miss</td>\n",
       "      <td>26.0</td>\n",
       "      <td>0</td>\n",
       "      <td>0</td>\n",
       "      <td>1</td>\n",
       "      <td>0</td>\n",
       "      <td>0</td>\n",
       "      <td>0</td>\n",
       "    </tr>\n",
       "    <tr>\n",
       "      <th>3</th>\n",
       "      <td>4</td>\n",
       "      <td>1</td>\n",
       "      <td>Futrelle, Mrs. Jacques Heath (Lily May Peel)</td>\n",
       "      <td>1</td>\n",
       "      <td>35.0</td>\n",
       "      <td>1</td>\n",
       "      <td>0</td>\n",
       "      <td>113803</td>\n",
       "      <td>53.1000</td>\n",
       "      <td>C123</td>\n",
       "      <td>0</td>\n",
       "      <td>0</td>\n",
       "      <td>1</td>\n",
       "      <td>1</td>\n",
       "      <td>0</td>\n",
       "      <td>0</td>\n",
       "      <td>Mrs</td>\n",
       "      <td>35.0</td>\n",
       "      <td>1</td>\n",
       "      <td>0</td>\n",
       "      <td>0</td>\n",
       "      <td>1</td>\n",
       "      <td>0</td>\n",
       "      <td>0</td>\n",
       "    </tr>\n",
       "    <tr>\n",
       "      <th>4</th>\n",
       "      <td>5</td>\n",
       "      <td>0</td>\n",
       "      <td>Allen, Mr. William Henry</td>\n",
       "      <td>0</td>\n",
       "      <td>35.0</td>\n",
       "      <td>0</td>\n",
       "      <td>0</td>\n",
       "      <td>373450</td>\n",
       "      <td>8.0500</td>\n",
       "      <td>NaN</td>\n",
       "      <td>0</td>\n",
       "      <td>0</td>\n",
       "      <td>1</td>\n",
       "      <td>0</td>\n",
       "      <td>0</td>\n",
       "      <td>1</td>\n",
       "      <td>Mr</td>\n",
       "      <td>35.0</td>\n",
       "      <td>0</td>\n",
       "      <td>0</td>\n",
       "      <td>0</td>\n",
       "      <td>1</td>\n",
       "      <td>0</td>\n",
       "      <td>0</td>\n",
       "    </tr>\n",
       "  </tbody>\n",
       "</table>\n",
       "</div>"
      ],
      "text/plain": [
       "   PassengerId  Survived                                               Name  \\\n",
       "0            1         0                            Braund, Mr. Owen Harris   \n",
       "1            2         1  Cumings, Mrs. John Bradley (Florence Briggs Th...   \n",
       "2            3         1                             Heikkinen, Miss. Laina   \n",
       "3            4         1       Futrelle, Mrs. Jacques Heath (Lily May Peel)   \n",
       "4            5         0                           Allen, Mr. William Henry   \n",
       "\n",
       "   Sex   Age  SibSp  Parch            Ticket     Fare Cabin  Embarked_C  \\\n",
       "0    0  22.0      1      0         A/5 21171   7.2500   NaN           0   \n",
       "1    1  38.0      1      0          PC 17599  71.2833   C85           1   \n",
       "2    1  26.0      0      0  STON/O2. 3101282   7.9250   NaN           0   \n",
       "3    1  35.0      1      0            113803  53.1000  C123           0   \n",
       "4    0  35.0      0      0            373450   8.0500   NaN           0   \n",
       "\n",
       "   Embarked_Q  Embarked_S  Pclass_1  Pclass_2  Pclass_3 Title  Age_median  \\\n",
       "0           0           1         0         0         1    Mr        22.0   \n",
       "1           0           0         1         0         0   Mrs        38.0   \n",
       "2           0           1         0         0         1  Miss        26.0   \n",
       "3           0           1         1         0         0   Mrs        35.0   \n",
       "4           0           1         0         0         1    Mr        35.0   \n",
       "\n",
       "   Fellow  Age_cut_10대및애기들  Age_cut_20대  Age_cut_30대  Age_cut_40대  \\\n",
       "0       1                0            1            0            0   \n",
       "1       1                0            0            1            0   \n",
       "2       0                0            1            0            0   \n",
       "3       1                0            0            1            0   \n",
       "4       0                0            0            1            0   \n",
       "\n",
       "   Age_cut_50대이상  \n",
       "0              0  \n",
       "1              0  \n",
       "2              0  \n",
       "3              0  \n",
       "4              0  "
      ]
     },
     "execution_count": 58,
     "metadata": {},
     "output_type": "execute_result"
    }
   ],
   "source": [
    "temp.head()"
   ]
  },
  {
   "cell_type": "code",
   "execution_count": 59,
   "metadata": {
    "id": "1TjiAMM_-gxV"
   },
   "outputs": [],
   "source": [
    "df = temp.copy()"
   ]
  },
  {
   "cell_type": "markdown",
   "metadata": {
    "id": "8Z-qR9_W-gxV"
   },
   "source": [
    "# 5. column 날려주기"
   ]
  },
  {
   "cell_type": "markdown",
   "metadata": {
    "id": "ilgy75SF-gxV"
   },
   "source": [
    "# <font color='red'>[과제부분!] (10/11)</font>\n",
    "### `del`를 사용해서 필요없는 column들 날려주기\n",
    "<br>\n",
    "\n",
    "- 앞에서 몇 개의 칼럼을 새로 만들어줬는데 이제 필요없는 칼럼을 날려줄 거예요~~  \n",
    "<br>\n",
    "\n",
    "- 칼럼을 만들어주는 방법은 쉬워요. `del`를 쓰면 되거든요~\n",
    ">```python\n",
    "del df['지우려는 칼럼 이름']\n",
    ">```\n",
    "\n",
    "\n",
    "<br>\n",
    "- 자 이제 필요없는 column들을 날려봅시다~\n"
   ]
  },
  {
   "cell_type": "markdown",
   "metadata": {
    "id": "PZNMa1MT-gxV"
   },
   "source": [
    "### <font color='yellow'> 여기를 채워주세요~ </font>"
   ]
  },
  {
   "cell_type": "code",
   "execution_count": 60,
   "metadata": {
    "id": "_jBEaeMs-gxW"
   },
   "outputs": [],
   "source": [
    "temp = df.copy()"
   ]
  },
  {
   "cell_type": "code",
   "execution_count": 61,
   "metadata": {
    "id": "5uK3E25s-gxW",
    "outputId": "693f00fe-fcfc-4929-934c-beec115a8abb"
   },
   "outputs": [
    {
     "data": {
      "text/html": [
       "<div>\n",
       "<style scoped>\n",
       "    .dataframe tbody tr th:only-of-type {\n",
       "        vertical-align: middle;\n",
       "    }\n",
       "\n",
       "    .dataframe tbody tr th {\n",
       "        vertical-align: top;\n",
       "    }\n",
       "\n",
       "    .dataframe thead th {\n",
       "        text-align: right;\n",
       "    }\n",
       "</style>\n",
       "<table border=\"1\" class=\"dataframe\">\n",
       "  <thead>\n",
       "    <tr style=\"text-align: right;\">\n",
       "      <th></th>\n",
       "      <th>PassengerId</th>\n",
       "      <th>Survived</th>\n",
       "      <th>Name</th>\n",
       "      <th>Sex</th>\n",
       "      <th>Age</th>\n",
       "      <th>SibSp</th>\n",
       "      <th>Parch</th>\n",
       "      <th>Ticket</th>\n",
       "      <th>Fare</th>\n",
       "      <th>Cabin</th>\n",
       "      <th>Embarked_C</th>\n",
       "      <th>Embarked_Q</th>\n",
       "      <th>Embarked_S</th>\n",
       "      <th>Pclass_1</th>\n",
       "      <th>Pclass_2</th>\n",
       "      <th>Pclass_3</th>\n",
       "      <th>Title</th>\n",
       "      <th>Age_median</th>\n",
       "      <th>Fellow</th>\n",
       "      <th>Age_cut_10대및애기들</th>\n",
       "      <th>Age_cut_20대</th>\n",
       "      <th>Age_cut_30대</th>\n",
       "      <th>Age_cut_40대</th>\n",
       "      <th>Age_cut_50대이상</th>\n",
       "    </tr>\n",
       "  </thead>\n",
       "  <tbody>\n",
       "    <tr>\n",
       "      <th>0</th>\n",
       "      <td>1</td>\n",
       "      <td>0</td>\n",
       "      <td>Braund, Mr. Owen Harris</td>\n",
       "      <td>0</td>\n",
       "      <td>22.0</td>\n",
       "      <td>1</td>\n",
       "      <td>0</td>\n",
       "      <td>A/5 21171</td>\n",
       "      <td>7.2500</td>\n",
       "      <td>NaN</td>\n",
       "      <td>0</td>\n",
       "      <td>0</td>\n",
       "      <td>1</td>\n",
       "      <td>0</td>\n",
       "      <td>0</td>\n",
       "      <td>1</td>\n",
       "      <td>Mr</td>\n",
       "      <td>22.0</td>\n",
       "      <td>1</td>\n",
       "      <td>0</td>\n",
       "      <td>1</td>\n",
       "      <td>0</td>\n",
       "      <td>0</td>\n",
       "      <td>0</td>\n",
       "    </tr>\n",
       "    <tr>\n",
       "      <th>1</th>\n",
       "      <td>2</td>\n",
       "      <td>1</td>\n",
       "      <td>Cumings, Mrs. John Bradley (Florence Briggs Th...</td>\n",
       "      <td>1</td>\n",
       "      <td>38.0</td>\n",
       "      <td>1</td>\n",
       "      <td>0</td>\n",
       "      <td>PC 17599</td>\n",
       "      <td>71.2833</td>\n",
       "      <td>C85</td>\n",
       "      <td>1</td>\n",
       "      <td>0</td>\n",
       "      <td>0</td>\n",
       "      <td>1</td>\n",
       "      <td>0</td>\n",
       "      <td>0</td>\n",
       "      <td>Mrs</td>\n",
       "      <td>38.0</td>\n",
       "      <td>1</td>\n",
       "      <td>0</td>\n",
       "      <td>0</td>\n",
       "      <td>1</td>\n",
       "      <td>0</td>\n",
       "      <td>0</td>\n",
       "    </tr>\n",
       "    <tr>\n",
       "      <th>2</th>\n",
       "      <td>3</td>\n",
       "      <td>1</td>\n",
       "      <td>Heikkinen, Miss. Laina</td>\n",
       "      <td>1</td>\n",
       "      <td>26.0</td>\n",
       "      <td>0</td>\n",
       "      <td>0</td>\n",
       "      <td>STON/O2. 3101282</td>\n",
       "      <td>7.9250</td>\n",
       "      <td>NaN</td>\n",
       "      <td>0</td>\n",
       "      <td>0</td>\n",
       "      <td>1</td>\n",
       "      <td>0</td>\n",
       "      <td>0</td>\n",
       "      <td>1</td>\n",
       "      <td>Miss</td>\n",
       "      <td>26.0</td>\n",
       "      <td>0</td>\n",
       "      <td>0</td>\n",
       "      <td>1</td>\n",
       "      <td>0</td>\n",
       "      <td>0</td>\n",
       "      <td>0</td>\n",
       "    </tr>\n",
       "    <tr>\n",
       "      <th>3</th>\n",
       "      <td>4</td>\n",
       "      <td>1</td>\n",
       "      <td>Futrelle, Mrs. Jacques Heath (Lily May Peel)</td>\n",
       "      <td>1</td>\n",
       "      <td>35.0</td>\n",
       "      <td>1</td>\n",
       "      <td>0</td>\n",
       "      <td>113803</td>\n",
       "      <td>53.1000</td>\n",
       "      <td>C123</td>\n",
       "      <td>0</td>\n",
       "      <td>0</td>\n",
       "      <td>1</td>\n",
       "      <td>1</td>\n",
       "      <td>0</td>\n",
       "      <td>0</td>\n",
       "      <td>Mrs</td>\n",
       "      <td>35.0</td>\n",
       "      <td>1</td>\n",
       "      <td>0</td>\n",
       "      <td>0</td>\n",
       "      <td>1</td>\n",
       "      <td>0</td>\n",
       "      <td>0</td>\n",
       "    </tr>\n",
       "    <tr>\n",
       "      <th>4</th>\n",
       "      <td>5</td>\n",
       "      <td>0</td>\n",
       "      <td>Allen, Mr. William Henry</td>\n",
       "      <td>0</td>\n",
       "      <td>35.0</td>\n",
       "      <td>0</td>\n",
       "      <td>0</td>\n",
       "      <td>373450</td>\n",
       "      <td>8.0500</td>\n",
       "      <td>NaN</td>\n",
       "      <td>0</td>\n",
       "      <td>0</td>\n",
       "      <td>1</td>\n",
       "      <td>0</td>\n",
       "      <td>0</td>\n",
       "      <td>1</td>\n",
       "      <td>Mr</td>\n",
       "      <td>35.0</td>\n",
       "      <td>0</td>\n",
       "      <td>0</td>\n",
       "      <td>0</td>\n",
       "      <td>1</td>\n",
       "      <td>0</td>\n",
       "      <td>0</td>\n",
       "    </tr>\n",
       "  </tbody>\n",
       "</table>\n",
       "</div>"
      ],
      "text/plain": [
       "   PassengerId  Survived                                               Name  \\\n",
       "0            1         0                            Braund, Mr. Owen Harris   \n",
       "1            2         1  Cumings, Mrs. John Bradley (Florence Briggs Th...   \n",
       "2            3         1                             Heikkinen, Miss. Laina   \n",
       "3            4         1       Futrelle, Mrs. Jacques Heath (Lily May Peel)   \n",
       "4            5         0                           Allen, Mr. William Henry   \n",
       "\n",
       "   Sex   Age  SibSp  Parch            Ticket     Fare Cabin  Embarked_C  \\\n",
       "0    0  22.0      1      0         A/5 21171   7.2500   NaN           0   \n",
       "1    1  38.0      1      0          PC 17599  71.2833   C85           1   \n",
       "2    1  26.0      0      0  STON/O2. 3101282   7.9250   NaN           0   \n",
       "3    1  35.0      1      0            113803  53.1000  C123           0   \n",
       "4    0  35.0      0      0            373450   8.0500   NaN           0   \n",
       "\n",
       "   Embarked_Q  Embarked_S  Pclass_1  Pclass_2  Pclass_3 Title  Age_median  \\\n",
       "0           0           1         0         0         1    Mr        22.0   \n",
       "1           0           0         1         0         0   Mrs        38.0   \n",
       "2           0           1         0         0         1  Miss        26.0   \n",
       "3           0           1         1         0         0   Mrs        35.0   \n",
       "4           0           1         0         0         1    Mr        35.0   \n",
       "\n",
       "   Fellow  Age_cut_10대및애기들  Age_cut_20대  Age_cut_30대  Age_cut_40대  \\\n",
       "0       1                0            1            0            0   \n",
       "1       1                0            0            1            0   \n",
       "2       0                0            1            0            0   \n",
       "3       1                0            0            1            0   \n",
       "4       0                0            0            1            0   \n",
       "\n",
       "   Age_cut_50대이상  \n",
       "0              0  \n",
       "1              0  \n",
       "2              0  \n",
       "3              0  \n",
       "4              0  "
      ]
     },
     "execution_count": 61,
     "metadata": {},
     "output_type": "execute_result"
    }
   ],
   "source": [
    "temp.head()"
   ]
  },
  {
   "cell_type": "code",
   "execution_count": 62,
   "metadata": {
    "id": "ASuCWVjs-gxW"
   },
   "outputs": [],
   "source": [
    "#################################################################################\n",
    "#################################################################################\n",
    "#################################################################################\n",
    "\n",
    "# Age, SibSp, Parch, Age_median를 지워주시면 됩니다~~\n",
    "del temp['Age']\n",
    "del temp['SibSp']\n",
    "del temp['Parch']\n",
    "del temp['Age_median']\n",
    "\n",
    "#################################################################################\n",
    "#################################################################################\n",
    "#################################################################################"
   ]
  },
  {
   "cell_type": "code",
   "execution_count": 63,
   "metadata": {
    "id": "33AIO2DO-gxX",
    "outputId": "4e5f152e-00b6-428e-bfc0-ee1a2e52ca62"
   },
   "outputs": [
    {
     "data": {
      "text/html": [
       "<div>\n",
       "<style scoped>\n",
       "    .dataframe tbody tr th:only-of-type {\n",
       "        vertical-align: middle;\n",
       "    }\n",
       "\n",
       "    .dataframe tbody tr th {\n",
       "        vertical-align: top;\n",
       "    }\n",
       "\n",
       "    .dataframe thead th {\n",
       "        text-align: right;\n",
       "    }\n",
       "</style>\n",
       "<table border=\"1\" class=\"dataframe\">\n",
       "  <thead>\n",
       "    <tr style=\"text-align: right;\">\n",
       "      <th></th>\n",
       "      <th>PassengerId</th>\n",
       "      <th>Survived</th>\n",
       "      <th>Name</th>\n",
       "      <th>Sex</th>\n",
       "      <th>Ticket</th>\n",
       "      <th>Fare</th>\n",
       "      <th>Cabin</th>\n",
       "      <th>Embarked_C</th>\n",
       "      <th>Embarked_Q</th>\n",
       "      <th>Embarked_S</th>\n",
       "      <th>Pclass_1</th>\n",
       "      <th>Pclass_2</th>\n",
       "      <th>Pclass_3</th>\n",
       "      <th>Title</th>\n",
       "      <th>Fellow</th>\n",
       "      <th>Age_cut_10대및애기들</th>\n",
       "      <th>Age_cut_20대</th>\n",
       "      <th>Age_cut_30대</th>\n",
       "      <th>Age_cut_40대</th>\n",
       "      <th>Age_cut_50대이상</th>\n",
       "    </tr>\n",
       "  </thead>\n",
       "  <tbody>\n",
       "    <tr>\n",
       "      <th>0</th>\n",
       "      <td>1</td>\n",
       "      <td>0</td>\n",
       "      <td>Braund, Mr. Owen Harris</td>\n",
       "      <td>0</td>\n",
       "      <td>A/5 21171</td>\n",
       "      <td>7.2500</td>\n",
       "      <td>NaN</td>\n",
       "      <td>0</td>\n",
       "      <td>0</td>\n",
       "      <td>1</td>\n",
       "      <td>0</td>\n",
       "      <td>0</td>\n",
       "      <td>1</td>\n",
       "      <td>Mr</td>\n",
       "      <td>1</td>\n",
       "      <td>0</td>\n",
       "      <td>1</td>\n",
       "      <td>0</td>\n",
       "      <td>0</td>\n",
       "      <td>0</td>\n",
       "    </tr>\n",
       "    <tr>\n",
       "      <th>1</th>\n",
       "      <td>2</td>\n",
       "      <td>1</td>\n",
       "      <td>Cumings, Mrs. John Bradley (Florence Briggs Th...</td>\n",
       "      <td>1</td>\n",
       "      <td>PC 17599</td>\n",
       "      <td>71.2833</td>\n",
       "      <td>C85</td>\n",
       "      <td>1</td>\n",
       "      <td>0</td>\n",
       "      <td>0</td>\n",
       "      <td>1</td>\n",
       "      <td>0</td>\n",
       "      <td>0</td>\n",
       "      <td>Mrs</td>\n",
       "      <td>1</td>\n",
       "      <td>0</td>\n",
       "      <td>0</td>\n",
       "      <td>1</td>\n",
       "      <td>0</td>\n",
       "      <td>0</td>\n",
       "    </tr>\n",
       "    <tr>\n",
       "      <th>2</th>\n",
       "      <td>3</td>\n",
       "      <td>1</td>\n",
       "      <td>Heikkinen, Miss. Laina</td>\n",
       "      <td>1</td>\n",
       "      <td>STON/O2. 3101282</td>\n",
       "      <td>7.9250</td>\n",
       "      <td>NaN</td>\n",
       "      <td>0</td>\n",
       "      <td>0</td>\n",
       "      <td>1</td>\n",
       "      <td>0</td>\n",
       "      <td>0</td>\n",
       "      <td>1</td>\n",
       "      <td>Miss</td>\n",
       "      <td>0</td>\n",
       "      <td>0</td>\n",
       "      <td>1</td>\n",
       "      <td>0</td>\n",
       "      <td>0</td>\n",
       "      <td>0</td>\n",
       "    </tr>\n",
       "    <tr>\n",
       "      <th>3</th>\n",
       "      <td>4</td>\n",
       "      <td>1</td>\n",
       "      <td>Futrelle, Mrs. Jacques Heath (Lily May Peel)</td>\n",
       "      <td>1</td>\n",
       "      <td>113803</td>\n",
       "      <td>53.1000</td>\n",
       "      <td>C123</td>\n",
       "      <td>0</td>\n",
       "      <td>0</td>\n",
       "      <td>1</td>\n",
       "      <td>1</td>\n",
       "      <td>0</td>\n",
       "      <td>0</td>\n",
       "      <td>Mrs</td>\n",
       "      <td>1</td>\n",
       "      <td>0</td>\n",
       "      <td>0</td>\n",
       "      <td>1</td>\n",
       "      <td>0</td>\n",
       "      <td>0</td>\n",
       "    </tr>\n",
       "    <tr>\n",
       "      <th>4</th>\n",
       "      <td>5</td>\n",
       "      <td>0</td>\n",
       "      <td>Allen, Mr. William Henry</td>\n",
       "      <td>0</td>\n",
       "      <td>373450</td>\n",
       "      <td>8.0500</td>\n",
       "      <td>NaN</td>\n",
       "      <td>0</td>\n",
       "      <td>0</td>\n",
       "      <td>1</td>\n",
       "      <td>0</td>\n",
       "      <td>0</td>\n",
       "      <td>1</td>\n",
       "      <td>Mr</td>\n",
       "      <td>0</td>\n",
       "      <td>0</td>\n",
       "      <td>0</td>\n",
       "      <td>1</td>\n",
       "      <td>0</td>\n",
       "      <td>0</td>\n",
       "    </tr>\n",
       "  </tbody>\n",
       "</table>\n",
       "</div>"
      ],
      "text/plain": [
       "   PassengerId  Survived                                               Name  \\\n",
       "0            1         0                            Braund, Mr. Owen Harris   \n",
       "1            2         1  Cumings, Mrs. John Bradley (Florence Briggs Th...   \n",
       "2            3         1                             Heikkinen, Miss. Laina   \n",
       "3            4         1       Futrelle, Mrs. Jacques Heath (Lily May Peel)   \n",
       "4            5         0                           Allen, Mr. William Henry   \n",
       "\n",
       "   Sex            Ticket     Fare Cabin  Embarked_C  Embarked_Q  Embarked_S  \\\n",
       "0    0         A/5 21171   7.2500   NaN           0           0           1   \n",
       "1    1          PC 17599  71.2833   C85           1           0           0   \n",
       "2    1  STON/O2. 3101282   7.9250   NaN           0           0           1   \n",
       "3    1            113803  53.1000  C123           0           0           1   \n",
       "4    0            373450   8.0500   NaN           0           0           1   \n",
       "\n",
       "   Pclass_1  Pclass_2  Pclass_3 Title  Fellow  Age_cut_10대및애기들  Age_cut_20대  \\\n",
       "0         0         0         1    Mr       1                0            1   \n",
       "1         1         0         0   Mrs       1                0            0   \n",
       "2         0         0         1  Miss       0                0            1   \n",
       "3         1         0         0   Mrs       1                0            0   \n",
       "4         0         0         1    Mr       0                0            0   \n",
       "\n",
       "   Age_cut_30대  Age_cut_40대  Age_cut_50대이상  \n",
       "0            0            0              0  \n",
       "1            1            0              0  \n",
       "2            0            0              0  \n",
       "3            1            0              0  \n",
       "4            1            0              0  "
      ]
     },
     "execution_count": 63,
     "metadata": {},
     "output_type": "execute_result"
    }
   ],
   "source": [
    "temp.head()"
   ]
  },
  {
   "cell_type": "code",
   "execution_count": 64,
   "metadata": {
    "id": "GEpj1pY_-gxY"
   },
   "outputs": [],
   "source": [
    "df = temp.copy()"
   ]
  },
  {
   "cell_type": "markdown",
   "metadata": {
    "id": "kA3wH7HN-gxZ"
   },
   "source": [
    "# 6. 데이터 정리하기"
   ]
  },
  {
   "cell_type": "markdown",
   "metadata": {
    "id": "jBO0yDl1-gxZ"
   },
   "source": [
    "# <font color='red'>[과제부분!] (11/11)</font>\n",
    "### 원하는 순서대로 column 정리해주기~\n",
    "<br>\n",
    "\n",
    "- 이제 FE가 끝났습니다~\n",
    "<br>\n",
    "\n",
    "- 이제 남은 것은 보기 이쁘게 column들을 정리해주는 거예요~\n",
    "\n",
    "  쓸 column들만 남기고 앞으로 빼놔야 나중에 머신러닝 모델을 돌릴 때 편하거든요~\n",
    "\n",
    "<br>\n",
    "\n",
    "- 칼럼들을 원하는 순서대로 정리하는 방법은 쉬워요.\n",
    ">```python\n",
    "df = df[['칼럼1', '칼럼2', '칼럼3', '칼럼4', '칼럼5']]\n",
    ">```\n",
    "[[ ]] 대괄호를 2개 씌워주면 됩니다!  \n",
    "[[ ]]는 참고로 원하는 column만 뽑을 때 쓰기도 하는 방법입니다~\n",
    "\n",
    "<br>\n",
    "\n",
    "- 자 이제 마지막 과제를 해봅시다~\n"
   ]
  },
  {
   "cell_type": "code",
   "execution_count": 65,
   "metadata": {
    "id": "g7ppWcsk-gxa",
    "outputId": "28949bc6-8101-46cc-9b21-47202a0453fc",
    "scrolled": true
   },
   "outputs": [
    {
     "data": {
      "text/html": [
       "<div>\n",
       "<style scoped>\n",
       "    .dataframe tbody tr th:only-of-type {\n",
       "        vertical-align: middle;\n",
       "    }\n",
       "\n",
       "    .dataframe tbody tr th {\n",
       "        vertical-align: top;\n",
       "    }\n",
       "\n",
       "    .dataframe thead th {\n",
       "        text-align: right;\n",
       "    }\n",
       "</style>\n",
       "<table border=\"1\" class=\"dataframe\">\n",
       "  <thead>\n",
       "    <tr style=\"text-align: right;\">\n",
       "      <th></th>\n",
       "      <th>PassengerId</th>\n",
       "      <th>Survived</th>\n",
       "      <th>Name</th>\n",
       "      <th>Sex</th>\n",
       "      <th>Ticket</th>\n",
       "      <th>Fare</th>\n",
       "      <th>Cabin</th>\n",
       "      <th>Embarked_C</th>\n",
       "      <th>Embarked_Q</th>\n",
       "      <th>Embarked_S</th>\n",
       "      <th>Pclass_1</th>\n",
       "      <th>Pclass_2</th>\n",
       "      <th>Pclass_3</th>\n",
       "      <th>Title</th>\n",
       "      <th>Fellow</th>\n",
       "      <th>Age_cut_10대및애기들</th>\n",
       "      <th>Age_cut_20대</th>\n",
       "      <th>Age_cut_30대</th>\n",
       "      <th>Age_cut_40대</th>\n",
       "      <th>Age_cut_50대이상</th>\n",
       "    </tr>\n",
       "  </thead>\n",
       "  <tbody>\n",
       "    <tr>\n",
       "      <th>0</th>\n",
       "      <td>1</td>\n",
       "      <td>0</td>\n",
       "      <td>Braund, Mr. Owen Harris</td>\n",
       "      <td>0</td>\n",
       "      <td>A/5 21171</td>\n",
       "      <td>7.2500</td>\n",
       "      <td>NaN</td>\n",
       "      <td>0</td>\n",
       "      <td>0</td>\n",
       "      <td>1</td>\n",
       "      <td>0</td>\n",
       "      <td>0</td>\n",
       "      <td>1</td>\n",
       "      <td>Mr</td>\n",
       "      <td>1</td>\n",
       "      <td>0</td>\n",
       "      <td>1</td>\n",
       "      <td>0</td>\n",
       "      <td>0</td>\n",
       "      <td>0</td>\n",
       "    </tr>\n",
       "    <tr>\n",
       "      <th>1</th>\n",
       "      <td>2</td>\n",
       "      <td>1</td>\n",
       "      <td>Cumings, Mrs. John Bradley (Florence Briggs Th...</td>\n",
       "      <td>1</td>\n",
       "      <td>PC 17599</td>\n",
       "      <td>71.2833</td>\n",
       "      <td>C85</td>\n",
       "      <td>1</td>\n",
       "      <td>0</td>\n",
       "      <td>0</td>\n",
       "      <td>1</td>\n",
       "      <td>0</td>\n",
       "      <td>0</td>\n",
       "      <td>Mrs</td>\n",
       "      <td>1</td>\n",
       "      <td>0</td>\n",
       "      <td>0</td>\n",
       "      <td>1</td>\n",
       "      <td>0</td>\n",
       "      <td>0</td>\n",
       "    </tr>\n",
       "    <tr>\n",
       "      <th>2</th>\n",
       "      <td>3</td>\n",
       "      <td>1</td>\n",
       "      <td>Heikkinen, Miss. Laina</td>\n",
       "      <td>1</td>\n",
       "      <td>STON/O2. 3101282</td>\n",
       "      <td>7.9250</td>\n",
       "      <td>NaN</td>\n",
       "      <td>0</td>\n",
       "      <td>0</td>\n",
       "      <td>1</td>\n",
       "      <td>0</td>\n",
       "      <td>0</td>\n",
       "      <td>1</td>\n",
       "      <td>Miss</td>\n",
       "      <td>0</td>\n",
       "      <td>0</td>\n",
       "      <td>1</td>\n",
       "      <td>0</td>\n",
       "      <td>0</td>\n",
       "      <td>0</td>\n",
       "    </tr>\n",
       "    <tr>\n",
       "      <th>3</th>\n",
       "      <td>4</td>\n",
       "      <td>1</td>\n",
       "      <td>Futrelle, Mrs. Jacques Heath (Lily May Peel)</td>\n",
       "      <td>1</td>\n",
       "      <td>113803</td>\n",
       "      <td>53.1000</td>\n",
       "      <td>C123</td>\n",
       "      <td>0</td>\n",
       "      <td>0</td>\n",
       "      <td>1</td>\n",
       "      <td>1</td>\n",
       "      <td>0</td>\n",
       "      <td>0</td>\n",
       "      <td>Mrs</td>\n",
       "      <td>1</td>\n",
       "      <td>0</td>\n",
       "      <td>0</td>\n",
       "      <td>1</td>\n",
       "      <td>0</td>\n",
       "      <td>0</td>\n",
       "    </tr>\n",
       "    <tr>\n",
       "      <th>4</th>\n",
       "      <td>5</td>\n",
       "      <td>0</td>\n",
       "      <td>Allen, Mr. William Henry</td>\n",
       "      <td>0</td>\n",
       "      <td>373450</td>\n",
       "      <td>8.0500</td>\n",
       "      <td>NaN</td>\n",
       "      <td>0</td>\n",
       "      <td>0</td>\n",
       "      <td>1</td>\n",
       "      <td>0</td>\n",
       "      <td>0</td>\n",
       "      <td>1</td>\n",
       "      <td>Mr</td>\n",
       "      <td>0</td>\n",
       "      <td>0</td>\n",
       "      <td>0</td>\n",
       "      <td>1</td>\n",
       "      <td>0</td>\n",
       "      <td>0</td>\n",
       "    </tr>\n",
       "  </tbody>\n",
       "</table>\n",
       "</div>"
      ],
      "text/plain": [
       "   PassengerId  Survived                                               Name  \\\n",
       "0            1         0                            Braund, Mr. Owen Harris   \n",
       "1            2         1  Cumings, Mrs. John Bradley (Florence Briggs Th...   \n",
       "2            3         1                             Heikkinen, Miss. Laina   \n",
       "3            4         1       Futrelle, Mrs. Jacques Heath (Lily May Peel)   \n",
       "4            5         0                           Allen, Mr. William Henry   \n",
       "\n",
       "   Sex            Ticket     Fare Cabin  Embarked_C  Embarked_Q  Embarked_S  \\\n",
       "0    0         A/5 21171   7.2500   NaN           0           0           1   \n",
       "1    1          PC 17599  71.2833   C85           1           0           0   \n",
       "2    1  STON/O2. 3101282   7.9250   NaN           0           0           1   \n",
       "3    1            113803  53.1000  C123           0           0           1   \n",
       "4    0            373450   8.0500   NaN           0           0           1   \n",
       "\n",
       "   Pclass_1  Pclass_2  Pclass_3 Title  Fellow  Age_cut_10대및애기들  Age_cut_20대  \\\n",
       "0         0         0         1    Mr       1                0            1   \n",
       "1         1         0         0   Mrs       1                0            0   \n",
       "2         0         0         1  Miss       0                0            1   \n",
       "3         1         0         0   Mrs       1                0            0   \n",
       "4         0         0         1    Mr       0                0            0   \n",
       "\n",
       "   Age_cut_30대  Age_cut_40대  Age_cut_50대이상  \n",
       "0            0            0              0  \n",
       "1            1            0              0  \n",
       "2            0            0              0  \n",
       "3            1            0              0  \n",
       "4            1            0              0  "
      ]
     },
     "execution_count": 65,
     "metadata": {},
     "output_type": "execute_result"
    }
   ],
   "source": [
    "df.head()"
   ]
  },
  {
   "cell_type": "code",
   "execution_count": 66,
   "metadata": {
    "id": "I4o3Ad-o-gxa",
    "outputId": "ed77111b-22fd-419f-fde0-194d11bea8f0"
   },
   "outputs": [
    {
     "data": {
      "text/plain": [
       "Index(['PassengerId', 'Survived', 'Name', 'Sex', 'Ticket', 'Fare', 'Cabin',\n",
       "       'Embarked_C', 'Embarked_Q', 'Embarked_S', 'Pclass_1', 'Pclass_2',\n",
       "       'Pclass_3', 'Title', 'Fellow', 'Age_cut_10대및애기들', 'Age_cut_20대',\n",
       "       'Age_cut_30대', 'Age_cut_40대', 'Age_cut_50대이상'],\n",
       "      dtype='object')"
      ]
     },
     "execution_count": 66,
     "metadata": {},
     "output_type": "execute_result"
    }
   ],
   "source": [
    "# 우선 columns들이 뭐가 있나 살펴보죠\n",
    "df.columns"
   ]
  },
  {
   "cell_type": "markdown",
   "metadata": {
    "id": "-u0CJR_0-gxb"
   },
   "source": [
    "### <font color='yellow'> 여기를 채워주세요~ </font>"
   ]
  },
  {
   "cell_type": "code",
   "execution_count": 67,
   "metadata": {
    "id": "IaHzHZa8-gxb"
   },
   "outputs": [
    {
     "data": {
      "text/html": [
       "<div>\n",
       "<style scoped>\n",
       "    .dataframe tbody tr th:only-of-type {\n",
       "        vertical-align: middle;\n",
       "    }\n",
       "\n",
       "    .dataframe tbody tr th {\n",
       "        vertical-align: top;\n",
       "    }\n",
       "\n",
       "    .dataframe thead th {\n",
       "        text-align: right;\n",
       "    }\n",
       "</style>\n",
       "<table border=\"1\" class=\"dataframe\">\n",
       "  <thead>\n",
       "    <tr style=\"text-align: right;\">\n",
       "      <th></th>\n",
       "      <th>Survived</th>\n",
       "      <th>Sex</th>\n",
       "      <th>Fare</th>\n",
       "      <th>Embarked_C</th>\n",
       "      <th>Embarked_Q</th>\n",
       "      <th>Embarked_S</th>\n",
       "      <th>Pclass_1</th>\n",
       "      <th>Pclass_2</th>\n",
       "      <th>Pclass_3</th>\n",
       "      <th>Fellow</th>\n",
       "      <th>Age_cut_10대및애기들</th>\n",
       "      <th>Age_cut_20대</th>\n",
       "      <th>Age_cut_30대</th>\n",
       "      <th>Age_cut_40대</th>\n",
       "      <th>Age_cut_50대이상</th>\n",
       "      <th>Cabin</th>\n",
       "      <th>Name</th>\n",
       "      <th>Title</th>\n",
       "      <th>PassengerId</th>\n",
       "      <th>Ticket</th>\n",
       "    </tr>\n",
       "  </thead>\n",
       "  <tbody>\n",
       "    <tr>\n",
       "      <th>0</th>\n",
       "      <td>0</td>\n",
       "      <td>0</td>\n",
       "      <td>7.2500</td>\n",
       "      <td>0</td>\n",
       "      <td>0</td>\n",
       "      <td>1</td>\n",
       "      <td>0</td>\n",
       "      <td>0</td>\n",
       "      <td>1</td>\n",
       "      <td>1</td>\n",
       "      <td>0</td>\n",
       "      <td>1</td>\n",
       "      <td>0</td>\n",
       "      <td>0</td>\n",
       "      <td>0</td>\n",
       "      <td>NaN</td>\n",
       "      <td>Braund, Mr. Owen Harris</td>\n",
       "      <td>Mr</td>\n",
       "      <td>1</td>\n",
       "      <td>A/5 21171</td>\n",
       "    </tr>\n",
       "    <tr>\n",
       "      <th>1</th>\n",
       "      <td>1</td>\n",
       "      <td>1</td>\n",
       "      <td>71.2833</td>\n",
       "      <td>1</td>\n",
       "      <td>0</td>\n",
       "      <td>0</td>\n",
       "      <td>1</td>\n",
       "      <td>0</td>\n",
       "      <td>0</td>\n",
       "      <td>1</td>\n",
       "      <td>0</td>\n",
       "      <td>0</td>\n",
       "      <td>1</td>\n",
       "      <td>0</td>\n",
       "      <td>0</td>\n",
       "      <td>C85</td>\n",
       "      <td>Cumings, Mrs. John Bradley (Florence Briggs Th...</td>\n",
       "      <td>Mrs</td>\n",
       "      <td>2</td>\n",
       "      <td>PC 17599</td>\n",
       "    </tr>\n",
       "    <tr>\n",
       "      <th>2</th>\n",
       "      <td>1</td>\n",
       "      <td>1</td>\n",
       "      <td>7.9250</td>\n",
       "      <td>0</td>\n",
       "      <td>0</td>\n",
       "      <td>1</td>\n",
       "      <td>0</td>\n",
       "      <td>0</td>\n",
       "      <td>1</td>\n",
       "      <td>0</td>\n",
       "      <td>0</td>\n",
       "      <td>1</td>\n",
       "      <td>0</td>\n",
       "      <td>0</td>\n",
       "      <td>0</td>\n",
       "      <td>NaN</td>\n",
       "      <td>Heikkinen, Miss. Laina</td>\n",
       "      <td>Miss</td>\n",
       "      <td>3</td>\n",
       "      <td>STON/O2. 3101282</td>\n",
       "    </tr>\n",
       "    <tr>\n",
       "      <th>3</th>\n",
       "      <td>1</td>\n",
       "      <td>1</td>\n",
       "      <td>53.1000</td>\n",
       "      <td>0</td>\n",
       "      <td>0</td>\n",
       "      <td>1</td>\n",
       "      <td>1</td>\n",
       "      <td>0</td>\n",
       "      <td>0</td>\n",
       "      <td>1</td>\n",
       "      <td>0</td>\n",
       "      <td>0</td>\n",
       "      <td>1</td>\n",
       "      <td>0</td>\n",
       "      <td>0</td>\n",
       "      <td>C123</td>\n",
       "      <td>Futrelle, Mrs. Jacques Heath (Lily May Peel)</td>\n",
       "      <td>Mrs</td>\n",
       "      <td>4</td>\n",
       "      <td>113803</td>\n",
       "    </tr>\n",
       "    <tr>\n",
       "      <th>4</th>\n",
       "      <td>0</td>\n",
       "      <td>0</td>\n",
       "      <td>8.0500</td>\n",
       "      <td>0</td>\n",
       "      <td>0</td>\n",
       "      <td>1</td>\n",
       "      <td>0</td>\n",
       "      <td>0</td>\n",
       "      <td>1</td>\n",
       "      <td>0</td>\n",
       "      <td>0</td>\n",
       "      <td>0</td>\n",
       "      <td>1</td>\n",
       "      <td>0</td>\n",
       "      <td>0</td>\n",
       "      <td>NaN</td>\n",
       "      <td>Allen, Mr. William Henry</td>\n",
       "      <td>Mr</td>\n",
       "      <td>5</td>\n",
       "      <td>373450</td>\n",
       "    </tr>\n",
       "    <tr>\n",
       "      <th>...</th>\n",
       "      <td>...</td>\n",
       "      <td>...</td>\n",
       "      <td>...</td>\n",
       "      <td>...</td>\n",
       "      <td>...</td>\n",
       "      <td>...</td>\n",
       "      <td>...</td>\n",
       "      <td>...</td>\n",
       "      <td>...</td>\n",
       "      <td>...</td>\n",
       "      <td>...</td>\n",
       "      <td>...</td>\n",
       "      <td>...</td>\n",
       "      <td>...</td>\n",
       "      <td>...</td>\n",
       "      <td>...</td>\n",
       "      <td>...</td>\n",
       "      <td>...</td>\n",
       "      <td>...</td>\n",
       "      <td>...</td>\n",
       "    </tr>\n",
       "    <tr>\n",
       "      <th>886</th>\n",
       "      <td>0</td>\n",
       "      <td>0</td>\n",
       "      <td>13.0000</td>\n",
       "      <td>0</td>\n",
       "      <td>0</td>\n",
       "      <td>1</td>\n",
       "      <td>0</td>\n",
       "      <td>1</td>\n",
       "      <td>0</td>\n",
       "      <td>0</td>\n",
       "      <td>0</td>\n",
       "      <td>1</td>\n",
       "      <td>0</td>\n",
       "      <td>0</td>\n",
       "      <td>0</td>\n",
       "      <td>NaN</td>\n",
       "      <td>Montvila, Rev. Juozas</td>\n",
       "      <td>Other</td>\n",
       "      <td>887</td>\n",
       "      <td>211536</td>\n",
       "    </tr>\n",
       "    <tr>\n",
       "      <th>887</th>\n",
       "      <td>1</td>\n",
       "      <td>1</td>\n",
       "      <td>30.0000</td>\n",
       "      <td>0</td>\n",
       "      <td>0</td>\n",
       "      <td>1</td>\n",
       "      <td>1</td>\n",
       "      <td>0</td>\n",
       "      <td>0</td>\n",
       "      <td>0</td>\n",
       "      <td>1</td>\n",
       "      <td>0</td>\n",
       "      <td>0</td>\n",
       "      <td>0</td>\n",
       "      <td>0</td>\n",
       "      <td>B42</td>\n",
       "      <td>Graham, Miss. Margaret Edith</td>\n",
       "      <td>Miss</td>\n",
       "      <td>888</td>\n",
       "      <td>112053</td>\n",
       "    </tr>\n",
       "    <tr>\n",
       "      <th>888</th>\n",
       "      <td>0</td>\n",
       "      <td>1</td>\n",
       "      <td>23.4500</td>\n",
       "      <td>0</td>\n",
       "      <td>0</td>\n",
       "      <td>1</td>\n",
       "      <td>0</td>\n",
       "      <td>0</td>\n",
       "      <td>1</td>\n",
       "      <td>3</td>\n",
       "      <td>0</td>\n",
       "      <td>0</td>\n",
       "      <td>0</td>\n",
       "      <td>0</td>\n",
       "      <td>0</td>\n",
       "      <td>NaN</td>\n",
       "      <td>Johnston, Miss. Catherine Helen \"Carrie\"</td>\n",
       "      <td>Miss</td>\n",
       "      <td>889</td>\n",
       "      <td>W./C. 6607</td>\n",
       "    </tr>\n",
       "    <tr>\n",
       "      <th>889</th>\n",
       "      <td>1</td>\n",
       "      <td>0</td>\n",
       "      <td>30.0000</td>\n",
       "      <td>1</td>\n",
       "      <td>0</td>\n",
       "      <td>0</td>\n",
       "      <td>1</td>\n",
       "      <td>0</td>\n",
       "      <td>0</td>\n",
       "      <td>0</td>\n",
       "      <td>0</td>\n",
       "      <td>1</td>\n",
       "      <td>0</td>\n",
       "      <td>0</td>\n",
       "      <td>0</td>\n",
       "      <td>C148</td>\n",
       "      <td>Behr, Mr. Karl Howell</td>\n",
       "      <td>Mr</td>\n",
       "      <td>890</td>\n",
       "      <td>111369</td>\n",
       "    </tr>\n",
       "    <tr>\n",
       "      <th>890</th>\n",
       "      <td>0</td>\n",
       "      <td>0</td>\n",
       "      <td>7.7500</td>\n",
       "      <td>0</td>\n",
       "      <td>1</td>\n",
       "      <td>0</td>\n",
       "      <td>0</td>\n",
       "      <td>0</td>\n",
       "      <td>1</td>\n",
       "      <td>0</td>\n",
       "      <td>0</td>\n",
       "      <td>0</td>\n",
       "      <td>1</td>\n",
       "      <td>0</td>\n",
       "      <td>0</td>\n",
       "      <td>NaN</td>\n",
       "      <td>Dooley, Mr. Patrick</td>\n",
       "      <td>Mr</td>\n",
       "      <td>891</td>\n",
       "      <td>370376</td>\n",
       "    </tr>\n",
       "  </tbody>\n",
       "</table>\n",
       "<p>891 rows × 20 columns</p>\n",
       "</div>"
      ],
      "text/plain": [
       "     Survived  Sex     Fare  Embarked_C  Embarked_Q  Embarked_S  Pclass_1  \\\n",
       "0           0    0   7.2500           0           0           1         0   \n",
       "1           1    1  71.2833           1           0           0         1   \n",
       "2           1    1   7.9250           0           0           1         0   \n",
       "3           1    1  53.1000           0           0           1         1   \n",
       "4           0    0   8.0500           0           0           1         0   \n",
       "..        ...  ...      ...         ...         ...         ...       ...   \n",
       "886         0    0  13.0000           0           0           1         0   \n",
       "887         1    1  30.0000           0           0           1         1   \n",
       "888         0    1  23.4500           0           0           1         0   \n",
       "889         1    0  30.0000           1           0           0         1   \n",
       "890         0    0   7.7500           0           1           0         0   \n",
       "\n",
       "     Pclass_2  Pclass_3  Fellow  Age_cut_10대및애기들  Age_cut_20대  Age_cut_30대  \\\n",
       "0           0         1       1                0            1            0   \n",
       "1           0         0       1                0            0            1   \n",
       "2           0         1       0                0            1            0   \n",
       "3           0         0       1                0            0            1   \n",
       "4           0         1       0                0            0            1   \n",
       "..        ...       ...     ...              ...          ...          ...   \n",
       "886         1         0       0                0            1            0   \n",
       "887         0         0       0                1            0            0   \n",
       "888         0         1       3                0            0            0   \n",
       "889         0         0       0                0            1            0   \n",
       "890         0         1       0                0            0            1   \n",
       "\n",
       "     Age_cut_40대  Age_cut_50대이상 Cabin  \\\n",
       "0              0              0   NaN   \n",
       "1              0              0   C85   \n",
       "2              0              0   NaN   \n",
       "3              0              0  C123   \n",
       "4              0              0   NaN   \n",
       "..           ...            ...   ...   \n",
       "886            0              0   NaN   \n",
       "887            0              0   B42   \n",
       "888            0              0   NaN   \n",
       "889            0              0  C148   \n",
       "890            0              0   NaN   \n",
       "\n",
       "                                                  Name  Title  PassengerId  \\\n",
       "0                              Braund, Mr. Owen Harris     Mr            1   \n",
       "1    Cumings, Mrs. John Bradley (Florence Briggs Th...    Mrs            2   \n",
       "2                               Heikkinen, Miss. Laina   Miss            3   \n",
       "3         Futrelle, Mrs. Jacques Heath (Lily May Peel)    Mrs            4   \n",
       "4                             Allen, Mr. William Henry     Mr            5   \n",
       "..                                                 ...    ...          ...   \n",
       "886                              Montvila, Rev. Juozas  Other          887   \n",
       "887                       Graham, Miss. Margaret Edith   Miss          888   \n",
       "888           Johnston, Miss. Catherine Helen \"Carrie\"   Miss          889   \n",
       "889                              Behr, Mr. Karl Howell     Mr          890   \n",
       "890                                Dooley, Mr. Patrick     Mr          891   \n",
       "\n",
       "               Ticket  \n",
       "0           A/5 21171  \n",
       "1            PC 17599  \n",
       "2    STON/O2. 3101282  \n",
       "3              113803  \n",
       "4              373450  \n",
       "..                ...  \n",
       "886            211536  \n",
       "887            112053  \n",
       "888        W./C. 6607  \n",
       "889            111369  \n",
       "890            370376  \n",
       "\n",
       "[891 rows x 20 columns]"
      ]
     },
     "execution_count": 67,
     "metadata": {},
     "output_type": "execute_result"
    }
   ],
   "source": [
    "#################################################################################\n",
    "#################################################################################\n",
    "#################################################################################\n",
    "\n",
    "# 저희가 머신러닝을 돌릴 때 필요한 칼럼들을 앞으로 빼고 나머지는 뒤로 빼주세요~\n",
    "#<칼럼순서>\n",
    "df[['Survived', 'Sex', 'Fare', 'Embarked_C', 'Embarked_Q', 'Embarked_S', \n",
    "   'Pclass_1', 'Pclass_2', 'Pclass_3', 'Fellow', 'Age_cut_10대및애기들',\n",
    "   'Age_cut_20대', 'Age_cut_30대', 'Age_cut_40대', 'Age_cut_50대이상',\n",
    "   'Cabin', 'Name', 'Title', 'PassengerId', 'Ticket']]\n",
    "\n",
    "\n",
    "#################################################################################\n",
    "#################################################################################\n",
    "#################################################################################"
   ]
  },
  {
   "cell_type": "code",
   "execution_count": 68,
   "metadata": {
    "id": "fkqtmP_7-gxb",
    "outputId": "990ca464-13a7-45ea-f551-f19a2956e34f"
   },
   "outputs": [
    {
     "data": {
      "text/html": [
       "<div>\n",
       "<style scoped>\n",
       "    .dataframe tbody tr th:only-of-type {\n",
       "        vertical-align: middle;\n",
       "    }\n",
       "\n",
       "    .dataframe tbody tr th {\n",
       "        vertical-align: top;\n",
       "    }\n",
       "\n",
       "    .dataframe thead th {\n",
       "        text-align: right;\n",
       "    }\n",
       "</style>\n",
       "<table border=\"1\" class=\"dataframe\">\n",
       "  <thead>\n",
       "    <tr style=\"text-align: right;\">\n",
       "      <th></th>\n",
       "      <th>PassengerId</th>\n",
       "      <th>Survived</th>\n",
       "      <th>Name</th>\n",
       "      <th>Sex</th>\n",
       "      <th>Ticket</th>\n",
       "      <th>Fare</th>\n",
       "      <th>Cabin</th>\n",
       "      <th>Embarked_C</th>\n",
       "      <th>Embarked_Q</th>\n",
       "      <th>Embarked_S</th>\n",
       "      <th>Pclass_1</th>\n",
       "      <th>Pclass_2</th>\n",
       "      <th>Pclass_3</th>\n",
       "      <th>Title</th>\n",
       "      <th>Fellow</th>\n",
       "      <th>Age_cut_10대및애기들</th>\n",
       "      <th>Age_cut_20대</th>\n",
       "      <th>Age_cut_30대</th>\n",
       "      <th>Age_cut_40대</th>\n",
       "      <th>Age_cut_50대이상</th>\n",
       "    </tr>\n",
       "  </thead>\n",
       "  <tbody>\n",
       "    <tr>\n",
       "      <th>0</th>\n",
       "      <td>1</td>\n",
       "      <td>0</td>\n",
       "      <td>Braund, Mr. Owen Harris</td>\n",
       "      <td>0</td>\n",
       "      <td>A/5 21171</td>\n",
       "      <td>7.2500</td>\n",
       "      <td>NaN</td>\n",
       "      <td>0</td>\n",
       "      <td>0</td>\n",
       "      <td>1</td>\n",
       "      <td>0</td>\n",
       "      <td>0</td>\n",
       "      <td>1</td>\n",
       "      <td>Mr</td>\n",
       "      <td>1</td>\n",
       "      <td>0</td>\n",
       "      <td>1</td>\n",
       "      <td>0</td>\n",
       "      <td>0</td>\n",
       "      <td>0</td>\n",
       "    </tr>\n",
       "    <tr>\n",
       "      <th>1</th>\n",
       "      <td>2</td>\n",
       "      <td>1</td>\n",
       "      <td>Cumings, Mrs. John Bradley (Florence Briggs Th...</td>\n",
       "      <td>1</td>\n",
       "      <td>PC 17599</td>\n",
       "      <td>71.2833</td>\n",
       "      <td>C85</td>\n",
       "      <td>1</td>\n",
       "      <td>0</td>\n",
       "      <td>0</td>\n",
       "      <td>1</td>\n",
       "      <td>0</td>\n",
       "      <td>0</td>\n",
       "      <td>Mrs</td>\n",
       "      <td>1</td>\n",
       "      <td>0</td>\n",
       "      <td>0</td>\n",
       "      <td>1</td>\n",
       "      <td>0</td>\n",
       "      <td>0</td>\n",
       "    </tr>\n",
       "    <tr>\n",
       "      <th>2</th>\n",
       "      <td>3</td>\n",
       "      <td>1</td>\n",
       "      <td>Heikkinen, Miss. Laina</td>\n",
       "      <td>1</td>\n",
       "      <td>STON/O2. 3101282</td>\n",
       "      <td>7.9250</td>\n",
       "      <td>NaN</td>\n",
       "      <td>0</td>\n",
       "      <td>0</td>\n",
       "      <td>1</td>\n",
       "      <td>0</td>\n",
       "      <td>0</td>\n",
       "      <td>1</td>\n",
       "      <td>Miss</td>\n",
       "      <td>0</td>\n",
       "      <td>0</td>\n",
       "      <td>1</td>\n",
       "      <td>0</td>\n",
       "      <td>0</td>\n",
       "      <td>0</td>\n",
       "    </tr>\n",
       "    <tr>\n",
       "      <th>3</th>\n",
       "      <td>4</td>\n",
       "      <td>1</td>\n",
       "      <td>Futrelle, Mrs. Jacques Heath (Lily May Peel)</td>\n",
       "      <td>1</td>\n",
       "      <td>113803</td>\n",
       "      <td>53.1000</td>\n",
       "      <td>C123</td>\n",
       "      <td>0</td>\n",
       "      <td>0</td>\n",
       "      <td>1</td>\n",
       "      <td>1</td>\n",
       "      <td>0</td>\n",
       "      <td>0</td>\n",
       "      <td>Mrs</td>\n",
       "      <td>1</td>\n",
       "      <td>0</td>\n",
       "      <td>0</td>\n",
       "      <td>1</td>\n",
       "      <td>0</td>\n",
       "      <td>0</td>\n",
       "    </tr>\n",
       "    <tr>\n",
       "      <th>4</th>\n",
       "      <td>5</td>\n",
       "      <td>0</td>\n",
       "      <td>Allen, Mr. William Henry</td>\n",
       "      <td>0</td>\n",
       "      <td>373450</td>\n",
       "      <td>8.0500</td>\n",
       "      <td>NaN</td>\n",
       "      <td>0</td>\n",
       "      <td>0</td>\n",
       "      <td>1</td>\n",
       "      <td>0</td>\n",
       "      <td>0</td>\n",
       "      <td>1</td>\n",
       "      <td>Mr</td>\n",
       "      <td>0</td>\n",
       "      <td>0</td>\n",
       "      <td>0</td>\n",
       "      <td>1</td>\n",
       "      <td>0</td>\n",
       "      <td>0</td>\n",
       "    </tr>\n",
       "  </tbody>\n",
       "</table>\n",
       "</div>"
      ],
      "text/plain": [
       "   PassengerId  Survived                                               Name  \\\n",
       "0            1         0                            Braund, Mr. Owen Harris   \n",
       "1            2         1  Cumings, Mrs. John Bradley (Florence Briggs Th...   \n",
       "2            3         1                             Heikkinen, Miss. Laina   \n",
       "3            4         1       Futrelle, Mrs. Jacques Heath (Lily May Peel)   \n",
       "4            5         0                           Allen, Mr. William Henry   \n",
       "\n",
       "   Sex            Ticket     Fare Cabin  Embarked_C  Embarked_Q  Embarked_S  \\\n",
       "0    0         A/5 21171   7.2500   NaN           0           0           1   \n",
       "1    1          PC 17599  71.2833   C85           1           0           0   \n",
       "2    1  STON/O2. 3101282   7.9250   NaN           0           0           1   \n",
       "3    1            113803  53.1000  C123           0           0           1   \n",
       "4    0            373450   8.0500   NaN           0           0           1   \n",
       "\n",
       "   Pclass_1  Pclass_2  Pclass_3 Title  Fellow  Age_cut_10대및애기들  Age_cut_20대  \\\n",
       "0         0         0         1    Mr       1                0            1   \n",
       "1         1         0         0   Mrs       1                0            0   \n",
       "2         0         0         1  Miss       0                0            1   \n",
       "3         1         0         0   Mrs       1                0            0   \n",
       "4         0         0         1    Mr       0                0            0   \n",
       "\n",
       "   Age_cut_30대  Age_cut_40대  Age_cut_50대이상  \n",
       "0            0            0              0  \n",
       "1            1            0              0  \n",
       "2            0            0              0  \n",
       "3            1            0              0  \n",
       "4            1            0              0  "
      ]
     },
     "execution_count": 68,
     "metadata": {},
     "output_type": "execute_result"
    }
   ],
   "source": [
    "df.head()"
   ]
  },
  {
   "cell_type": "markdown",
   "metadata": {
    "id": "UMaTC-sX-gxd"
   },
   "source": [
    "# + 과제에 사용되었던 메소드 모음"
   ]
  },
  {
   "cell_type": "markdown",
   "metadata": {
    "id": "7F_4UuQL-gxe"
   },
   "source": [
    "\n",
    "> ```python\n",
    "import numpy as np\n",
    "import pandas as pd\n",
    "pd.set_option('display.max_columns', 200)\n",
    "pd.set_option('display.max_rows', 200)\n",
    "type()\n",
    ".read_csv()\n",
    ".head()\n",
    ".isnull().sum()\n",
    ".shape\n",
    ".dtypes\n",
    ".unique()\n",
    ".nunique()\n",
    ".copy()\n",
    ".replace()\n",
    ".map(dict)\n",
    ".value_counts()\n",
    "pd.get_dummies()\n",
    ".str\n",
    ".str.extract()\n",
    ".str.split() <추가>\n",
    ".extract\n",
    ".index\n",
    "dict\n",
    "zip\n",
    ".describe()\n",
    "pd.cut()\n",
    "del\n",
    ".columns\n",
    ".iloc[ : , : ]\n",
    ">```"
   ]
  },
  {
   "cell_type": "code",
   "execution_count": null,
   "metadata": {
    "id": "g2nP6G-w-gxe"
   },
   "outputs": [],
   "source": []
  }
 ],
 "metadata": {
  "colab": {
   "collapsed_sections": [
    "siM4UWH_-gw1",
    "jznSu1zM-gw2",
    "t6dVFicY-gw6",
    "zxXb0QMi-gw9",
    "NqTWcASA-gxA",
    "UsRKKj5_-gxC",
    "SnHQ_ybd-gxD",
    "ybzlydXm-gxE",
    "3GZ4JehN-gxF",
    "sxDhK53t-gxG",
    "-ybsFGNp-gxH",
    "icO3JmQe-gxI",
    "DleMZq_9-gxJ",
    "XtXyi2Bj-gxK",
    "VCPqBMa8-gxL",
    "jg691L4k-gxN",
    "T5k7GFvz-gxQ",
    "XyBjF8RZ-gxS",
    "PZNMa1MT-gxV",
    "-u0CJR_0-gxb"
   ],
   "name": "01_19_FE_assignment.ipynb",
   "provenance": []
  },
  "kernelspec": {
   "display_name": "Python 3",
   "language": "python",
   "name": "python3"
  },
  "language_info": {
   "codemirror_mode": {
    "name": "ipython",
    "version": 3
   },
   "file_extension": ".py",
   "mimetype": "text/x-python",
   "name": "python",
   "nbconvert_exporter": "python",
   "pygments_lexer": "ipython3",
   "version": "3.7.4"
  }
 },
 "nbformat": 4,
 "nbformat_minor": 1
}
